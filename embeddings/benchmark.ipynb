{
 "cells": [
  {
   "cell_type": "code",
   "execution_count": 18,
   "metadata": {},
   "outputs": [],
   "source": [
    "import pickle\n",
    "import networkx as nx\n",
    "import random\n",
    "import grape\n",
    "import numpy as np\n",
    "from pecanpy import pecanpy\n",
    "import time\n",
    "from gensim.models import Word2Vec\n",
    "import graphcuda\n",
    "import os\n",
    "import matplotlib.pyplot as plt\n",
    "from tqdm import tqdm\n",
    "\n",
    "folder = os.path.join(os.getcwd(), 'tmp')\n",
    "if not os.path.exists(folder):\n",
    "    os.makedirs(folder)\n",
    "figures = os.path.join(os.getcwd(), 'figures')\n",
    "if not os.path.exists(figures):\n",
    "    os.makedirs(figures)"
   ]
  },
  {
   "cell_type": "code",
   "execution_count": 8,
   "metadata": {},
   "outputs": [],
   "source": [
    "n_nodes   = 1000\n",
    "prob_edge = 1.2/(100-1)"
   ]
  },
  {
   "cell_type": "code",
   "execution_count": 30,
   "metadata": {},
   "outputs": [
    {
     "name": "stderr",
     "output_type": "stream",
     "text": [
      "N:   0%|                                                 | 0/10 [00:00<?, ?it/s]"
     ]
    },
    {
     "data": {
      "application/vnd.jupyter.widget-view+json": {
       "model_id": "c4bb3cc8c2a844ac85cdf79f6a184020",
       "version_major": 2,
       "version_minor": 0
      },
      "text/plain": [
       "  0%|          | 0/1000 [00:00<?, ?it/s]"
      ]
     },
     "metadata": {},
     "output_type": "display_data"
    },
    {
     "name": "stderr",
     "output_type": "stream",
     "text": [
      "N:  10%|████                                     | 1/10 [00:02<00:23,  2.59s/it]"
     ]
    },
    {
     "data": {
      "application/vnd.jupyter.widget-view+json": {
       "model_id": "0699680e90c74c0e83c5af4b8d94b827",
       "version_major": 2,
       "version_minor": 0
      },
      "text/plain": [
       "  0%|          | 0/10000 [00:00<?, ?it/s]"
      ]
     },
     "metadata": {},
     "output_type": "display_data"
    },
    {
     "name": "stderr",
     "output_type": "stream",
     "text": [
      "N:  20%|████████▏                                | 2/10 [00:07<00:30,  3.76s/it]"
     ]
    },
    {
     "data": {
      "application/vnd.jupyter.widget-view+json": {
       "model_id": "35826363d8574c1688d2fcebe67bff54",
       "version_major": 2,
       "version_minor": 0
      },
      "text/plain": [
       "  0%|          | 0/20000 [00:00<?, ?it/s]"
      ]
     },
     "metadata": {},
     "output_type": "display_data"
    },
    {
     "name": "stderr",
     "output_type": "stream",
     "text": [
      "N:  30%|████████████▎                            | 3/10 [00:14<00:37,  5.34s/it]"
     ]
    },
    {
     "data": {
      "application/vnd.jupyter.widget-view+json": {
       "model_id": "af32e530065f4f4fb2c771cc38c73021",
       "version_major": 2,
       "version_minor": 0
      },
      "text/plain": [
       "  0%|          | 0/30000 [00:00<?, ?it/s]"
      ]
     },
     "metadata": {},
     "output_type": "display_data"
    },
    {
     "name": "stderr",
     "output_type": "stream",
     "text": [
      "N:  40%|████████████████▍                        | 4/10 [00:24<00:42,  7.12s/it]"
     ]
    },
    {
     "data": {
      "application/vnd.jupyter.widget-view+json": {
       "model_id": "e9e3373823d3485a9b926c74a8545897",
       "version_major": 2,
       "version_minor": 0
      },
      "text/plain": [
       "  0%|          | 0/40000 [00:00<?, ?it/s]"
      ]
     },
     "metadata": {},
     "output_type": "display_data"
    },
    {
     "name": "stderr",
     "output_type": "stream",
     "text": [
      "N:  50%|████████████████████▌                    | 5/10 [00:36<00:45,  9.07s/it]"
     ]
    },
    {
     "data": {
      "application/vnd.jupyter.widget-view+json": {
       "model_id": "973222ea23aa4dbfb1174ef695821402",
       "version_major": 2,
       "version_minor": 0
      },
      "text/plain": [
       "  0%|          | 0/50000 [00:00<?, ?it/s]"
      ]
     },
     "metadata": {},
     "output_type": "display_data"
    },
    {
     "name": "stderr",
     "output_type": "stream",
     "text": [
      "N:  60%|████████████████████████▌                | 6/10 [00:51<00:44, 11.08s/it]"
     ]
    },
    {
     "data": {
      "application/vnd.jupyter.widget-view+json": {
       "model_id": "9e29a9445e624eb5af90aa89281c12b9",
       "version_major": 2,
       "version_minor": 0
      },
      "text/plain": [
       "  0%|          | 0/60000 [00:00<?, ?it/s]"
      ]
     },
     "metadata": {},
     "output_type": "display_data"
    },
    {
     "name": "stderr",
     "output_type": "stream",
     "text": [
      "N:  70%|████████████████████████████▋            | 7/10 [01:09<00:39, 13.27s/it]"
     ]
    },
    {
     "data": {
      "application/vnd.jupyter.widget-view+json": {
       "model_id": "102d6e6a4eb540599d7a9ecc0f844972",
       "version_major": 2,
       "version_minor": 0
      },
      "text/plain": [
       "  0%|          | 0/70000 [00:00<?, ?it/s]"
      ]
     },
     "metadata": {},
     "output_type": "display_data"
    },
    {
     "name": "stderr",
     "output_type": "stream",
     "text": [
      "N:  80%|████████████████████████████████▊        | 8/10 [01:32<00:32, 16.24s/it]"
     ]
    },
    {
     "data": {
      "application/vnd.jupyter.widget-view+json": {
       "model_id": "a670369f36ed4b00b316a89fa92ff8bb",
       "version_major": 2,
       "version_minor": 0
      },
      "text/plain": [
       "  0%|          | 0/80000 [00:00<?, ?it/s]"
      ]
     },
     "metadata": {},
     "output_type": "display_data"
    },
    {
     "name": "stderr",
     "output_type": "stream",
     "text": [
      "N:  90%|████████████████████████████████████▉    | 9/10 [01:58<00:19, 19.26s/it]"
     ]
    },
    {
     "data": {
      "application/vnd.jupyter.widget-view+json": {
       "model_id": "8206f4c7d0744bd7b89d9ce14fcbdd28",
       "version_major": 2,
       "version_minor": 0
      },
      "text/plain": [
       "  0%|          | 0/90000 [00:00<?, ?it/s]"
      ]
     },
     "metadata": {},
     "output_type": "display_data"
    },
    {
     "name": "stderr",
     "output_type": "stream",
     "text": [
      "                                                                                \r"
     ]
    }
   ],
   "source": [
    "DIMENSIONS = 128\n",
    "WALK_LEN = 100\n",
    "NUM_WALKS = 10\n",
    "\n",
    "grape_times = []\n",
    "grape_walks = []\n",
    "grape_embeddings = []\n",
    "\n",
    "pecanpy_times = []\n",
    "pecanpy_walks = []\n",
    "pecanpy_embeddings = []\n",
    "\n",
    "N = np.arange(1000, 10000, 1000, dtype=int)\n",
    "N = np.insert(N, 0, 100, axis=0)\n",
    "prob_edge = 1.2/(100-1)\n",
    "for n in tqdm(N, position=0, desc='N', leave=False, ncols=80):\n",
    "    G = graphcuda.generate_random_graph(n, prob_edge)\n",
    "    temp_path = os.path.join(folder, 'graph.tsv')\n",
    "    nx.write_weighted_edgelist(\n",
    "        G, \n",
    "        temp_path, \n",
    "        delimiter='\\t'\n",
    "    )\n",
    "    # GRAPE Model\n",
    "    grape_model = grape.Graph.from_csv(\n",
    "        # Edges related parameters\n",
    "\n",
    "        ## The path to the edges list tsv\n",
    "        edge_path=temp_path,\n",
    "        ## Set the tab as the separator between values\n",
    "        edge_list_separator=\"\\t\",\n",
    "        ## The first rows should NOT be used as the columns names\n",
    "        edge_list_header=False,\n",
    "        ## The source nodes are in the first nodes\n",
    "        sources_column_number=0,\n",
    "        ## The destination nodes are in the second column\n",
    "        destinations_column_number=1,\n",
    "        ## Both source and destinations columns use numeric node_ids instead of node names\n",
    "        edge_list_numeric_node_ids=True,\n",
    "        ## The weights are in the third column\n",
    "        weights_column_number=2,\n",
    "\n",
    "        # Graph related parameters\n",
    "        ## The graph is undirected\n",
    "        directed=False,\n",
    "        ## The name of the graph is HomoSapiens\n",
    "        name=\"Temp Grape Graph\",\n",
    "        ## Display a progress bar, (this might be in the terminal and not in the notebook)\n",
    "        verbose=True,\n",
    "    )\n",
    "\n",
    "    # PecanPy Model\n",
    "    pecanpy_model = pecanpy.SparseOTF(\n",
    "        p=1,\n",
    "        q=2,\n",
    "        workers=8,\n",
    "        verbose=True\n",
    "    )\n",
    "    pecanpy_model.read_edg(temp_path, weighted=True, directed=False)\n",
    "\n",
    "    start = time.time()\n",
    "    walk = grape_model.complete_walks(\n",
    "        walk_length=WALK_LEN,\n",
    "        iterations=NUM_WALKS,\n",
    "        return_weight=1, # p\n",
    "        explore_weight=2 # q\n",
    "    )\n",
    "    end = time.time()\n",
    "    grape_times.append(end - start)\n",
    "    grape_walks.append(walk)\n",
    "\n",
    "    start = time.time()\n",
    "    walk = pecanpy_model.simulate_walks(\n",
    "        num_walks=NUM_WALKS,\n",
    "        walk_length=WALK_LEN,\n",
    "    )\n",
    "    end = time.time()\n",
    "    pecanpy_times.append(end - start)\n",
    "    pecanpy_walks.append(walk)"
   ]
  },
  {
   "cell_type": "code",
   "execution_count": 31,
   "metadata": {},
   "outputs": [
    {
     "data": {
      "image/png": "[encoded data removed]",
      "text/plain": [
       "<Figure size 600x400 with 1 Axes>"
      ]
     },
     "metadata": {},
     "output_type": "display_data"
    }
   ],
   "source": [
    "plt.figure(figsize=(6, 4))\n",
    "plt.plot(N, grape_times, '-o', label='GRAPE')\n",
    "plt.plot(N, pecanpy_times, '-o', label='PecanPy')\n",
    "plt.xticks(N)\n",
    "plt.title(\"Running Times of Random Walk Generation\")\n",
    "plt.xlabel(\"Number of Vertices\")\n",
    "plt.ylabel('Time (s)')\n",
    "plt.legend()\n",
    "plt.savefig('./figures/gen_times.png', dpi=300)"
   ]
  }
 ],
 "metadata": {
  "kernelspec": {
   "display_name": "gnn",
   "language": "python",
   "name": "python3"
  },
  "language_info": {
   "codemirror_mode": {
    "name": "ipython",
    "version": 3
   },
   "file_extension": ".py",
   "mimetype": "text/x-python",
   "name": "python",
   "nbconvert_exporter": "python",
   "pygments_lexer": "ipython3",
   "version": "3.9.18"
  }
 },
 "nbformat": 4,
 "nbformat_minor": 2
}

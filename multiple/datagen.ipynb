{
 "cells": [
  {
   "cell_type": "code",
   "execution_count": 9,
   "metadata": {},
   "outputs": [],
   "source": [
    "import numpy as np\n",
    "import random\n",
    "import networkx as nx\n",
    "import pickle\n",
    "import time\n",
    "from scipy import sparse\n",
    "import torch\n",
    "from tqdm.auto import trange\n",
    "from xx_AllFunctions import gnp_random_connected_graph, get_adjacency_feature_centrality,distance_sum, get_adjacency_centrality, get_node_embedding, sparse_mx_to_torch_sparse_tensor"
   ]
  },
  {
   "cell_type": "code",
   "execution_count": 13,
   "metadata": {},
   "outputs": [],
   "source": [
    "def damage_graph(base_graph):\n",
    "    G0=base_graph.copy()\n",
    "    while True:\n",
    "        tempg=base_graph.copy()\n",
    "        ndel=list(np.random.randint(0,len(base_graph.edges())-1,random.randint(0,20)))\n",
    "        ndel.sort(reverse=True)\n",
    "        # ndel=i\n",
    "        try:\n",
    "            for j in range(len(ndel)):\n",
    "                u,v=list(base_graph.edges())[ndel[j]][0:2]\n",
    "                \n",
    "                tempg.remove_edge(u, v)\n",
    "            \n",
    "            if nx.is_connected(tempg):\n",
    "                for j in range(len(ndel)):\n",
    "                    u,v=list(base_graph.edges())[ndel[j]][0:2]\n",
    "                    # G0.remove_edge(u, v)\n",
    "                    G0.edges[u,v]['weight'] = 1000000000\n",
    "                break\n",
    "            else:\n",
    "                print(\"try again\")\n",
    "                continue\n",
    "        except KeyError:\n",
    "            continue\n",
    "        except  nx.NetworkXError:\n",
    "            continue\n",
    "    # list_node_weights_train.append(np.random.random(max_node).reshape(1,-1))\n",
    "    return G0.to_directed()\n",
    "\n",
    "def get_fm_centrality(graph: nx.Graph):\n",
    "    pfilename=\"test.edg\"\n",
    "\n",
    "    # ebc=nx.betweenness_centrality(g, weight = 'weight')\n",
    "    total_sum_new=distance_sum(graph)\n",
    "    # eff=total_sum_orig/total_sum_new\n",
    "    \n",
    "    centrality = total_sum_new\n",
    "        \n",
    "    # adj_mat = np.zeros((num_nodes,num_nodes))\n",
    "    # adj_mat_excerpt = get_adj_matrix(g).todense()\n",
    "    # adj_mat[0:adj_mat_excerpt.shape[0], 0:adj_mat_excerpt.shape[1]] = adj_mat_excerpt\n",
    "    # adj_mat = sparse.csr_matrix(adj_mat)\n",
    "    \n",
    "\n",
    "    \n",
    "    ndim = 256\n",
    "    feature_mat = np.zeros((graph.number_of_nodes(),ndim))\n",
    "    feature_mat_excerpt = get_node_embedding(graph, dimensions = ndim, walk_length = 50, num_walks = 50, workers = 12,pfilename=pfilename).todense()\n",
    "    feature_mat[0:feature_mat_excerpt.shape[0]] = feature_mat_excerpt\n",
    "    feature_mat = sparse.csr_matrix(feature_mat)\n",
    "\n",
    "    # adj_mat = sparse_mx_to_torch_sparse_tensor(adj_mat)  \n",
    "\n",
    "    feature_mat = sparse_mx_to_torch_sparse_tensor(feature_mat)\n",
    "\n",
    "    edge_index = torch.tensor(list(graph.edges)).t().contiguous()\n",
    "    edge_weight = torch.tensor([graph[u][v]['weight'] for u, v in graph.edges])\n",
    "\n",
    "    return edge_index, edge_weight, centrality, feature_mat\n",
    "\n",
    "def get_centrality(graph):\n",
    "    # ebc=nx.betweenness_centrality(g, weight = 'weight')\n",
    "    total_sum_new=distance_sum(graph)\n",
    "    # eff=total_sum_orig/total_sum_new\n",
    "    centrality = total_sum_new\n",
    "        \n",
    "    # adj_mat = np.zeros((num_nodes,num_nodes))\n",
    "    # adj_mat_excerpt = get_adj_matrix(g).todense()\n",
    "    # adj_mat[0:adj_mat_excerpt.shape[0], 0:adj_mat_excerpt.shape[1]] = adj_mat_excerpt\n",
    "    # adj_mat = sparse.csr_matrix(adj_mat)\n",
    "    \n",
    "    # adj_mat = sparse_mx_to_torch_sparse_tensor(adj_mat)  \n",
    "    # list_adj.append(adj_mat)\n",
    "    \n",
    "    edge_index = torch.tensor(list(graph.edges)).t().contiguous()\n",
    "    edge_weight = torch.tensor([graph[u][v]['weight'] for u, v in graph.edges])\n",
    "\n",
    "    return edge_index, edge_weight, centrality"
   ]
  },
  {
   "cell_type": "code",
   "execution_count": 14,
   "metadata": {},
   "outputs": [],
   "source": [
    "class GNNSample:\n",
    "    def __init__(self, base_graph):\n",
    "        self.base_graph = base_graph\n",
    "        self.mod_graph = damage_graph(base_graph)\n",
    "\n",
    "        self.base_edge_index, self.base_edge_weight, self.base_centrality, self.base_fm = get_fm_centrality(self.base_graph)\n",
    "        self.mod_edge_index, self.mod_edge_weight, self.mod_centrality = get_centrality(self.mod_graph)"
   ]
  },
  {
   "cell_type": "code",
   "execution_count": 15,
   "metadata": {},
   "outputs": [
    {
     "data": {
      "application/vnd.jupyter.widget-view+json": {
       "model_id": "8841a492f1a14540a1c7d1d9ac9fcb05",
       "version_major": 2,
       "version_minor": 0
      },
      "text/plain": [
       "  0%|          | 0/100 [00:00<?, ?it/s]"
      ]
     },
     "metadata": {},
     "output_type": "display_data"
    },
    {
     "name": "stdout",
     "output_type": "stream",
     "text": [
      "Edges: 2025\n",
      "Extend=True\n"
     ]
    },
    {
     "name": "stderr",
     "output_type": "stream",
     "text": [
      "c:\\Users\\Anderson\\miniconda3\\envs\\gnn\\lib\\site-packages\\pecanpy\\rw\\sparse_rw.py:30: RuntimeWarning: Mean of empty slice.\n",
      "  data[indptr[i] : indptr[i + 1]].mean()\n",
      "c:\\Users\\Anderson\\miniconda3\\envs\\gnn\\lib\\site-packages\\numpy\\core\\_methods.py:129: RuntimeWarning: invalid value encountered in divide\n",
      "  ret = ret.dtype.type(ret / rcount)\n",
      "c:\\Users\\Anderson\\miniconda3\\envs\\gnn\\lib\\site-packages\\numpy\\core\\_methods.py:206: RuntimeWarning: Degrees of freedom <= 0 for slice\n",
      "  ret = _var(a, axis=axis, dtype=dtype, out=out, ddof=ddof,\n",
      "c:\\Users\\Anderson\\miniconda3\\envs\\gnn\\lib\\site-packages\\numpy\\core\\_methods.py:163: RuntimeWarning: invalid value encountered in divide\n",
      "  arrmean = um.true_divide(arrmean, div, out=arrmean,\n",
      "c:\\Users\\Anderson\\miniconda3\\envs\\gnn\\lib\\site-packages\\numpy\\core\\_methods.py:198: RuntimeWarning: invalid value encountered in divide\n",
      "  ret = ret.dtype.type(ret / rcount)\n"
     ]
    },
    {
     "data": {
      "application/vnd.jupyter.widget-view+json": {
       "model_id": "61cbb596e7814fc4b2c547dc2ed0e134",
       "version_major": 2,
       "version_minor": 0
      },
      "text/plain": [
       "  0%|          | 0/5000 [00:00<?, ?it/s]"
      ]
     },
     "metadata": {},
     "output_type": "display_data"
    },
    {
     "name": "stdout",
     "output_type": "stream",
     "text": [
      "Pecanpy:8.448895692825317\n"
     ]
    },
    {
     "name": "stderr",
     "output_type": "stream",
     "text": [
      "c:\\Users\\Anderson\\Desktop\\gnn-transport\\multiple\\xx_AllFunctions.py:306: UserWarning: torch.sparse.SparseTensor(indices, values, shape, *, device=) is deprecated.  Please use torch.sparse_coo_tensor(indices, values, shape, dtype=, device=). (Triggered internally at C:\\cb\\pytorch_1000000000000\\work\\torch\\csrc\\utils\\tensor_new.cpp:620.)\n",
      "  return torch.sparse.FloatTensor(indices, values, shape)\n"
     ]
    },
    {
     "name": "stdout",
     "output_type": "stream",
     "text": [
      "Edges: 2025\n",
      "Extend=True\n"
     ]
    },
    {
     "name": "stderr",
     "output_type": "stream",
     "text": [
      "c:\\Users\\Anderson\\miniconda3\\envs\\gnn\\lib\\site-packages\\pecanpy\\rw\\sparse_rw.py:30: RuntimeWarning: Mean of empty slice.\n",
      "  data[indptr[i] : indptr[i + 1]].mean()\n",
      "c:\\Users\\Anderson\\miniconda3\\envs\\gnn\\lib\\site-packages\\numpy\\core\\_methods.py:129: RuntimeWarning: invalid value encountered in divide\n",
      "  ret = ret.dtype.type(ret / rcount)\n",
      "c:\\Users\\Anderson\\miniconda3\\envs\\gnn\\lib\\site-packages\\numpy\\core\\_methods.py:206: RuntimeWarning: Degrees of freedom <= 0 for slice\n",
      "  ret = _var(a, axis=axis, dtype=dtype, out=out, ddof=ddof,\n",
      "c:\\Users\\Anderson\\miniconda3\\envs\\gnn\\lib\\site-packages\\numpy\\core\\_methods.py:163: RuntimeWarning: invalid value encountered in divide\n",
      "  arrmean = um.true_divide(arrmean, div, out=arrmean,\n",
      "c:\\Users\\Anderson\\miniconda3\\envs\\gnn\\lib\\site-packages\\numpy\\core\\_methods.py:198: RuntimeWarning: invalid value encountered in divide\n",
      "  ret = ret.dtype.type(ret / rcount)\n"
     ]
    },
    {
     "data": {
      "application/vnd.jupyter.widget-view+json": {
       "model_id": "2498e4e4f3a04fdf86f02679051c3e96",
       "version_major": 2,
       "version_minor": 0
      },
      "text/plain": [
       "  0%|          | 0/5000 [00:00<?, ?it/s]"
      ]
     },
     "metadata": {},
     "output_type": "display_data"
    },
    {
     "name": "stdout",
     "output_type": "stream",
     "text": [
      "Pecanpy:4.374658823013306\n",
      "Edges: 2025\n",
      "Extend=True\n"
     ]
    },
    {
     "name": "stderr",
     "output_type": "stream",
     "text": [
      "c:\\Users\\Anderson\\miniconda3\\envs\\gnn\\lib\\site-packages\\pecanpy\\rw\\sparse_rw.py:30: RuntimeWarning: Mean of empty slice.\n",
      "  data[indptr[i] : indptr[i + 1]].mean()\n",
      "c:\\Users\\Anderson\\miniconda3\\envs\\gnn\\lib\\site-packages\\numpy\\core\\_methods.py:129: RuntimeWarning: invalid value encountered in divide\n",
      "  ret = ret.dtype.type(ret / rcount)\n",
      "c:\\Users\\Anderson\\miniconda3\\envs\\gnn\\lib\\site-packages\\numpy\\core\\_methods.py:206: RuntimeWarning: Degrees of freedom <= 0 for slice\n",
      "  ret = _var(a, axis=axis, dtype=dtype, out=out, ddof=ddof,\n",
      "c:\\Users\\Anderson\\miniconda3\\envs\\gnn\\lib\\site-packages\\numpy\\core\\_methods.py:163: RuntimeWarning: invalid value encountered in divide\n",
      "  arrmean = um.true_divide(arrmean, div, out=arrmean,\n",
      "c:\\Users\\Anderson\\miniconda3\\envs\\gnn\\lib\\site-packages\\numpy\\core\\_methods.py:198: RuntimeWarning: invalid value encountered in divide\n",
      "  ret = ret.dtype.type(ret / rcount)\n"
     ]
    },
    {
     "data": {
      "application/vnd.jupyter.widget-view+json": {
       "model_id": "4789f79b365e4f6e94f10dda4281b040",
       "version_major": 2,
       "version_minor": 0
      },
      "text/plain": [
       "  0%|          | 0/5000 [00:00<?, ?it/s]"
      ]
     },
     "metadata": {},
     "output_type": "display_data"
    },
    {
     "name": "stdout",
     "output_type": "stream",
     "text": [
      "Pecanpy:4.485618352890015\n",
      "Edges: 2025\n",
      "Extend=True\n"
     ]
    },
    {
     "name": "stderr",
     "output_type": "stream",
     "text": [
      "c:\\Users\\Anderson\\miniconda3\\envs\\gnn\\lib\\site-packages\\pecanpy\\rw\\sparse_rw.py:30: RuntimeWarning: Mean of empty slice.\n",
      "  data[indptr[i] : indptr[i + 1]].mean()\n",
      "c:\\Users\\Anderson\\miniconda3\\envs\\gnn\\lib\\site-packages\\numpy\\core\\_methods.py:129: RuntimeWarning: invalid value encountered in divide\n",
      "  ret = ret.dtype.type(ret / rcount)\n",
      "c:\\Users\\Anderson\\miniconda3\\envs\\gnn\\lib\\site-packages\\numpy\\core\\_methods.py:206: RuntimeWarning: Degrees of freedom <= 0 for slice\n",
      "  ret = _var(a, axis=axis, dtype=dtype, out=out, ddof=ddof,\n",
      "c:\\Users\\Anderson\\miniconda3\\envs\\gnn\\lib\\site-packages\\numpy\\core\\_methods.py:163: RuntimeWarning: invalid value encountered in divide\n",
      "  arrmean = um.true_divide(arrmean, div, out=arrmean,\n",
      "c:\\Users\\Anderson\\miniconda3\\envs\\gnn\\lib\\site-packages\\numpy\\core\\_methods.py:198: RuntimeWarning: invalid value encountered in divide\n",
      "  ret = ret.dtype.type(ret / rcount)\n"
     ]
    },
    {
     "data": {
      "application/vnd.jupyter.widget-view+json": {
       "model_id": "7b682c2ebda84cd2bae78f36bacea187",
       "version_major": 2,
       "version_minor": 0
      },
      "text/plain": [
       "  0%|          | 0/5000 [00:00<?, ?it/s]"
      ]
     },
     "metadata": {},
     "output_type": "display_data"
    },
    {
     "name": "stdout",
     "output_type": "stream",
     "text": [
      "Pecanpy:4.343054294586182\n",
      "Edges: 2025\n",
      "Extend=True\n"
     ]
    },
    {
     "name": "stderr",
     "output_type": "stream",
     "text": [
      "c:\\Users\\Anderson\\miniconda3\\envs\\gnn\\lib\\site-packages\\pecanpy\\rw\\sparse_rw.py:30: RuntimeWarning: Mean of empty slice.\n",
      "  data[indptr[i] : indptr[i + 1]].mean()\n",
      "c:\\Users\\Anderson\\miniconda3\\envs\\gnn\\lib\\site-packages\\numpy\\core\\_methods.py:129: RuntimeWarning: invalid value encountered in divide\n",
      "  ret = ret.dtype.type(ret / rcount)\n",
      "c:\\Users\\Anderson\\miniconda3\\envs\\gnn\\lib\\site-packages\\numpy\\core\\_methods.py:206: RuntimeWarning: Degrees of freedom <= 0 for slice\n",
      "  ret = _var(a, axis=axis, dtype=dtype, out=out, ddof=ddof,\n",
      "c:\\Users\\Anderson\\miniconda3\\envs\\gnn\\lib\\site-packages\\numpy\\core\\_methods.py:163: RuntimeWarning: invalid value encountered in divide\n",
      "  arrmean = um.true_divide(arrmean, div, out=arrmean,\n",
      "c:\\Users\\Anderson\\miniconda3\\envs\\gnn\\lib\\site-packages\\numpy\\core\\_methods.py:198: RuntimeWarning: invalid value encountered in divide\n",
      "  ret = ret.dtype.type(ret / rcount)\n"
     ]
    },
    {
     "data": {
      "application/vnd.jupyter.widget-view+json": {
       "model_id": "17d65285cc6a4ae59a819fa1f3a32530",
       "version_major": 2,
       "version_minor": 0
      },
      "text/plain": [
       "  0%|          | 0/5000 [00:00<?, ?it/s]"
      ]
     },
     "metadata": {},
     "output_type": "display_data"
    },
    {
     "name": "stdout",
     "output_type": "stream",
     "text": [
      "Pecanpy:4.480374813079834\n",
      "Edges: 2025\n",
      "Extend=True\n"
     ]
    },
    {
     "name": "stderr",
     "output_type": "stream",
     "text": [
      "c:\\Users\\Anderson\\miniconda3\\envs\\gnn\\lib\\site-packages\\pecanpy\\rw\\sparse_rw.py:30: RuntimeWarning: Mean of empty slice.\n",
      "  data[indptr[i] : indptr[i + 1]].mean()\n",
      "c:\\Users\\Anderson\\miniconda3\\envs\\gnn\\lib\\site-packages\\numpy\\core\\_methods.py:129: RuntimeWarning: invalid value encountered in divide\n",
      "  ret = ret.dtype.type(ret / rcount)\n",
      "c:\\Users\\Anderson\\miniconda3\\envs\\gnn\\lib\\site-packages\\numpy\\core\\_methods.py:206: RuntimeWarning: Degrees of freedom <= 0 for slice\n",
      "  ret = _var(a, axis=axis, dtype=dtype, out=out, ddof=ddof,\n",
      "c:\\Users\\Anderson\\miniconda3\\envs\\gnn\\lib\\site-packages\\numpy\\core\\_methods.py:163: RuntimeWarning: invalid value encountered in divide\n",
      "  arrmean = um.true_divide(arrmean, div, out=arrmean,\n",
      "c:\\Users\\Anderson\\miniconda3\\envs\\gnn\\lib\\site-packages\\numpy\\core\\_methods.py:198: RuntimeWarning: invalid value encountered in divide\n",
      "  ret = ret.dtype.type(ret / rcount)\n"
     ]
    },
    {
     "data": {
      "application/vnd.jupyter.widget-view+json": {
       "model_id": "3f834c4a1c6f455d87d7fb597ed5bd00",
       "version_major": 2,
       "version_minor": 0
      },
      "text/plain": [
       "  0%|          | 0/5000 [00:00<?, ?it/s]"
      ]
     },
     "metadata": {},
     "output_type": "display_data"
    },
    {
     "name": "stdout",
     "output_type": "stream",
     "text": [
      "Pecanpy:4.42086124420166\n",
      "Edges: 2025\n",
      "Extend=True\n"
     ]
    },
    {
     "name": "stderr",
     "output_type": "stream",
     "text": [
      "c:\\Users\\Anderson\\miniconda3\\envs\\gnn\\lib\\site-packages\\pecanpy\\rw\\sparse_rw.py:30: RuntimeWarning: Mean of empty slice.\n",
      "  data[indptr[i] : indptr[i + 1]].mean()\n",
      "c:\\Users\\Anderson\\miniconda3\\envs\\gnn\\lib\\site-packages\\numpy\\core\\_methods.py:129: RuntimeWarning: invalid value encountered in divide\n",
      "  ret = ret.dtype.type(ret / rcount)\n",
      "c:\\Users\\Anderson\\miniconda3\\envs\\gnn\\lib\\site-packages\\numpy\\core\\_methods.py:206: RuntimeWarning: Degrees of freedom <= 0 for slice\n",
      "  ret = _var(a, axis=axis, dtype=dtype, out=out, ddof=ddof,\n",
      "c:\\Users\\Anderson\\miniconda3\\envs\\gnn\\lib\\site-packages\\numpy\\core\\_methods.py:163: RuntimeWarning: invalid value encountered in divide\n",
      "  arrmean = um.true_divide(arrmean, div, out=arrmean,\n",
      "c:\\Users\\Anderson\\miniconda3\\envs\\gnn\\lib\\site-packages\\numpy\\core\\_methods.py:198: RuntimeWarning: invalid value encountered in divide\n",
      "  ret = ret.dtype.type(ret / rcount)\n"
     ]
    },
    {
     "data": {
      "application/vnd.jupyter.widget-view+json": {
       "model_id": "a06095db08f24ee3a96ea8efc3f40a04",
       "version_major": 2,
       "version_minor": 0
      },
      "text/plain": [
       "  0%|          | 0/5000 [00:00<?, ?it/s]"
      ]
     },
     "metadata": {},
     "output_type": "display_data"
    },
    {
     "name": "stdout",
     "output_type": "stream",
     "text": [
      "Pecanpy:4.467432260513306\n",
      "Edges: 2025\n",
      "Extend=True\n"
     ]
    },
    {
     "name": "stderr",
     "output_type": "stream",
     "text": [
      "c:\\Users\\Anderson\\miniconda3\\envs\\gnn\\lib\\site-packages\\pecanpy\\rw\\sparse_rw.py:30: RuntimeWarning: Mean of empty slice.\n",
      "  data[indptr[i] : indptr[i + 1]].mean()\n",
      "c:\\Users\\Anderson\\miniconda3\\envs\\gnn\\lib\\site-packages\\numpy\\core\\_methods.py:129: RuntimeWarning: invalid value encountered in divide\n",
      "  ret = ret.dtype.type(ret / rcount)\n",
      "c:\\Users\\Anderson\\miniconda3\\envs\\gnn\\lib\\site-packages\\numpy\\core\\_methods.py:206: RuntimeWarning: Degrees of freedom <= 0 for slice\n",
      "  ret = _var(a, axis=axis, dtype=dtype, out=out, ddof=ddof,\n",
      "c:\\Users\\Anderson\\miniconda3\\envs\\gnn\\lib\\site-packages\\numpy\\core\\_methods.py:163: RuntimeWarning: invalid value encountered in divide\n",
      "  arrmean = um.true_divide(arrmean, div, out=arrmean,\n",
      "c:\\Users\\Anderson\\miniconda3\\envs\\gnn\\lib\\site-packages\\numpy\\core\\_methods.py:198: RuntimeWarning: invalid value encountered in divide\n",
      "  ret = ret.dtype.type(ret / rcount)\n"
     ]
    },
    {
     "data": {
      "application/vnd.jupyter.widget-view+json": {
       "model_id": "37eddbd49cd14b61981c638104ff6c52",
       "version_major": 2,
       "version_minor": 0
      },
      "text/plain": [
       "  0%|          | 0/5000 [00:00<?, ?it/s]"
      ]
     },
     "metadata": {},
     "output_type": "display_data"
    },
    {
     "name": "stdout",
     "output_type": "stream",
     "text": [
      "Pecanpy:4.805453538894653\n",
      "Edges: 2025\n",
      "Extend=True\n"
     ]
    },
    {
     "name": "stderr",
     "output_type": "stream",
     "text": [
      "c:\\Users\\Anderson\\miniconda3\\envs\\gnn\\lib\\site-packages\\pecanpy\\rw\\sparse_rw.py:30: RuntimeWarning: Mean of empty slice.\n",
      "  data[indptr[i] : indptr[i + 1]].mean()\n",
      "c:\\Users\\Anderson\\miniconda3\\envs\\gnn\\lib\\site-packages\\numpy\\core\\_methods.py:129: RuntimeWarning: invalid value encountered in divide\n",
      "  ret = ret.dtype.type(ret / rcount)\n",
      "c:\\Users\\Anderson\\miniconda3\\envs\\gnn\\lib\\site-packages\\numpy\\core\\_methods.py:206: RuntimeWarning: Degrees of freedom <= 0 for slice\n",
      "  ret = _var(a, axis=axis, dtype=dtype, out=out, ddof=ddof,\n",
      "c:\\Users\\Anderson\\miniconda3\\envs\\gnn\\lib\\site-packages\\numpy\\core\\_methods.py:163: RuntimeWarning: invalid value encountered in divide\n",
      "  arrmean = um.true_divide(arrmean, div, out=arrmean,\n",
      "c:\\Users\\Anderson\\miniconda3\\envs\\gnn\\lib\\site-packages\\numpy\\core\\_methods.py:198: RuntimeWarning: invalid value encountered in divide\n",
      "  ret = ret.dtype.type(ret / rcount)\n"
     ]
    },
    {
     "data": {
      "application/vnd.jupyter.widget-view+json": {
       "model_id": "5f5171177b6a4455a437dd657e65b0e2",
       "version_major": 2,
       "version_minor": 0
      },
      "text/plain": [
       "  0%|          | 0/5000 [00:00<?, ?it/s]"
      ]
     },
     "metadata": {},
     "output_type": "display_data"
    },
    {
     "name": "stdout",
     "output_type": "stream",
     "text": [
      "Pecanpy:4.359551906585693\n",
      "Edges: 2025\n",
      "Extend=True\n"
     ]
    },
    {
     "name": "stderr",
     "output_type": "stream",
     "text": [
      "c:\\Users\\Anderson\\miniconda3\\envs\\gnn\\lib\\site-packages\\pecanpy\\rw\\sparse_rw.py:30: RuntimeWarning: Mean of empty slice.\n",
      "  data[indptr[i] : indptr[i + 1]].mean()\n",
      "c:\\Users\\Anderson\\miniconda3\\envs\\gnn\\lib\\site-packages\\numpy\\core\\_methods.py:129: RuntimeWarning: invalid value encountered in divide\n",
      "  ret = ret.dtype.type(ret / rcount)\n",
      "c:\\Users\\Anderson\\miniconda3\\envs\\gnn\\lib\\site-packages\\numpy\\core\\_methods.py:206: RuntimeWarning: Degrees of freedom <= 0 for slice\n",
      "  ret = _var(a, axis=axis, dtype=dtype, out=out, ddof=ddof,\n",
      "c:\\Users\\Anderson\\miniconda3\\envs\\gnn\\lib\\site-packages\\numpy\\core\\_methods.py:163: RuntimeWarning: invalid value encountered in divide\n",
      "  arrmean = um.true_divide(arrmean, div, out=arrmean,\n",
      "c:\\Users\\Anderson\\miniconda3\\envs\\gnn\\lib\\site-packages\\numpy\\core\\_methods.py:198: RuntimeWarning: invalid value encountered in divide\n",
      "  ret = ret.dtype.type(ret / rcount)\n"
     ]
    },
    {
     "data": {
      "application/vnd.jupyter.widget-view+json": {
       "model_id": "ba85354be4fa4917a75ce51f3f48fabb",
       "version_major": 2,
       "version_minor": 0
      },
      "text/plain": [
       "  0%|          | 0/5000 [00:00<?, ?it/s]"
      ]
     },
     "metadata": {},
     "output_type": "display_data"
    },
    {
     "name": "stdout",
     "output_type": "stream",
     "text": [
      "Pecanpy:4.548422813415527\n",
      "Edges: 2025\n",
      "Extend=True\n"
     ]
    },
    {
     "name": "stderr",
     "output_type": "stream",
     "text": [
      "c:\\Users\\Anderson\\miniconda3\\envs\\gnn\\lib\\site-packages\\pecanpy\\rw\\sparse_rw.py:30: RuntimeWarning: Mean of empty slice.\n",
      "  data[indptr[i] : indptr[i + 1]].mean()\n",
      "c:\\Users\\Anderson\\miniconda3\\envs\\gnn\\lib\\site-packages\\numpy\\core\\_methods.py:129: RuntimeWarning: invalid value encountered in divide\n",
      "  ret = ret.dtype.type(ret / rcount)\n",
      "c:\\Users\\Anderson\\miniconda3\\envs\\gnn\\lib\\site-packages\\numpy\\core\\_methods.py:206: RuntimeWarning: Degrees of freedom <= 0 for slice\n",
      "  ret = _var(a, axis=axis, dtype=dtype, out=out, ddof=ddof,\n",
      "c:\\Users\\Anderson\\miniconda3\\envs\\gnn\\lib\\site-packages\\numpy\\core\\_methods.py:163: RuntimeWarning: invalid value encountered in divide\n",
      "  arrmean = um.true_divide(arrmean, div, out=arrmean,\n",
      "c:\\Users\\Anderson\\miniconda3\\envs\\gnn\\lib\\site-packages\\numpy\\core\\_methods.py:198: RuntimeWarning: invalid value encountered in divide\n",
      "  ret = ret.dtype.type(ret / rcount)\n"
     ]
    },
    {
     "data": {
      "application/vnd.jupyter.widget-view+json": {
       "model_id": "e2b9f828c9e44ca291bc9ac59c2155a5",
       "version_major": 2,
       "version_minor": 0
      },
      "text/plain": [
       "  0%|          | 0/5000 [00:00<?, ?it/s]"
      ]
     },
     "metadata": {},
     "output_type": "display_data"
    },
    {
     "name": "stdout",
     "output_type": "stream",
     "text": [
      "Pecanpy:4.65906834602356\n",
      "Edges: 2025\n",
      "Extend=True\n"
     ]
    },
    {
     "name": "stderr",
     "output_type": "stream",
     "text": [
      "c:\\Users\\Anderson\\miniconda3\\envs\\gnn\\lib\\site-packages\\pecanpy\\rw\\sparse_rw.py:30: RuntimeWarning: Mean of empty slice.\n",
      "  data[indptr[i] : indptr[i + 1]].mean()\n",
      "c:\\Users\\Anderson\\miniconda3\\envs\\gnn\\lib\\site-packages\\numpy\\core\\_methods.py:129: RuntimeWarning: invalid value encountered in divide\n",
      "  ret = ret.dtype.type(ret / rcount)\n",
      "c:\\Users\\Anderson\\miniconda3\\envs\\gnn\\lib\\site-packages\\numpy\\core\\_methods.py:206: RuntimeWarning: Degrees of freedom <= 0 for slice\n",
      "  ret = _var(a, axis=axis, dtype=dtype, out=out, ddof=ddof,\n",
      "c:\\Users\\Anderson\\miniconda3\\envs\\gnn\\lib\\site-packages\\numpy\\core\\_methods.py:163: RuntimeWarning: invalid value encountered in divide\n",
      "  arrmean = um.true_divide(arrmean, div, out=arrmean,\n",
      "c:\\Users\\Anderson\\miniconda3\\envs\\gnn\\lib\\site-packages\\numpy\\core\\_methods.py:198: RuntimeWarning: invalid value encountered in divide\n",
      "  ret = ret.dtype.type(ret / rcount)\n"
     ]
    },
    {
     "data": {
      "application/vnd.jupyter.widget-view+json": {
       "model_id": "d799bf8c794246678706b98877993b59",
       "version_major": 2,
       "version_minor": 0
      },
      "text/plain": [
       "  0%|          | 0/5000 [00:00<?, ?it/s]"
      ]
     },
     "metadata": {},
     "output_type": "display_data"
    },
    {
     "name": "stdout",
     "output_type": "stream",
     "text": [
      "Pecanpy:4.617999315261841\n",
      "Edges: 2025\n",
      "Extend=True\n"
     ]
    },
    {
     "name": "stderr",
     "output_type": "stream",
     "text": [
      "c:\\Users\\Anderson\\miniconda3\\envs\\gnn\\lib\\site-packages\\pecanpy\\rw\\sparse_rw.py:30: RuntimeWarning: Mean of empty slice.\n",
      "  data[indptr[i] : indptr[i + 1]].mean()\n",
      "c:\\Users\\Anderson\\miniconda3\\envs\\gnn\\lib\\site-packages\\numpy\\core\\_methods.py:129: RuntimeWarning: invalid value encountered in divide\n",
      "  ret = ret.dtype.type(ret / rcount)\n",
      "c:\\Users\\Anderson\\miniconda3\\envs\\gnn\\lib\\site-packages\\numpy\\core\\_methods.py:206: RuntimeWarning: Degrees of freedom <= 0 for slice\n",
      "  ret = _var(a, axis=axis, dtype=dtype, out=out, ddof=ddof,\n",
      "c:\\Users\\Anderson\\miniconda3\\envs\\gnn\\lib\\site-packages\\numpy\\core\\_methods.py:163: RuntimeWarning: invalid value encountered in divide\n",
      "  arrmean = um.true_divide(arrmean, div, out=arrmean,\n",
      "c:\\Users\\Anderson\\miniconda3\\envs\\gnn\\lib\\site-packages\\numpy\\core\\_methods.py:198: RuntimeWarning: invalid value encountered in divide\n",
      "  ret = ret.dtype.type(ret / rcount)\n"
     ]
    },
    {
     "data": {
      "application/vnd.jupyter.widget-view+json": {
       "model_id": "5e488586745749c9be2b9025376873df",
       "version_major": 2,
       "version_minor": 0
      },
      "text/plain": [
       "  0%|          | 0/5000 [00:00<?, ?it/s]"
      ]
     },
     "metadata": {},
     "output_type": "display_data"
    },
    {
     "name": "stdout",
     "output_type": "stream",
     "text": [
      "Pecanpy:4.19883394241333\n",
      "Edges: 2025\n",
      "Extend=True\n"
     ]
    },
    {
     "name": "stderr",
     "output_type": "stream",
     "text": [
      "c:\\Users\\Anderson\\miniconda3\\envs\\gnn\\lib\\site-packages\\pecanpy\\rw\\sparse_rw.py:30: RuntimeWarning: Mean of empty slice.\n",
      "  data[indptr[i] : indptr[i + 1]].mean()\n",
      "c:\\Users\\Anderson\\miniconda3\\envs\\gnn\\lib\\site-packages\\numpy\\core\\_methods.py:129: RuntimeWarning: invalid value encountered in divide\n",
      "  ret = ret.dtype.type(ret / rcount)\n",
      "c:\\Users\\Anderson\\miniconda3\\envs\\gnn\\lib\\site-packages\\numpy\\core\\_methods.py:206: RuntimeWarning: Degrees of freedom <= 0 for slice\n",
      "  ret = _var(a, axis=axis, dtype=dtype, out=out, ddof=ddof,\n",
      "c:\\Users\\Anderson\\miniconda3\\envs\\gnn\\lib\\site-packages\\numpy\\core\\_methods.py:163: RuntimeWarning: invalid value encountered in divide\n",
      "  arrmean = um.true_divide(arrmean, div, out=arrmean,\n",
      "c:\\Users\\Anderson\\miniconda3\\envs\\gnn\\lib\\site-packages\\numpy\\core\\_methods.py:198: RuntimeWarning: invalid value encountered in divide\n",
      "  ret = ret.dtype.type(ret / rcount)\n"
     ]
    },
    {
     "data": {
      "application/vnd.jupyter.widget-view+json": {
       "model_id": "4a2cc18c6613448581a4919735b92427",
       "version_major": 2,
       "version_minor": 0
      },
      "text/plain": [
       "  0%|          | 0/5000 [00:00<?, ?it/s]"
      ]
     },
     "metadata": {},
     "output_type": "display_data"
    },
    {
     "name": "stdout",
     "output_type": "stream",
     "text": [
      "Pecanpy:4.488332271575928\n",
      "Edges: 2025\n",
      "Extend=True\n"
     ]
    },
    {
     "name": "stderr",
     "output_type": "stream",
     "text": [
      "c:\\Users\\Anderson\\miniconda3\\envs\\gnn\\lib\\site-packages\\pecanpy\\rw\\sparse_rw.py:30: RuntimeWarning: Mean of empty slice.\n",
      "  data[indptr[i] : indptr[i + 1]].mean()\n",
      "c:\\Users\\Anderson\\miniconda3\\envs\\gnn\\lib\\site-packages\\numpy\\core\\_methods.py:129: RuntimeWarning: invalid value encountered in divide\n",
      "  ret = ret.dtype.type(ret / rcount)\n",
      "c:\\Users\\Anderson\\miniconda3\\envs\\gnn\\lib\\site-packages\\numpy\\core\\_methods.py:206: RuntimeWarning: Degrees of freedom <= 0 for slice\n",
      "  ret = _var(a, axis=axis, dtype=dtype, out=out, ddof=ddof,\n",
      "c:\\Users\\Anderson\\miniconda3\\envs\\gnn\\lib\\site-packages\\numpy\\core\\_methods.py:163: RuntimeWarning: invalid value encountered in divide\n",
      "  arrmean = um.true_divide(arrmean, div, out=arrmean,\n",
      "c:\\Users\\Anderson\\miniconda3\\envs\\gnn\\lib\\site-packages\\numpy\\core\\_methods.py:198: RuntimeWarning: invalid value encountered in divide\n",
      "  ret = ret.dtype.type(ret / rcount)\n"
     ]
    },
    {
     "data": {
      "application/vnd.jupyter.widget-view+json": {
       "model_id": "b97f809accad4a1686c416e58e5d00a8",
       "version_major": 2,
       "version_minor": 0
      },
      "text/plain": [
       "  0%|          | 0/5000 [00:00<?, ?it/s]"
      ]
     },
     "metadata": {},
     "output_type": "display_data"
    },
    {
     "name": "stdout",
     "output_type": "stream",
     "text": [
      "Pecanpy:4.446141719818115\n",
      "Edges: 2025\n",
      "Extend=True\n"
     ]
    },
    {
     "name": "stderr",
     "output_type": "stream",
     "text": [
      "c:\\Users\\Anderson\\miniconda3\\envs\\gnn\\lib\\site-packages\\pecanpy\\rw\\sparse_rw.py:30: RuntimeWarning: Mean of empty slice.\n",
      "  data[indptr[i] : indptr[i + 1]].mean()\n",
      "c:\\Users\\Anderson\\miniconda3\\envs\\gnn\\lib\\site-packages\\numpy\\core\\_methods.py:129: RuntimeWarning: invalid value encountered in divide\n",
      "  ret = ret.dtype.type(ret / rcount)\n",
      "c:\\Users\\Anderson\\miniconda3\\envs\\gnn\\lib\\site-packages\\numpy\\core\\_methods.py:206: RuntimeWarning: Degrees of freedom <= 0 for slice\n",
      "  ret = _var(a, axis=axis, dtype=dtype, out=out, ddof=ddof,\n",
      "c:\\Users\\Anderson\\miniconda3\\envs\\gnn\\lib\\site-packages\\numpy\\core\\_methods.py:163: RuntimeWarning: invalid value encountered in divide\n",
      "  arrmean = um.true_divide(arrmean, div, out=arrmean,\n",
      "c:\\Users\\Anderson\\miniconda3\\envs\\gnn\\lib\\site-packages\\numpy\\core\\_methods.py:198: RuntimeWarning: invalid value encountered in divide\n",
      "  ret = ret.dtype.type(ret / rcount)\n"
     ]
    },
    {
     "data": {
      "application/vnd.jupyter.widget-view+json": {
       "model_id": "c701f122bec0479c90885e80bc142c70",
       "version_major": 2,
       "version_minor": 0
      },
      "text/plain": [
       "  0%|          | 0/5000 [00:00<?, ?it/s]"
      ]
     },
     "metadata": {},
     "output_type": "display_data"
    },
    {
     "name": "stdout",
     "output_type": "stream",
     "text": [
      "Pecanpy:4.404613018035889\n",
      "try again\n",
      "Edges: 2025\n",
      "Extend=True\n"
     ]
    },
    {
     "name": "stderr",
     "output_type": "stream",
     "text": [
      "c:\\Users\\Anderson\\miniconda3\\envs\\gnn\\lib\\site-packages\\pecanpy\\rw\\sparse_rw.py:30: RuntimeWarning: Mean of empty slice.\n",
      "  data[indptr[i] : indptr[i + 1]].mean()\n",
      "c:\\Users\\Anderson\\miniconda3\\envs\\gnn\\lib\\site-packages\\numpy\\core\\_methods.py:129: RuntimeWarning: invalid value encountered in divide\n",
      "  ret = ret.dtype.type(ret / rcount)\n",
      "c:\\Users\\Anderson\\miniconda3\\envs\\gnn\\lib\\site-packages\\numpy\\core\\_methods.py:206: RuntimeWarning: Degrees of freedom <= 0 for slice\n",
      "  ret = _var(a, axis=axis, dtype=dtype, out=out, ddof=ddof,\n",
      "c:\\Users\\Anderson\\miniconda3\\envs\\gnn\\lib\\site-packages\\numpy\\core\\_methods.py:163: RuntimeWarning: invalid value encountered in divide\n",
      "  arrmean = um.true_divide(arrmean, div, out=arrmean,\n",
      "c:\\Users\\Anderson\\miniconda3\\envs\\gnn\\lib\\site-packages\\numpy\\core\\_methods.py:198: RuntimeWarning: invalid value encountered in divide\n",
      "  ret = ret.dtype.type(ret / rcount)\n"
     ]
    },
    {
     "data": {
      "application/vnd.jupyter.widget-view+json": {
       "model_id": "0f84d731abcf46bea0edfd1d6afb4ebf",
       "version_major": 2,
       "version_minor": 0
      },
      "text/plain": [
       "  0%|          | 0/5000 [00:00<?, ?it/s]"
      ]
     },
     "metadata": {},
     "output_type": "display_data"
    },
    {
     "name": "stdout",
     "output_type": "stream",
     "text": [
      "Pecanpy:4.741537094116211\n",
      "Edges: 2025\n",
      "Extend=True\n"
     ]
    },
    {
     "name": "stderr",
     "output_type": "stream",
     "text": [
      "c:\\Users\\Anderson\\miniconda3\\envs\\gnn\\lib\\site-packages\\pecanpy\\rw\\sparse_rw.py:30: RuntimeWarning: Mean of empty slice.\n",
      "  data[indptr[i] : indptr[i + 1]].mean()\n",
      "c:\\Users\\Anderson\\miniconda3\\envs\\gnn\\lib\\site-packages\\numpy\\core\\_methods.py:129: RuntimeWarning: invalid value encountered in divide\n",
      "  ret = ret.dtype.type(ret / rcount)\n",
      "c:\\Users\\Anderson\\miniconda3\\envs\\gnn\\lib\\site-packages\\numpy\\core\\_methods.py:206: RuntimeWarning: Degrees of freedom <= 0 for slice\n",
      "  ret = _var(a, axis=axis, dtype=dtype, out=out, ddof=ddof,\n",
      "c:\\Users\\Anderson\\miniconda3\\envs\\gnn\\lib\\site-packages\\numpy\\core\\_methods.py:163: RuntimeWarning: invalid value encountered in divide\n",
      "  arrmean = um.true_divide(arrmean, div, out=arrmean,\n",
      "c:\\Users\\Anderson\\miniconda3\\envs\\gnn\\lib\\site-packages\\numpy\\core\\_methods.py:198: RuntimeWarning: invalid value encountered in divide\n",
      "  ret = ret.dtype.type(ret / rcount)\n"
     ]
    },
    {
     "data": {
      "application/vnd.jupyter.widget-view+json": {
       "model_id": "0f234568099c46a09c6471443dfcb04a",
       "version_major": 2,
       "version_minor": 0
      },
      "text/plain": [
       "  0%|          | 0/5000 [00:00<?, ?it/s]"
      ]
     },
     "metadata": {},
     "output_type": "display_data"
    },
    {
     "name": "stdout",
     "output_type": "stream",
     "text": [
      "Pecanpy:4.317008972167969\n",
      "Edges: 2025\n",
      "Extend=True\n"
     ]
    },
    {
     "name": "stderr",
     "output_type": "stream",
     "text": [
      "c:\\Users\\Anderson\\miniconda3\\envs\\gnn\\lib\\site-packages\\pecanpy\\rw\\sparse_rw.py:30: RuntimeWarning: Mean of empty slice.\n",
      "  data[indptr[i] : indptr[i + 1]].mean()\n",
      "c:\\Users\\Anderson\\miniconda3\\envs\\gnn\\lib\\site-packages\\numpy\\core\\_methods.py:129: RuntimeWarning: invalid value encountered in divide\n",
      "  ret = ret.dtype.type(ret / rcount)\n",
      "c:\\Users\\Anderson\\miniconda3\\envs\\gnn\\lib\\site-packages\\numpy\\core\\_methods.py:206: RuntimeWarning: Degrees of freedom <= 0 for slice\n",
      "  ret = _var(a, axis=axis, dtype=dtype, out=out, ddof=ddof,\n",
      "c:\\Users\\Anderson\\miniconda3\\envs\\gnn\\lib\\site-packages\\numpy\\core\\_methods.py:163: RuntimeWarning: invalid value encountered in divide\n",
      "  arrmean = um.true_divide(arrmean, div, out=arrmean,\n",
      "c:\\Users\\Anderson\\miniconda3\\envs\\gnn\\lib\\site-packages\\numpy\\core\\_methods.py:198: RuntimeWarning: invalid value encountered in divide\n",
      "  ret = ret.dtype.type(ret / rcount)\n"
     ]
    },
    {
     "data": {
      "application/vnd.jupyter.widget-view+json": {
       "model_id": "642afb621aab45f887bff7d5f58caed2",
       "version_major": 2,
       "version_minor": 0
      },
      "text/plain": [
       "  0%|          | 0/5000 [00:00<?, ?it/s]"
      ]
     },
     "metadata": {},
     "output_type": "display_data"
    },
    {
     "name": "stdout",
     "output_type": "stream",
     "text": [
      "Pecanpy:4.802854061126709\n",
      "Edges: 2025\n",
      "Extend=True\n"
     ]
    },
    {
     "name": "stderr",
     "output_type": "stream",
     "text": [
      "c:\\Users\\Anderson\\miniconda3\\envs\\gnn\\lib\\site-packages\\pecanpy\\rw\\sparse_rw.py:30: RuntimeWarning: Mean of empty slice.\n",
      "  data[indptr[i] : indptr[i + 1]].mean()\n",
      "c:\\Users\\Anderson\\miniconda3\\envs\\gnn\\lib\\site-packages\\numpy\\core\\_methods.py:129: RuntimeWarning: invalid value encountered in divide\n",
      "  ret = ret.dtype.type(ret / rcount)\n",
      "c:\\Users\\Anderson\\miniconda3\\envs\\gnn\\lib\\site-packages\\numpy\\core\\_methods.py:206: RuntimeWarning: Degrees of freedom <= 0 for slice\n",
      "  ret = _var(a, axis=axis, dtype=dtype, out=out, ddof=ddof,\n",
      "c:\\Users\\Anderson\\miniconda3\\envs\\gnn\\lib\\site-packages\\numpy\\core\\_methods.py:163: RuntimeWarning: invalid value encountered in divide\n",
      "  arrmean = um.true_divide(arrmean, div, out=arrmean,\n",
      "c:\\Users\\Anderson\\miniconda3\\envs\\gnn\\lib\\site-packages\\numpy\\core\\_methods.py:198: RuntimeWarning: invalid value encountered in divide\n",
      "  ret = ret.dtype.type(ret / rcount)\n"
     ]
    },
    {
     "data": {
      "application/vnd.jupyter.widget-view+json": {
       "model_id": "27b877c1ef8349e0b6b884fa6f11a1e3",
       "version_major": 2,
       "version_minor": 0
      },
      "text/plain": [
       "  0%|          | 0/5000 [00:00<?, ?it/s]"
      ]
     },
     "metadata": {},
     "output_type": "display_data"
    },
    {
     "name": "stdout",
     "output_type": "stream",
     "text": [
      "Pecanpy:4.575601100921631\n",
      "Edges: 2025\n",
      "Extend=True\n"
     ]
    },
    {
     "name": "stderr",
     "output_type": "stream",
     "text": [
      "c:\\Users\\Anderson\\miniconda3\\envs\\gnn\\lib\\site-packages\\pecanpy\\rw\\sparse_rw.py:30: RuntimeWarning: Mean of empty slice.\n",
      "  data[indptr[i] : indptr[i + 1]].mean()\n",
      "c:\\Users\\Anderson\\miniconda3\\envs\\gnn\\lib\\site-packages\\numpy\\core\\_methods.py:129: RuntimeWarning: invalid value encountered in divide\n",
      "  ret = ret.dtype.type(ret / rcount)\n",
      "c:\\Users\\Anderson\\miniconda3\\envs\\gnn\\lib\\site-packages\\numpy\\core\\_methods.py:206: RuntimeWarning: Degrees of freedom <= 0 for slice\n",
      "  ret = _var(a, axis=axis, dtype=dtype, out=out, ddof=ddof,\n",
      "c:\\Users\\Anderson\\miniconda3\\envs\\gnn\\lib\\site-packages\\numpy\\core\\_methods.py:163: RuntimeWarning: invalid value encountered in divide\n",
      "  arrmean = um.true_divide(arrmean, div, out=arrmean,\n",
      "c:\\Users\\Anderson\\miniconda3\\envs\\gnn\\lib\\site-packages\\numpy\\core\\_methods.py:198: RuntimeWarning: invalid value encountered in divide\n",
      "  ret = ret.dtype.type(ret / rcount)\n"
     ]
    },
    {
     "data": {
      "application/vnd.jupyter.widget-view+json": {
       "model_id": "14e239c724ca4cf3a3c64e163ad00245",
       "version_major": 2,
       "version_minor": 0
      },
      "text/plain": [
       "  0%|          | 0/5000 [00:00<?, ?it/s]"
      ]
     },
     "metadata": {},
     "output_type": "display_data"
    },
    {
     "name": "stdout",
     "output_type": "stream",
     "text": [
      "Pecanpy:4.869751214981079\n",
      "Edges: 2025\n",
      "Extend=True\n"
     ]
    },
    {
     "name": "stderr",
     "output_type": "stream",
     "text": [
      "c:\\Users\\Anderson\\miniconda3\\envs\\gnn\\lib\\site-packages\\pecanpy\\rw\\sparse_rw.py:30: RuntimeWarning: Mean of empty slice.\n",
      "  data[indptr[i] : indptr[i + 1]].mean()\n",
      "c:\\Users\\Anderson\\miniconda3\\envs\\gnn\\lib\\site-packages\\numpy\\core\\_methods.py:129: RuntimeWarning: invalid value encountered in divide\n",
      "  ret = ret.dtype.type(ret / rcount)\n",
      "c:\\Users\\Anderson\\miniconda3\\envs\\gnn\\lib\\site-packages\\numpy\\core\\_methods.py:206: RuntimeWarning: Degrees of freedom <= 0 for slice\n",
      "  ret = _var(a, axis=axis, dtype=dtype, out=out, ddof=ddof,\n",
      "c:\\Users\\Anderson\\miniconda3\\envs\\gnn\\lib\\site-packages\\numpy\\core\\_methods.py:163: RuntimeWarning: invalid value encountered in divide\n",
      "  arrmean = um.true_divide(arrmean, div, out=arrmean,\n",
      "c:\\Users\\Anderson\\miniconda3\\envs\\gnn\\lib\\site-packages\\numpy\\core\\_methods.py:198: RuntimeWarning: invalid value encountered in divide\n",
      "  ret = ret.dtype.type(ret / rcount)\n"
     ]
    },
    {
     "data": {
      "application/vnd.jupyter.widget-view+json": {
       "model_id": "b4b77185b91243ab847b63868d81b4f2",
       "version_major": 2,
       "version_minor": 0
      },
      "text/plain": [
       "  0%|          | 0/5000 [00:00<?, ?it/s]"
      ]
     },
     "metadata": {},
     "output_type": "display_data"
    },
    {
     "name": "stdout",
     "output_type": "stream",
     "text": [
      "Pecanpy:4.528156042098999\n",
      "Edges: 2025\n",
      "Extend=True\n"
     ]
    },
    {
     "name": "stderr",
     "output_type": "stream",
     "text": [
      "c:\\Users\\Anderson\\miniconda3\\envs\\gnn\\lib\\site-packages\\pecanpy\\rw\\sparse_rw.py:30: RuntimeWarning: Mean of empty slice.\n",
      "  data[indptr[i] : indptr[i + 1]].mean()\n",
      "c:\\Users\\Anderson\\miniconda3\\envs\\gnn\\lib\\site-packages\\numpy\\core\\_methods.py:129: RuntimeWarning: invalid value encountered in divide\n",
      "  ret = ret.dtype.type(ret / rcount)\n",
      "c:\\Users\\Anderson\\miniconda3\\envs\\gnn\\lib\\site-packages\\numpy\\core\\_methods.py:206: RuntimeWarning: Degrees of freedom <= 0 for slice\n",
      "  ret = _var(a, axis=axis, dtype=dtype, out=out, ddof=ddof,\n",
      "c:\\Users\\Anderson\\miniconda3\\envs\\gnn\\lib\\site-packages\\numpy\\core\\_methods.py:163: RuntimeWarning: invalid value encountered in divide\n",
      "  arrmean = um.true_divide(arrmean, div, out=arrmean,\n",
      "c:\\Users\\Anderson\\miniconda3\\envs\\gnn\\lib\\site-packages\\numpy\\core\\_methods.py:198: RuntimeWarning: invalid value encountered in divide\n",
      "  ret = ret.dtype.type(ret / rcount)\n"
     ]
    },
    {
     "data": {
      "application/vnd.jupyter.widget-view+json": {
       "model_id": "9763d692894b4b4d853c93263d3da175",
       "version_major": 2,
       "version_minor": 0
      },
      "text/plain": [
       "  0%|          | 0/5000 [00:00<?, ?it/s]"
      ]
     },
     "metadata": {},
     "output_type": "display_data"
    },
    {
     "name": "stdout",
     "output_type": "stream",
     "text": [
      "Pecanpy:4.300405740737915\n",
      "Edges: 2025\n",
      "Extend=True\n"
     ]
    },
    {
     "name": "stderr",
     "output_type": "stream",
     "text": [
      "c:\\Users\\Anderson\\miniconda3\\envs\\gnn\\lib\\site-packages\\pecanpy\\rw\\sparse_rw.py:30: RuntimeWarning: Mean of empty slice.\n",
      "  data[indptr[i] : indptr[i + 1]].mean()\n",
      "c:\\Users\\Anderson\\miniconda3\\envs\\gnn\\lib\\site-packages\\numpy\\core\\_methods.py:129: RuntimeWarning: invalid value encountered in divide\n",
      "  ret = ret.dtype.type(ret / rcount)\n",
      "c:\\Users\\Anderson\\miniconda3\\envs\\gnn\\lib\\site-packages\\numpy\\core\\_methods.py:206: RuntimeWarning: Degrees of freedom <= 0 for slice\n",
      "  ret = _var(a, axis=axis, dtype=dtype, out=out, ddof=ddof,\n",
      "c:\\Users\\Anderson\\miniconda3\\envs\\gnn\\lib\\site-packages\\numpy\\core\\_methods.py:163: RuntimeWarning: invalid value encountered in divide\n",
      "  arrmean = um.true_divide(arrmean, div, out=arrmean,\n",
      "c:\\Users\\Anderson\\miniconda3\\envs\\gnn\\lib\\site-packages\\numpy\\core\\_methods.py:198: RuntimeWarning: invalid value encountered in divide\n",
      "  ret = ret.dtype.type(ret / rcount)\n"
     ]
    },
    {
     "data": {
      "application/vnd.jupyter.widget-view+json": {
       "model_id": "87393cf1a53c47d2bda6e19112be6bfc",
       "version_major": 2,
       "version_minor": 0
      },
      "text/plain": [
       "  0%|          | 0/5000 [00:00<?, ?it/s]"
      ]
     },
     "metadata": {},
     "output_type": "display_data"
    },
    {
     "name": "stdout",
     "output_type": "stream",
     "text": [
      "Pecanpy:4.422107696533203\n",
      "Edges: 2025\n",
      "Extend=True\n"
     ]
    },
    {
     "name": "stderr",
     "output_type": "stream",
     "text": [
      "c:\\Users\\Anderson\\miniconda3\\envs\\gnn\\lib\\site-packages\\pecanpy\\rw\\sparse_rw.py:30: RuntimeWarning: Mean of empty slice.\n",
      "  data[indptr[i] : indptr[i + 1]].mean()\n",
      "c:\\Users\\Anderson\\miniconda3\\envs\\gnn\\lib\\site-packages\\numpy\\core\\_methods.py:129: RuntimeWarning: invalid value encountered in divide\n",
      "  ret = ret.dtype.type(ret / rcount)\n",
      "c:\\Users\\Anderson\\miniconda3\\envs\\gnn\\lib\\site-packages\\numpy\\core\\_methods.py:206: RuntimeWarning: Degrees of freedom <= 0 for slice\n",
      "  ret = _var(a, axis=axis, dtype=dtype, out=out, ddof=ddof,\n",
      "c:\\Users\\Anderson\\miniconda3\\envs\\gnn\\lib\\site-packages\\numpy\\core\\_methods.py:163: RuntimeWarning: invalid value encountered in divide\n",
      "  arrmean = um.true_divide(arrmean, div, out=arrmean,\n",
      "c:\\Users\\Anderson\\miniconda3\\envs\\gnn\\lib\\site-packages\\numpy\\core\\_methods.py:198: RuntimeWarning: invalid value encountered in divide\n",
      "  ret = ret.dtype.type(ret / rcount)\n"
     ]
    },
    {
     "data": {
      "application/vnd.jupyter.widget-view+json": {
       "model_id": "ab1f78c85ce84e8b96c354cae46da078",
       "version_major": 2,
       "version_minor": 0
      },
      "text/plain": [
       "  0%|          | 0/5000 [00:00<?, ?it/s]"
      ]
     },
     "metadata": {},
     "output_type": "display_data"
    },
    {
     "name": "stdout",
     "output_type": "stream",
     "text": [
      "Pecanpy:4.8443262577056885\n",
      "Edges: 2025\n",
      "Extend=True\n"
     ]
    },
    {
     "name": "stderr",
     "output_type": "stream",
     "text": [
      "c:\\Users\\Anderson\\miniconda3\\envs\\gnn\\lib\\site-packages\\pecanpy\\rw\\sparse_rw.py:30: RuntimeWarning: Mean of empty slice.\n",
      "  data[indptr[i] : indptr[i + 1]].mean()\n",
      "c:\\Users\\Anderson\\miniconda3\\envs\\gnn\\lib\\site-packages\\numpy\\core\\_methods.py:129: RuntimeWarning: invalid value encountered in divide\n",
      "  ret = ret.dtype.type(ret / rcount)\n",
      "c:\\Users\\Anderson\\miniconda3\\envs\\gnn\\lib\\site-packages\\numpy\\core\\_methods.py:206: RuntimeWarning: Degrees of freedom <= 0 for slice\n",
      "  ret = _var(a, axis=axis, dtype=dtype, out=out, ddof=ddof,\n",
      "c:\\Users\\Anderson\\miniconda3\\envs\\gnn\\lib\\site-packages\\numpy\\core\\_methods.py:163: RuntimeWarning: invalid value encountered in divide\n",
      "  arrmean = um.true_divide(arrmean, div, out=arrmean,\n",
      "c:\\Users\\Anderson\\miniconda3\\envs\\gnn\\lib\\site-packages\\numpy\\core\\_methods.py:198: RuntimeWarning: invalid value encountered in divide\n",
      "  ret = ret.dtype.type(ret / rcount)\n"
     ]
    },
    {
     "data": {
      "application/vnd.jupyter.widget-view+json": {
       "model_id": "ff10e9cac1434151950a882d32f961f7",
       "version_major": 2,
       "version_minor": 0
      },
      "text/plain": [
       "  0%|          | 0/5000 [00:00<?, ?it/s]"
      ]
     },
     "metadata": {},
     "output_type": "display_data"
    },
    {
     "name": "stdout",
     "output_type": "stream",
     "text": [
      "Pecanpy:4.232356786727905\n",
      "Edges: 2025\n",
      "Extend=True\n"
     ]
    },
    {
     "name": "stderr",
     "output_type": "stream",
     "text": [
      "c:\\Users\\Anderson\\miniconda3\\envs\\gnn\\lib\\site-packages\\pecanpy\\rw\\sparse_rw.py:30: RuntimeWarning: Mean of empty slice.\n",
      "  data[indptr[i] : indptr[i + 1]].mean()\n",
      "c:\\Users\\Anderson\\miniconda3\\envs\\gnn\\lib\\site-packages\\numpy\\core\\_methods.py:129: RuntimeWarning: invalid value encountered in divide\n",
      "  ret = ret.dtype.type(ret / rcount)\n",
      "c:\\Users\\Anderson\\miniconda3\\envs\\gnn\\lib\\site-packages\\numpy\\core\\_methods.py:206: RuntimeWarning: Degrees of freedom <= 0 for slice\n",
      "  ret = _var(a, axis=axis, dtype=dtype, out=out, ddof=ddof,\n",
      "c:\\Users\\Anderson\\miniconda3\\envs\\gnn\\lib\\site-packages\\numpy\\core\\_methods.py:163: RuntimeWarning: invalid value encountered in divide\n",
      "  arrmean = um.true_divide(arrmean, div, out=arrmean,\n",
      "c:\\Users\\Anderson\\miniconda3\\envs\\gnn\\lib\\site-packages\\numpy\\core\\_methods.py:198: RuntimeWarning: invalid value encountered in divide\n",
      "  ret = ret.dtype.type(ret / rcount)\n"
     ]
    },
    {
     "data": {
      "application/vnd.jupyter.widget-view+json": {
       "model_id": "2425c29766d24c6d89fcc139d0ec4547",
       "version_major": 2,
       "version_minor": 0
      },
      "text/plain": [
       "  0%|          | 0/5000 [00:00<?, ?it/s]"
      ]
     },
     "metadata": {},
     "output_type": "display_data"
    },
    {
     "name": "stdout",
     "output_type": "stream",
     "text": [
      "Pecanpy:4.594323396682739\n",
      "Edges: 2025\n",
      "Extend=True\n"
     ]
    },
    {
     "name": "stderr",
     "output_type": "stream",
     "text": [
      "c:\\Users\\Anderson\\miniconda3\\envs\\gnn\\lib\\site-packages\\pecanpy\\rw\\sparse_rw.py:30: RuntimeWarning: Mean of empty slice.\n",
      "  data[indptr[i] : indptr[i + 1]].mean()\n",
      "c:\\Users\\Anderson\\miniconda3\\envs\\gnn\\lib\\site-packages\\numpy\\core\\_methods.py:129: RuntimeWarning: invalid value encountered in divide\n",
      "  ret = ret.dtype.type(ret / rcount)\n",
      "c:\\Users\\Anderson\\miniconda3\\envs\\gnn\\lib\\site-packages\\numpy\\core\\_methods.py:206: RuntimeWarning: Degrees of freedom <= 0 for slice\n",
      "  ret = _var(a, axis=axis, dtype=dtype, out=out, ddof=ddof,\n",
      "c:\\Users\\Anderson\\miniconda3\\envs\\gnn\\lib\\site-packages\\numpy\\core\\_methods.py:163: RuntimeWarning: invalid value encountered in divide\n",
      "  arrmean = um.true_divide(arrmean, div, out=arrmean,\n",
      "c:\\Users\\Anderson\\miniconda3\\envs\\gnn\\lib\\site-packages\\numpy\\core\\_methods.py:198: RuntimeWarning: invalid value encountered in divide\n",
      "  ret = ret.dtype.type(ret / rcount)\n"
     ]
    },
    {
     "data": {
      "application/vnd.jupyter.widget-view+json": {
       "model_id": "2ae001bc451f4fd2958b28572a2aaf37",
       "version_major": 2,
       "version_minor": 0
      },
      "text/plain": [
       "  0%|          | 0/5000 [00:00<?, ?it/s]"
      ]
     },
     "metadata": {},
     "output_type": "display_data"
    },
    {
     "name": "stdout",
     "output_type": "stream",
     "text": [
      "Pecanpy:4.694478273391724\n",
      "Edges: 2025\n",
      "Extend=True\n"
     ]
    },
    {
     "name": "stderr",
     "output_type": "stream",
     "text": [
      "c:\\Users\\Anderson\\miniconda3\\envs\\gnn\\lib\\site-packages\\pecanpy\\rw\\sparse_rw.py:30: RuntimeWarning: Mean of empty slice.\n",
      "  data[indptr[i] : indptr[i + 1]].mean()\n",
      "c:\\Users\\Anderson\\miniconda3\\envs\\gnn\\lib\\site-packages\\numpy\\core\\_methods.py:129: RuntimeWarning: invalid value encountered in divide\n",
      "  ret = ret.dtype.type(ret / rcount)\n",
      "c:\\Users\\Anderson\\miniconda3\\envs\\gnn\\lib\\site-packages\\numpy\\core\\_methods.py:206: RuntimeWarning: Degrees of freedom <= 0 for slice\n",
      "  ret = _var(a, axis=axis, dtype=dtype, out=out, ddof=ddof,\n",
      "c:\\Users\\Anderson\\miniconda3\\envs\\gnn\\lib\\site-packages\\numpy\\core\\_methods.py:163: RuntimeWarning: invalid value encountered in divide\n",
      "  arrmean = um.true_divide(arrmean, div, out=arrmean,\n",
      "c:\\Users\\Anderson\\miniconda3\\envs\\gnn\\lib\\site-packages\\numpy\\core\\_methods.py:198: RuntimeWarning: invalid value encountered in divide\n",
      "  ret = ret.dtype.type(ret / rcount)\n"
     ]
    },
    {
     "data": {
      "application/vnd.jupyter.widget-view+json": {
       "model_id": "35933d550f0346d8bb225bcb2e4c6237",
       "version_major": 2,
       "version_minor": 0
      },
      "text/plain": [
       "  0%|          | 0/5000 [00:00<?, ?it/s]"
      ]
     },
     "metadata": {},
     "output_type": "display_data"
    },
    {
     "name": "stdout",
     "output_type": "stream",
     "text": [
      "Pecanpy:5.022678852081299\n",
      "Edges: 2025\n",
      "Extend=True\n"
     ]
    },
    {
     "name": "stderr",
     "output_type": "stream",
     "text": [
      "c:\\Users\\Anderson\\miniconda3\\envs\\gnn\\lib\\site-packages\\pecanpy\\rw\\sparse_rw.py:30: RuntimeWarning: Mean of empty slice.\n",
      "  data[indptr[i] : indptr[i + 1]].mean()\n",
      "c:\\Users\\Anderson\\miniconda3\\envs\\gnn\\lib\\site-packages\\numpy\\core\\_methods.py:129: RuntimeWarning: invalid value encountered in divide\n",
      "  ret = ret.dtype.type(ret / rcount)\n",
      "c:\\Users\\Anderson\\miniconda3\\envs\\gnn\\lib\\site-packages\\numpy\\core\\_methods.py:206: RuntimeWarning: Degrees of freedom <= 0 for slice\n",
      "  ret = _var(a, axis=axis, dtype=dtype, out=out, ddof=ddof,\n",
      "c:\\Users\\Anderson\\miniconda3\\envs\\gnn\\lib\\site-packages\\numpy\\core\\_methods.py:163: RuntimeWarning: invalid value encountered in divide\n",
      "  arrmean = um.true_divide(arrmean, div, out=arrmean,\n",
      "c:\\Users\\Anderson\\miniconda3\\envs\\gnn\\lib\\site-packages\\numpy\\core\\_methods.py:198: RuntimeWarning: invalid value encountered in divide\n",
      "  ret = ret.dtype.type(ret / rcount)\n"
     ]
    },
    {
     "data": {
      "application/vnd.jupyter.widget-view+json": {
       "model_id": "8d60c6de16c546628e3ec56cbeee8dbb",
       "version_major": 2,
       "version_minor": 0
      },
      "text/plain": [
       "  0%|          | 0/5000 [00:00<?, ?it/s]"
      ]
     },
     "metadata": {},
     "output_type": "display_data"
    },
    {
     "name": "stdout",
     "output_type": "stream",
     "text": [
      "Pecanpy:4.318627119064331\n",
      "Edges: 2025\n",
      "Extend=True\n"
     ]
    },
    {
     "name": "stderr",
     "output_type": "stream",
     "text": [
      "c:\\Users\\Anderson\\miniconda3\\envs\\gnn\\lib\\site-packages\\pecanpy\\rw\\sparse_rw.py:30: RuntimeWarning: Mean of empty slice.\n",
      "  data[indptr[i] : indptr[i + 1]].mean()\n",
      "c:\\Users\\Anderson\\miniconda3\\envs\\gnn\\lib\\site-packages\\numpy\\core\\_methods.py:129: RuntimeWarning: invalid value encountered in divide\n",
      "  ret = ret.dtype.type(ret / rcount)\n",
      "c:\\Users\\Anderson\\miniconda3\\envs\\gnn\\lib\\site-packages\\numpy\\core\\_methods.py:206: RuntimeWarning: Degrees of freedom <= 0 for slice\n",
      "  ret = _var(a, axis=axis, dtype=dtype, out=out, ddof=ddof,\n",
      "c:\\Users\\Anderson\\miniconda3\\envs\\gnn\\lib\\site-packages\\numpy\\core\\_methods.py:163: RuntimeWarning: invalid value encountered in divide\n",
      "  arrmean = um.true_divide(arrmean, div, out=arrmean,\n",
      "c:\\Users\\Anderson\\miniconda3\\envs\\gnn\\lib\\site-packages\\numpy\\core\\_methods.py:198: RuntimeWarning: invalid value encountered in divide\n",
      "  ret = ret.dtype.type(ret / rcount)\n"
     ]
    },
    {
     "data": {
      "application/vnd.jupyter.widget-view+json": {
       "model_id": "45088bc7bc944dc68af2818992eea106",
       "version_major": 2,
       "version_minor": 0
      },
      "text/plain": [
       "  0%|          | 0/5000 [00:00<?, ?it/s]"
      ]
     },
     "metadata": {},
     "output_type": "display_data"
    },
    {
     "name": "stdout",
     "output_type": "stream",
     "text": [
      "Pecanpy:4.537129878997803\n",
      "Edges: 2025\n",
      "Extend=True\n"
     ]
    },
    {
     "name": "stderr",
     "output_type": "stream",
     "text": [
      "c:\\Users\\Anderson\\miniconda3\\envs\\gnn\\lib\\site-packages\\pecanpy\\rw\\sparse_rw.py:30: RuntimeWarning: Mean of empty slice.\n",
      "  data[indptr[i] : indptr[i + 1]].mean()\n",
      "c:\\Users\\Anderson\\miniconda3\\envs\\gnn\\lib\\site-packages\\numpy\\core\\_methods.py:129: RuntimeWarning: invalid value encountered in divide\n",
      "  ret = ret.dtype.type(ret / rcount)\n",
      "c:\\Users\\Anderson\\miniconda3\\envs\\gnn\\lib\\site-packages\\numpy\\core\\_methods.py:206: RuntimeWarning: Degrees of freedom <= 0 for slice\n",
      "  ret = _var(a, axis=axis, dtype=dtype, out=out, ddof=ddof,\n",
      "c:\\Users\\Anderson\\miniconda3\\envs\\gnn\\lib\\site-packages\\numpy\\core\\_methods.py:163: RuntimeWarning: invalid value encountered in divide\n",
      "  arrmean = um.true_divide(arrmean, div, out=arrmean,\n",
      "c:\\Users\\Anderson\\miniconda3\\envs\\gnn\\lib\\site-packages\\numpy\\core\\_methods.py:198: RuntimeWarning: invalid value encountered in divide\n",
      "  ret = ret.dtype.type(ret / rcount)\n"
     ]
    },
    {
     "data": {
      "application/vnd.jupyter.widget-view+json": {
       "model_id": "32ac8e3c613e4e77bc09d376e3bf4e5d",
       "version_major": 2,
       "version_minor": 0
      },
      "text/plain": [
       "  0%|          | 0/5000 [00:00<?, ?it/s]"
      ]
     },
     "metadata": {},
     "output_type": "display_data"
    },
    {
     "name": "stdout",
     "output_type": "stream",
     "text": [
      "Pecanpy:4.202293395996094\n",
      "Edges: 2025\n",
      "Extend=True\n"
     ]
    },
    {
     "name": "stderr",
     "output_type": "stream",
     "text": [
      "c:\\Users\\Anderson\\miniconda3\\envs\\gnn\\lib\\site-packages\\pecanpy\\rw\\sparse_rw.py:30: RuntimeWarning: Mean of empty slice.\n",
      "  data[indptr[i] : indptr[i + 1]].mean()\n",
      "c:\\Users\\Anderson\\miniconda3\\envs\\gnn\\lib\\site-packages\\numpy\\core\\_methods.py:129: RuntimeWarning: invalid value encountered in divide\n",
      "  ret = ret.dtype.type(ret / rcount)\n",
      "c:\\Users\\Anderson\\miniconda3\\envs\\gnn\\lib\\site-packages\\numpy\\core\\_methods.py:206: RuntimeWarning: Degrees of freedom <= 0 for slice\n",
      "  ret = _var(a, axis=axis, dtype=dtype, out=out, ddof=ddof,\n",
      "c:\\Users\\Anderson\\miniconda3\\envs\\gnn\\lib\\site-packages\\numpy\\core\\_methods.py:163: RuntimeWarning: invalid value encountered in divide\n",
      "  arrmean = um.true_divide(arrmean, div, out=arrmean,\n",
      "c:\\Users\\Anderson\\miniconda3\\envs\\gnn\\lib\\site-packages\\numpy\\core\\_methods.py:198: RuntimeWarning: invalid value encountered in divide\n",
      "  ret = ret.dtype.type(ret / rcount)\n"
     ]
    },
    {
     "data": {
      "application/vnd.jupyter.widget-view+json": {
       "model_id": "ef631e26312148a98cd64d784cf429c7",
       "version_major": 2,
       "version_minor": 0
      },
      "text/plain": [
       "  0%|          | 0/5000 [00:00<?, ?it/s]"
      ]
     },
     "metadata": {},
     "output_type": "display_data"
    },
    {
     "name": "stdout",
     "output_type": "stream",
     "text": [
      "Pecanpy:4.242257118225098\n",
      "Edges: 2025\n",
      "Extend=True\n"
     ]
    },
    {
     "name": "stderr",
     "output_type": "stream",
     "text": [
      "c:\\Users\\Anderson\\miniconda3\\envs\\gnn\\lib\\site-packages\\pecanpy\\rw\\sparse_rw.py:30: RuntimeWarning: Mean of empty slice.\n",
      "  data[indptr[i] : indptr[i + 1]].mean()\n",
      "c:\\Users\\Anderson\\miniconda3\\envs\\gnn\\lib\\site-packages\\numpy\\core\\_methods.py:129: RuntimeWarning: invalid value encountered in divide\n",
      "  ret = ret.dtype.type(ret / rcount)\n",
      "c:\\Users\\Anderson\\miniconda3\\envs\\gnn\\lib\\site-packages\\numpy\\core\\_methods.py:206: RuntimeWarning: Degrees of freedom <= 0 for slice\n",
      "  ret = _var(a, axis=axis, dtype=dtype, out=out, ddof=ddof,\n",
      "c:\\Users\\Anderson\\miniconda3\\envs\\gnn\\lib\\site-packages\\numpy\\core\\_methods.py:163: RuntimeWarning: invalid value encountered in divide\n",
      "  arrmean = um.true_divide(arrmean, div, out=arrmean,\n",
      "c:\\Users\\Anderson\\miniconda3\\envs\\gnn\\lib\\site-packages\\numpy\\core\\_methods.py:198: RuntimeWarning: invalid value encountered in divide\n",
      "  ret = ret.dtype.type(ret / rcount)\n"
     ]
    },
    {
     "data": {
      "application/vnd.jupyter.widget-view+json": {
       "model_id": "8a7f7b3cda37485094a5d2f7ebc31eee",
       "version_major": 2,
       "version_minor": 0
      },
      "text/plain": [
       "  0%|          | 0/5000 [00:00<?, ?it/s]"
      ]
     },
     "metadata": {},
     "output_type": "display_data"
    },
    {
     "name": "stdout",
     "output_type": "stream",
     "text": [
      "Pecanpy:4.728176116943359\n",
      "Edges: 2025\n",
      "Extend=True\n"
     ]
    },
    {
     "name": "stderr",
     "output_type": "stream",
     "text": [
      "c:\\Users\\Anderson\\miniconda3\\envs\\gnn\\lib\\site-packages\\pecanpy\\rw\\sparse_rw.py:30: RuntimeWarning: Mean of empty slice.\n",
      "  data[indptr[i] : indptr[i + 1]].mean()\n",
      "c:\\Users\\Anderson\\miniconda3\\envs\\gnn\\lib\\site-packages\\numpy\\core\\_methods.py:129: RuntimeWarning: invalid value encountered in divide\n",
      "  ret = ret.dtype.type(ret / rcount)\n",
      "c:\\Users\\Anderson\\miniconda3\\envs\\gnn\\lib\\site-packages\\numpy\\core\\_methods.py:206: RuntimeWarning: Degrees of freedom <= 0 for slice\n",
      "  ret = _var(a, axis=axis, dtype=dtype, out=out, ddof=ddof,\n",
      "c:\\Users\\Anderson\\miniconda3\\envs\\gnn\\lib\\site-packages\\numpy\\core\\_methods.py:163: RuntimeWarning: invalid value encountered in divide\n",
      "  arrmean = um.true_divide(arrmean, div, out=arrmean,\n",
      "c:\\Users\\Anderson\\miniconda3\\envs\\gnn\\lib\\site-packages\\numpy\\core\\_methods.py:198: RuntimeWarning: invalid value encountered in divide\n",
      "  ret = ret.dtype.type(ret / rcount)\n"
     ]
    },
    {
     "data": {
      "application/vnd.jupyter.widget-view+json": {
       "model_id": "601c7206700e4ee28043849f1304c358",
       "version_major": 2,
       "version_minor": 0
      },
      "text/plain": [
       "  0%|          | 0/5000 [00:00<?, ?it/s]"
      ]
     },
     "metadata": {},
     "output_type": "display_data"
    },
    {
     "name": "stdout",
     "output_type": "stream",
     "text": [
      "Pecanpy:4.2471208572387695\n",
      "Edges: 2025\n",
      "Extend=True\n"
     ]
    },
    {
     "name": "stderr",
     "output_type": "stream",
     "text": [
      "c:\\Users\\Anderson\\miniconda3\\envs\\gnn\\lib\\site-packages\\pecanpy\\rw\\sparse_rw.py:30: RuntimeWarning: Mean of empty slice.\n",
      "  data[indptr[i] : indptr[i + 1]].mean()\n",
      "c:\\Users\\Anderson\\miniconda3\\envs\\gnn\\lib\\site-packages\\numpy\\core\\_methods.py:129: RuntimeWarning: invalid value encountered in divide\n",
      "  ret = ret.dtype.type(ret / rcount)\n",
      "c:\\Users\\Anderson\\miniconda3\\envs\\gnn\\lib\\site-packages\\numpy\\core\\_methods.py:206: RuntimeWarning: Degrees of freedom <= 0 for slice\n",
      "  ret = _var(a, axis=axis, dtype=dtype, out=out, ddof=ddof,\n",
      "c:\\Users\\Anderson\\miniconda3\\envs\\gnn\\lib\\site-packages\\numpy\\core\\_methods.py:163: RuntimeWarning: invalid value encountered in divide\n",
      "  arrmean = um.true_divide(arrmean, div, out=arrmean,\n",
      "c:\\Users\\Anderson\\miniconda3\\envs\\gnn\\lib\\site-packages\\numpy\\core\\_methods.py:198: RuntimeWarning: invalid value encountered in divide\n",
      "  ret = ret.dtype.type(ret / rcount)\n"
     ]
    },
    {
     "data": {
      "application/vnd.jupyter.widget-view+json": {
       "model_id": "d5f6ef5698a243d5b04e57dd06e4d943",
       "version_major": 2,
       "version_minor": 0
      },
      "text/plain": [
       "  0%|          | 0/5000 [00:00<?, ?it/s]"
      ]
     },
     "metadata": {},
     "output_type": "display_data"
    },
    {
     "name": "stdout",
     "output_type": "stream",
     "text": [
      "Pecanpy:4.336309909820557\n",
      "Edges: 2025\n",
      "Extend=True\n"
     ]
    },
    {
     "name": "stderr",
     "output_type": "stream",
     "text": [
      "c:\\Users\\Anderson\\miniconda3\\envs\\gnn\\lib\\site-packages\\pecanpy\\rw\\sparse_rw.py:30: RuntimeWarning: Mean of empty slice.\n",
      "  data[indptr[i] : indptr[i + 1]].mean()\n",
      "c:\\Users\\Anderson\\miniconda3\\envs\\gnn\\lib\\site-packages\\numpy\\core\\_methods.py:129: RuntimeWarning: invalid value encountered in divide\n",
      "  ret = ret.dtype.type(ret / rcount)\n",
      "c:\\Users\\Anderson\\miniconda3\\envs\\gnn\\lib\\site-packages\\numpy\\core\\_methods.py:206: RuntimeWarning: Degrees of freedom <= 0 for slice\n",
      "  ret = _var(a, axis=axis, dtype=dtype, out=out, ddof=ddof,\n",
      "c:\\Users\\Anderson\\miniconda3\\envs\\gnn\\lib\\site-packages\\numpy\\core\\_methods.py:163: RuntimeWarning: invalid value encountered in divide\n",
      "  arrmean = um.true_divide(arrmean, div, out=arrmean,\n",
      "c:\\Users\\Anderson\\miniconda3\\envs\\gnn\\lib\\site-packages\\numpy\\core\\_methods.py:198: RuntimeWarning: invalid value encountered in divide\n",
      "  ret = ret.dtype.type(ret / rcount)\n"
     ]
    },
    {
     "data": {
      "application/vnd.jupyter.widget-view+json": {
       "model_id": "edaaba6ed6704c60bd31590968260ff1",
       "version_major": 2,
       "version_minor": 0
      },
      "text/plain": [
       "  0%|          | 0/5000 [00:00<?, ?it/s]"
      ]
     },
     "metadata": {},
     "output_type": "display_data"
    },
    {
     "name": "stdout",
     "output_type": "stream",
     "text": [
      "Pecanpy:5.149791955947876\n",
      "Edges: 2025\n",
      "Extend=True\n"
     ]
    },
    {
     "name": "stderr",
     "output_type": "stream",
     "text": [
      "c:\\Users\\Anderson\\miniconda3\\envs\\gnn\\lib\\site-packages\\pecanpy\\rw\\sparse_rw.py:30: RuntimeWarning: Mean of empty slice.\n",
      "  data[indptr[i] : indptr[i + 1]].mean()\n",
      "c:\\Users\\Anderson\\miniconda3\\envs\\gnn\\lib\\site-packages\\numpy\\core\\_methods.py:129: RuntimeWarning: invalid value encountered in divide\n",
      "  ret = ret.dtype.type(ret / rcount)\n",
      "c:\\Users\\Anderson\\miniconda3\\envs\\gnn\\lib\\site-packages\\numpy\\core\\_methods.py:206: RuntimeWarning: Degrees of freedom <= 0 for slice\n",
      "  ret = _var(a, axis=axis, dtype=dtype, out=out, ddof=ddof,\n",
      "c:\\Users\\Anderson\\miniconda3\\envs\\gnn\\lib\\site-packages\\numpy\\core\\_methods.py:163: RuntimeWarning: invalid value encountered in divide\n",
      "  arrmean = um.true_divide(arrmean, div, out=arrmean,\n",
      "c:\\Users\\Anderson\\miniconda3\\envs\\gnn\\lib\\site-packages\\numpy\\core\\_methods.py:198: RuntimeWarning: invalid value encountered in divide\n",
      "  ret = ret.dtype.type(ret / rcount)\n"
     ]
    },
    {
     "data": {
      "application/vnd.jupyter.widget-view+json": {
       "model_id": "9c610fdb277f459fa435976cf5c87aad",
       "version_major": 2,
       "version_minor": 0
      },
      "text/plain": [
       "  0%|          | 0/5000 [00:00<?, ?it/s]"
      ]
     },
     "metadata": {},
     "output_type": "display_data"
    },
    {
     "name": "stdout",
     "output_type": "stream",
     "text": [
      "Pecanpy:4.254046678543091\n",
      "Edges: 2025\n",
      "Extend=True\n"
     ]
    },
    {
     "name": "stderr",
     "output_type": "stream",
     "text": [
      "c:\\Users\\Anderson\\miniconda3\\envs\\gnn\\lib\\site-packages\\pecanpy\\rw\\sparse_rw.py:30: RuntimeWarning: Mean of empty slice.\n",
      "  data[indptr[i] : indptr[i + 1]].mean()\n",
      "c:\\Users\\Anderson\\miniconda3\\envs\\gnn\\lib\\site-packages\\numpy\\core\\_methods.py:129: RuntimeWarning: invalid value encountered in divide\n",
      "  ret = ret.dtype.type(ret / rcount)\n",
      "c:\\Users\\Anderson\\miniconda3\\envs\\gnn\\lib\\site-packages\\numpy\\core\\_methods.py:206: RuntimeWarning: Degrees of freedom <= 0 for slice\n",
      "  ret = _var(a, axis=axis, dtype=dtype, out=out, ddof=ddof,\n",
      "c:\\Users\\Anderson\\miniconda3\\envs\\gnn\\lib\\site-packages\\numpy\\core\\_methods.py:163: RuntimeWarning: invalid value encountered in divide\n",
      "  arrmean = um.true_divide(arrmean, div, out=arrmean,\n",
      "c:\\Users\\Anderson\\miniconda3\\envs\\gnn\\lib\\site-packages\\numpy\\core\\_methods.py:198: RuntimeWarning: invalid value encountered in divide\n",
      "  ret = ret.dtype.type(ret / rcount)\n"
     ]
    },
    {
     "data": {
      "application/vnd.jupyter.widget-view+json": {
       "model_id": "46756d48409549f2b9560ecd9e1971c6",
       "version_major": 2,
       "version_minor": 0
      },
      "text/plain": [
       "  0%|          | 0/5000 [00:00<?, ?it/s]"
      ]
     },
     "metadata": {},
     "output_type": "display_data"
    },
    {
     "name": "stdout",
     "output_type": "stream",
     "text": [
      "Pecanpy:4.23741888999939\n",
      "Edges: 2025\n",
      "Extend=True\n"
     ]
    },
    {
     "name": "stderr",
     "output_type": "stream",
     "text": [
      "c:\\Users\\Anderson\\miniconda3\\envs\\gnn\\lib\\site-packages\\pecanpy\\rw\\sparse_rw.py:30: RuntimeWarning: Mean of empty slice.\n",
      "  data[indptr[i] : indptr[i + 1]].mean()\n",
      "c:\\Users\\Anderson\\miniconda3\\envs\\gnn\\lib\\site-packages\\numpy\\core\\_methods.py:129: RuntimeWarning: invalid value encountered in divide\n",
      "  ret = ret.dtype.type(ret / rcount)\n",
      "c:\\Users\\Anderson\\miniconda3\\envs\\gnn\\lib\\site-packages\\numpy\\core\\_methods.py:206: RuntimeWarning: Degrees of freedom <= 0 for slice\n",
      "  ret = _var(a, axis=axis, dtype=dtype, out=out, ddof=ddof,\n",
      "c:\\Users\\Anderson\\miniconda3\\envs\\gnn\\lib\\site-packages\\numpy\\core\\_methods.py:163: RuntimeWarning: invalid value encountered in divide\n",
      "  arrmean = um.true_divide(arrmean, div, out=arrmean,\n",
      "c:\\Users\\Anderson\\miniconda3\\envs\\gnn\\lib\\site-packages\\numpy\\core\\_methods.py:198: RuntimeWarning: invalid value encountered in divide\n",
      "  ret = ret.dtype.type(ret / rcount)\n"
     ]
    },
    {
     "data": {
      "application/vnd.jupyter.widget-view+json": {
       "model_id": "71bc82f75ef54ff488e5cf16129b2b40",
       "version_major": 2,
       "version_minor": 0
      },
      "text/plain": [
       "  0%|          | 0/5000 [00:00<?, ?it/s]"
      ]
     },
     "metadata": {},
     "output_type": "display_data"
    },
    {
     "name": "stdout",
     "output_type": "stream",
     "text": [
      "Pecanpy:4.767002582550049\n",
      "Edges: 2025\n",
      "Extend=True\n"
     ]
    },
    {
     "name": "stderr",
     "output_type": "stream",
     "text": [
      "c:\\Users\\Anderson\\miniconda3\\envs\\gnn\\lib\\site-packages\\pecanpy\\rw\\sparse_rw.py:30: RuntimeWarning: Mean of empty slice.\n",
      "  data[indptr[i] : indptr[i + 1]].mean()\n",
      "c:\\Users\\Anderson\\miniconda3\\envs\\gnn\\lib\\site-packages\\numpy\\core\\_methods.py:129: RuntimeWarning: invalid value encountered in divide\n",
      "  ret = ret.dtype.type(ret / rcount)\n",
      "c:\\Users\\Anderson\\miniconda3\\envs\\gnn\\lib\\site-packages\\numpy\\core\\_methods.py:206: RuntimeWarning: Degrees of freedom <= 0 for slice\n",
      "  ret = _var(a, axis=axis, dtype=dtype, out=out, ddof=ddof,\n",
      "c:\\Users\\Anderson\\miniconda3\\envs\\gnn\\lib\\site-packages\\numpy\\core\\_methods.py:163: RuntimeWarning: invalid value encountered in divide\n",
      "  arrmean = um.true_divide(arrmean, div, out=arrmean,\n",
      "c:\\Users\\Anderson\\miniconda3\\envs\\gnn\\lib\\site-packages\\numpy\\core\\_methods.py:198: RuntimeWarning: invalid value encountered in divide\n",
      "  ret = ret.dtype.type(ret / rcount)\n"
     ]
    },
    {
     "data": {
      "application/vnd.jupyter.widget-view+json": {
       "model_id": "7e97bedc833a474a8124a3787a370a44",
       "version_major": 2,
       "version_minor": 0
      },
      "text/plain": [
       "  0%|          | 0/5000 [00:00<?, ?it/s]"
      ]
     },
     "metadata": {},
     "output_type": "display_data"
    },
    {
     "name": "stdout",
     "output_type": "stream",
     "text": [
      "Pecanpy:4.683384418487549\n",
      "Edges: 2025\n",
      "Extend=True\n"
     ]
    },
    {
     "name": "stderr",
     "output_type": "stream",
     "text": [
      "c:\\Users\\Anderson\\miniconda3\\envs\\gnn\\lib\\site-packages\\pecanpy\\rw\\sparse_rw.py:30: RuntimeWarning: Mean of empty slice.\n",
      "  data[indptr[i] : indptr[i + 1]].mean()\n",
      "c:\\Users\\Anderson\\miniconda3\\envs\\gnn\\lib\\site-packages\\numpy\\core\\_methods.py:129: RuntimeWarning: invalid value encountered in divide\n",
      "  ret = ret.dtype.type(ret / rcount)\n",
      "c:\\Users\\Anderson\\miniconda3\\envs\\gnn\\lib\\site-packages\\numpy\\core\\_methods.py:206: RuntimeWarning: Degrees of freedom <= 0 for slice\n",
      "  ret = _var(a, axis=axis, dtype=dtype, out=out, ddof=ddof,\n",
      "c:\\Users\\Anderson\\miniconda3\\envs\\gnn\\lib\\site-packages\\numpy\\core\\_methods.py:163: RuntimeWarning: invalid value encountered in divide\n",
      "  arrmean = um.true_divide(arrmean, div, out=arrmean,\n",
      "c:\\Users\\Anderson\\miniconda3\\envs\\gnn\\lib\\site-packages\\numpy\\core\\_methods.py:198: RuntimeWarning: invalid value encountered in divide\n",
      "  ret = ret.dtype.type(ret / rcount)\n"
     ]
    },
    {
     "data": {
      "application/vnd.jupyter.widget-view+json": {
       "model_id": "b34219c91bbc4950b49cb574e25130f7",
       "version_major": 2,
       "version_minor": 0
      },
      "text/plain": [
       "  0%|          | 0/5000 [00:00<?, ?it/s]"
      ]
     },
     "metadata": {},
     "output_type": "display_data"
    },
    {
     "name": "stdout",
     "output_type": "stream",
     "text": [
      "Pecanpy:4.449177265167236\n",
      "Edges: 2025\n",
      "Extend=True\n"
     ]
    },
    {
     "name": "stderr",
     "output_type": "stream",
     "text": [
      "c:\\Users\\Anderson\\miniconda3\\envs\\gnn\\lib\\site-packages\\pecanpy\\rw\\sparse_rw.py:30: RuntimeWarning: Mean of empty slice.\n",
      "  data[indptr[i] : indptr[i + 1]].mean()\n",
      "c:\\Users\\Anderson\\miniconda3\\envs\\gnn\\lib\\site-packages\\numpy\\core\\_methods.py:129: RuntimeWarning: invalid value encountered in divide\n",
      "  ret = ret.dtype.type(ret / rcount)\n",
      "c:\\Users\\Anderson\\miniconda3\\envs\\gnn\\lib\\site-packages\\numpy\\core\\_methods.py:206: RuntimeWarning: Degrees of freedom <= 0 for slice\n",
      "  ret = _var(a, axis=axis, dtype=dtype, out=out, ddof=ddof,\n",
      "c:\\Users\\Anderson\\miniconda3\\envs\\gnn\\lib\\site-packages\\numpy\\core\\_methods.py:163: RuntimeWarning: invalid value encountered in divide\n",
      "  arrmean = um.true_divide(arrmean, div, out=arrmean,\n",
      "c:\\Users\\Anderson\\miniconda3\\envs\\gnn\\lib\\site-packages\\numpy\\core\\_methods.py:198: RuntimeWarning: invalid value encountered in divide\n",
      "  ret = ret.dtype.type(ret / rcount)\n"
     ]
    },
    {
     "data": {
      "application/vnd.jupyter.widget-view+json": {
       "model_id": "0c5f684899e64f8f806698c03e3a0db9",
       "version_major": 2,
       "version_minor": 0
      },
      "text/plain": [
       "  0%|          | 0/5000 [00:00<?, ?it/s]"
      ]
     },
     "metadata": {},
     "output_type": "display_data"
    },
    {
     "name": "stdout",
     "output_type": "stream",
     "text": [
      "Pecanpy:4.19128155708313\n",
      "Edges: 2025\n",
      "Extend=True\n"
     ]
    },
    {
     "name": "stderr",
     "output_type": "stream",
     "text": [
      "c:\\Users\\Anderson\\miniconda3\\envs\\gnn\\lib\\site-packages\\pecanpy\\rw\\sparse_rw.py:30: RuntimeWarning: Mean of empty slice.\n",
      "  data[indptr[i] : indptr[i + 1]].mean()\n",
      "c:\\Users\\Anderson\\miniconda3\\envs\\gnn\\lib\\site-packages\\numpy\\core\\_methods.py:129: RuntimeWarning: invalid value encountered in divide\n",
      "  ret = ret.dtype.type(ret / rcount)\n",
      "c:\\Users\\Anderson\\miniconda3\\envs\\gnn\\lib\\site-packages\\numpy\\core\\_methods.py:206: RuntimeWarning: Degrees of freedom <= 0 for slice\n",
      "  ret = _var(a, axis=axis, dtype=dtype, out=out, ddof=ddof,\n",
      "c:\\Users\\Anderson\\miniconda3\\envs\\gnn\\lib\\site-packages\\numpy\\core\\_methods.py:163: RuntimeWarning: invalid value encountered in divide\n",
      "  arrmean = um.true_divide(arrmean, div, out=arrmean,\n",
      "c:\\Users\\Anderson\\miniconda3\\envs\\gnn\\lib\\site-packages\\numpy\\core\\_methods.py:198: RuntimeWarning: invalid value encountered in divide\n",
      "  ret = ret.dtype.type(ret / rcount)\n"
     ]
    },
    {
     "data": {
      "application/vnd.jupyter.widget-view+json": {
       "model_id": "aa444423369d416abba532877ed4e9af",
       "version_major": 2,
       "version_minor": 0
      },
      "text/plain": [
       "  0%|          | 0/5000 [00:00<?, ?it/s]"
      ]
     },
     "metadata": {},
     "output_type": "display_data"
    },
    {
     "name": "stdout",
     "output_type": "stream",
     "text": [
      "Pecanpy:4.228896617889404\n",
      "Edges: 2025\n",
      "Extend=True\n"
     ]
    },
    {
     "name": "stderr",
     "output_type": "stream",
     "text": [
      "c:\\Users\\Anderson\\miniconda3\\envs\\gnn\\lib\\site-packages\\pecanpy\\rw\\sparse_rw.py:30: RuntimeWarning: Mean of empty slice.\n",
      "  data[indptr[i] : indptr[i + 1]].mean()\n",
      "c:\\Users\\Anderson\\miniconda3\\envs\\gnn\\lib\\site-packages\\numpy\\core\\_methods.py:129: RuntimeWarning: invalid value encountered in divide\n",
      "  ret = ret.dtype.type(ret / rcount)\n",
      "c:\\Users\\Anderson\\miniconda3\\envs\\gnn\\lib\\site-packages\\numpy\\core\\_methods.py:206: RuntimeWarning: Degrees of freedom <= 0 for slice\n",
      "  ret = _var(a, axis=axis, dtype=dtype, out=out, ddof=ddof,\n",
      "c:\\Users\\Anderson\\miniconda3\\envs\\gnn\\lib\\site-packages\\numpy\\core\\_methods.py:163: RuntimeWarning: invalid value encountered in divide\n",
      "  arrmean = um.true_divide(arrmean, div, out=arrmean,\n",
      "c:\\Users\\Anderson\\miniconda3\\envs\\gnn\\lib\\site-packages\\numpy\\core\\_methods.py:198: RuntimeWarning: invalid value encountered in divide\n",
      "  ret = ret.dtype.type(ret / rcount)\n"
     ]
    },
    {
     "data": {
      "application/vnd.jupyter.widget-view+json": {
       "model_id": "5ff3a913031e42c7a31b369d54fe8604",
       "version_major": 2,
       "version_minor": 0
      },
      "text/plain": [
       "  0%|          | 0/5000 [00:00<?, ?it/s]"
      ]
     },
     "metadata": {},
     "output_type": "display_data"
    },
    {
     "name": "stdout",
     "output_type": "stream",
     "text": [
      "Pecanpy:4.286176919937134\n",
      "Edges: 2025\n",
      "Extend=True\n"
     ]
    },
    {
     "name": "stderr",
     "output_type": "stream",
     "text": [
      "c:\\Users\\Anderson\\miniconda3\\envs\\gnn\\lib\\site-packages\\pecanpy\\rw\\sparse_rw.py:30: RuntimeWarning: Mean of empty slice.\n",
      "  data[indptr[i] : indptr[i + 1]].mean()\n",
      "c:\\Users\\Anderson\\miniconda3\\envs\\gnn\\lib\\site-packages\\numpy\\core\\_methods.py:129: RuntimeWarning: invalid value encountered in divide\n",
      "  ret = ret.dtype.type(ret / rcount)\n",
      "c:\\Users\\Anderson\\miniconda3\\envs\\gnn\\lib\\site-packages\\numpy\\core\\_methods.py:206: RuntimeWarning: Degrees of freedom <= 0 for slice\n",
      "  ret = _var(a, axis=axis, dtype=dtype, out=out, ddof=ddof,\n",
      "c:\\Users\\Anderson\\miniconda3\\envs\\gnn\\lib\\site-packages\\numpy\\core\\_methods.py:163: RuntimeWarning: invalid value encountered in divide\n",
      "  arrmean = um.true_divide(arrmean, div, out=arrmean,\n",
      "c:\\Users\\Anderson\\miniconda3\\envs\\gnn\\lib\\site-packages\\numpy\\core\\_methods.py:198: RuntimeWarning: invalid value encountered in divide\n",
      "  ret = ret.dtype.type(ret / rcount)\n"
     ]
    },
    {
     "data": {
      "application/vnd.jupyter.widget-view+json": {
       "model_id": "d5d4739ed0e84e449becef7e014d9f55",
       "version_major": 2,
       "version_minor": 0
      },
      "text/plain": [
       "  0%|          | 0/5000 [00:00<?, ?it/s]"
      ]
     },
     "metadata": {},
     "output_type": "display_data"
    },
    {
     "name": "stdout",
     "output_type": "stream",
     "text": [
      "Pecanpy:4.521523952484131\n",
      "Edges: 2025\n",
      "Extend=True\n"
     ]
    },
    {
     "name": "stderr",
     "output_type": "stream",
     "text": [
      "c:\\Users\\Anderson\\miniconda3\\envs\\gnn\\lib\\site-packages\\pecanpy\\rw\\sparse_rw.py:30: RuntimeWarning: Mean of empty slice.\n",
      "  data[indptr[i] : indptr[i + 1]].mean()\n",
      "c:\\Users\\Anderson\\miniconda3\\envs\\gnn\\lib\\site-packages\\numpy\\core\\_methods.py:129: RuntimeWarning: invalid value encountered in divide\n",
      "  ret = ret.dtype.type(ret / rcount)\n",
      "c:\\Users\\Anderson\\miniconda3\\envs\\gnn\\lib\\site-packages\\numpy\\core\\_methods.py:206: RuntimeWarning: Degrees of freedom <= 0 for slice\n",
      "  ret = _var(a, axis=axis, dtype=dtype, out=out, ddof=ddof,\n",
      "c:\\Users\\Anderson\\miniconda3\\envs\\gnn\\lib\\site-packages\\numpy\\core\\_methods.py:163: RuntimeWarning: invalid value encountered in divide\n",
      "  arrmean = um.true_divide(arrmean, div, out=arrmean,\n",
      "c:\\Users\\Anderson\\miniconda3\\envs\\gnn\\lib\\site-packages\\numpy\\core\\_methods.py:198: RuntimeWarning: invalid value encountered in divide\n",
      "  ret = ret.dtype.type(ret / rcount)\n"
     ]
    },
    {
     "data": {
      "application/vnd.jupyter.widget-view+json": {
       "model_id": "f347956a498e4a368a647fa82d049c40",
       "version_major": 2,
       "version_minor": 0
      },
      "text/plain": [
       "  0%|          | 0/5000 [00:00<?, ?it/s]"
      ]
     },
     "metadata": {},
     "output_type": "display_data"
    },
    {
     "name": "stdout",
     "output_type": "stream",
     "text": [
      "Pecanpy:4.2635369300842285\n",
      "Edges: 2025\n",
      "Extend=True\n"
     ]
    },
    {
     "name": "stderr",
     "output_type": "stream",
     "text": [
      "c:\\Users\\Anderson\\miniconda3\\envs\\gnn\\lib\\site-packages\\pecanpy\\rw\\sparse_rw.py:30: RuntimeWarning: Mean of empty slice.\n",
      "  data[indptr[i] : indptr[i + 1]].mean()\n",
      "c:\\Users\\Anderson\\miniconda3\\envs\\gnn\\lib\\site-packages\\numpy\\core\\_methods.py:129: RuntimeWarning: invalid value encountered in divide\n",
      "  ret = ret.dtype.type(ret / rcount)\n",
      "c:\\Users\\Anderson\\miniconda3\\envs\\gnn\\lib\\site-packages\\numpy\\core\\_methods.py:206: RuntimeWarning: Degrees of freedom <= 0 for slice\n",
      "  ret = _var(a, axis=axis, dtype=dtype, out=out, ddof=ddof,\n",
      "c:\\Users\\Anderson\\miniconda3\\envs\\gnn\\lib\\site-packages\\numpy\\core\\_methods.py:163: RuntimeWarning: invalid value encountered in divide\n",
      "  arrmean = um.true_divide(arrmean, div, out=arrmean,\n",
      "c:\\Users\\Anderson\\miniconda3\\envs\\gnn\\lib\\site-packages\\numpy\\core\\_methods.py:198: RuntimeWarning: invalid value encountered in divide\n",
      "  ret = ret.dtype.type(ret / rcount)\n"
     ]
    },
    {
     "data": {
      "application/vnd.jupyter.widget-view+json": {
       "model_id": "3d4e66ac42c24ac29c7f964427fda795",
       "version_major": 2,
       "version_minor": 0
      },
      "text/plain": [
       "  0%|          | 0/5000 [00:00<?, ?it/s]"
      ]
     },
     "metadata": {},
     "output_type": "display_data"
    },
    {
     "name": "stdout",
     "output_type": "stream",
     "text": [
      "Pecanpy:4.603746175765991\n",
      "Edges: 2025\n",
      "Extend=True\n"
     ]
    },
    {
     "name": "stderr",
     "output_type": "stream",
     "text": [
      "c:\\Users\\Anderson\\miniconda3\\envs\\gnn\\lib\\site-packages\\pecanpy\\rw\\sparse_rw.py:30: RuntimeWarning: Mean of empty slice.\n",
      "  data[indptr[i] : indptr[i + 1]].mean()\n",
      "c:\\Users\\Anderson\\miniconda3\\envs\\gnn\\lib\\site-packages\\numpy\\core\\_methods.py:129: RuntimeWarning: invalid value encountered in divide\n",
      "  ret = ret.dtype.type(ret / rcount)\n",
      "c:\\Users\\Anderson\\miniconda3\\envs\\gnn\\lib\\site-packages\\numpy\\core\\_methods.py:206: RuntimeWarning: Degrees of freedom <= 0 for slice\n",
      "  ret = _var(a, axis=axis, dtype=dtype, out=out, ddof=ddof,\n",
      "c:\\Users\\Anderson\\miniconda3\\envs\\gnn\\lib\\site-packages\\numpy\\core\\_methods.py:163: RuntimeWarning: invalid value encountered in divide\n",
      "  arrmean = um.true_divide(arrmean, div, out=arrmean,\n",
      "c:\\Users\\Anderson\\miniconda3\\envs\\gnn\\lib\\site-packages\\numpy\\core\\_methods.py:198: RuntimeWarning: invalid value encountered in divide\n",
      "  ret = ret.dtype.type(ret / rcount)\n"
     ]
    },
    {
     "data": {
      "application/vnd.jupyter.widget-view+json": {
       "model_id": "897e469c33fd43dea6a51fe1eb63904a",
       "version_major": 2,
       "version_minor": 0
      },
      "text/plain": [
       "  0%|          | 0/5000 [00:00<?, ?it/s]"
      ]
     },
     "metadata": {},
     "output_type": "display_data"
    },
    {
     "name": "stdout",
     "output_type": "stream",
     "text": [
      "Pecanpy:4.22867751121521\n",
      "Edges: 2025\n",
      "Extend=True\n"
     ]
    },
    {
     "name": "stderr",
     "output_type": "stream",
     "text": [
      "c:\\Users\\Anderson\\miniconda3\\envs\\gnn\\lib\\site-packages\\pecanpy\\rw\\sparse_rw.py:30: RuntimeWarning: Mean of empty slice.\n",
      "  data[indptr[i] : indptr[i + 1]].mean()\n",
      "c:\\Users\\Anderson\\miniconda3\\envs\\gnn\\lib\\site-packages\\numpy\\core\\_methods.py:129: RuntimeWarning: invalid value encountered in divide\n",
      "  ret = ret.dtype.type(ret / rcount)\n",
      "c:\\Users\\Anderson\\miniconda3\\envs\\gnn\\lib\\site-packages\\numpy\\core\\_methods.py:206: RuntimeWarning: Degrees of freedom <= 0 for slice\n",
      "  ret = _var(a, axis=axis, dtype=dtype, out=out, ddof=ddof,\n",
      "c:\\Users\\Anderson\\miniconda3\\envs\\gnn\\lib\\site-packages\\numpy\\core\\_methods.py:163: RuntimeWarning: invalid value encountered in divide\n",
      "  arrmean = um.true_divide(arrmean, div, out=arrmean,\n",
      "c:\\Users\\Anderson\\miniconda3\\envs\\gnn\\lib\\site-packages\\numpy\\core\\_methods.py:198: RuntimeWarning: invalid value encountered in divide\n",
      "  ret = ret.dtype.type(ret / rcount)\n"
     ]
    },
    {
     "data": {
      "application/vnd.jupyter.widget-view+json": {
       "model_id": "0b88e298c0ab4c069c344809a6fc5417",
       "version_major": 2,
       "version_minor": 0
      },
      "text/plain": [
       "  0%|          | 0/5000 [00:00<?, ?it/s]"
      ]
     },
     "metadata": {},
     "output_type": "display_data"
    },
    {
     "name": "stdout",
     "output_type": "stream",
     "text": [
      "Pecanpy:4.196355819702148\n",
      "Edges: 2025\n",
      "Extend=True\n"
     ]
    },
    {
     "name": "stderr",
     "output_type": "stream",
     "text": [
      "c:\\Users\\Anderson\\miniconda3\\envs\\gnn\\lib\\site-packages\\pecanpy\\rw\\sparse_rw.py:30: RuntimeWarning: Mean of empty slice.\n",
      "  data[indptr[i] : indptr[i + 1]].mean()\n",
      "c:\\Users\\Anderson\\miniconda3\\envs\\gnn\\lib\\site-packages\\numpy\\core\\_methods.py:129: RuntimeWarning: invalid value encountered in divide\n",
      "  ret = ret.dtype.type(ret / rcount)\n",
      "c:\\Users\\Anderson\\miniconda3\\envs\\gnn\\lib\\site-packages\\numpy\\core\\_methods.py:206: RuntimeWarning: Degrees of freedom <= 0 for slice\n",
      "  ret = _var(a, axis=axis, dtype=dtype, out=out, ddof=ddof,\n",
      "c:\\Users\\Anderson\\miniconda3\\envs\\gnn\\lib\\site-packages\\numpy\\core\\_methods.py:163: RuntimeWarning: invalid value encountered in divide\n",
      "  arrmean = um.true_divide(arrmean, div, out=arrmean,\n",
      "c:\\Users\\Anderson\\miniconda3\\envs\\gnn\\lib\\site-packages\\numpy\\core\\_methods.py:198: RuntimeWarning: invalid value encountered in divide\n",
      "  ret = ret.dtype.type(ret / rcount)\n"
     ]
    },
    {
     "data": {
      "application/vnd.jupyter.widget-view+json": {
       "model_id": "12f5ecb15f884200a60c2aceb5619e12",
       "version_major": 2,
       "version_minor": 0
      },
      "text/plain": [
       "  0%|          | 0/5000 [00:00<?, ?it/s]"
      ]
     },
     "metadata": {},
     "output_type": "display_data"
    },
    {
     "name": "stdout",
     "output_type": "stream",
     "text": [
      "Pecanpy:4.246497631072998\n",
      "Edges: 2025\n",
      "Extend=True\n"
     ]
    },
    {
     "name": "stderr",
     "output_type": "stream",
     "text": [
      "c:\\Users\\Anderson\\miniconda3\\envs\\gnn\\lib\\site-packages\\pecanpy\\rw\\sparse_rw.py:30: RuntimeWarning: Mean of empty slice.\n",
      "  data[indptr[i] : indptr[i + 1]].mean()\n",
      "c:\\Users\\Anderson\\miniconda3\\envs\\gnn\\lib\\site-packages\\numpy\\core\\_methods.py:129: RuntimeWarning: invalid value encountered in divide\n",
      "  ret = ret.dtype.type(ret / rcount)\n",
      "c:\\Users\\Anderson\\miniconda3\\envs\\gnn\\lib\\site-packages\\numpy\\core\\_methods.py:206: RuntimeWarning: Degrees of freedom <= 0 for slice\n",
      "  ret = _var(a, axis=axis, dtype=dtype, out=out, ddof=ddof,\n",
      "c:\\Users\\Anderson\\miniconda3\\envs\\gnn\\lib\\site-packages\\numpy\\core\\_methods.py:163: RuntimeWarning: invalid value encountered in divide\n",
      "  arrmean = um.true_divide(arrmean, div, out=arrmean,\n",
      "c:\\Users\\Anderson\\miniconda3\\envs\\gnn\\lib\\site-packages\\numpy\\core\\_methods.py:198: RuntimeWarning: invalid value encountered in divide\n",
      "  ret = ret.dtype.type(ret / rcount)\n"
     ]
    },
    {
     "data": {
      "application/vnd.jupyter.widget-view+json": {
       "model_id": "89bdcb58826d456d8b6fb1cc977710f7",
       "version_major": 2,
       "version_minor": 0
      },
      "text/plain": [
       "  0%|          | 0/5000 [00:00<?, ?it/s]"
      ]
     },
     "metadata": {},
     "output_type": "display_data"
    },
    {
     "name": "stdout",
     "output_type": "stream",
     "text": [
      "Pecanpy:4.355301856994629\n",
      "Edges: 2025\n",
      "Extend=True\n"
     ]
    },
    {
     "name": "stderr",
     "output_type": "stream",
     "text": [
      "c:\\Users\\Anderson\\miniconda3\\envs\\gnn\\lib\\site-packages\\pecanpy\\rw\\sparse_rw.py:30: RuntimeWarning: Mean of empty slice.\n",
      "  data[indptr[i] : indptr[i + 1]].mean()\n",
      "c:\\Users\\Anderson\\miniconda3\\envs\\gnn\\lib\\site-packages\\numpy\\core\\_methods.py:129: RuntimeWarning: invalid value encountered in divide\n",
      "  ret = ret.dtype.type(ret / rcount)\n",
      "c:\\Users\\Anderson\\miniconda3\\envs\\gnn\\lib\\site-packages\\numpy\\core\\_methods.py:206: RuntimeWarning: Degrees of freedom <= 0 for slice\n",
      "  ret = _var(a, axis=axis, dtype=dtype, out=out, ddof=ddof,\n",
      "c:\\Users\\Anderson\\miniconda3\\envs\\gnn\\lib\\site-packages\\numpy\\core\\_methods.py:163: RuntimeWarning: invalid value encountered in divide\n",
      "  arrmean = um.true_divide(arrmean, div, out=arrmean,\n",
      "c:\\Users\\Anderson\\miniconda3\\envs\\gnn\\lib\\site-packages\\numpy\\core\\_methods.py:198: RuntimeWarning: invalid value encountered in divide\n",
      "  ret = ret.dtype.type(ret / rcount)\n"
     ]
    },
    {
     "data": {
      "application/vnd.jupyter.widget-view+json": {
       "model_id": "fb90ef9b198a433f990e7bdb0ffb14b2",
       "version_major": 2,
       "version_minor": 0
      },
      "text/plain": [
       "  0%|          | 0/5000 [00:00<?, ?it/s]"
      ]
     },
     "metadata": {},
     "output_type": "display_data"
    },
    {
     "name": "stdout",
     "output_type": "stream",
     "text": [
      "Pecanpy:4.614234685897827\n",
      "Edges: 2025\n",
      "Extend=True\n"
     ]
    },
    {
     "name": "stderr",
     "output_type": "stream",
     "text": [
      "c:\\Users\\Anderson\\miniconda3\\envs\\gnn\\lib\\site-packages\\pecanpy\\rw\\sparse_rw.py:30: RuntimeWarning: Mean of empty slice.\n",
      "  data[indptr[i] : indptr[i + 1]].mean()\n",
      "c:\\Users\\Anderson\\miniconda3\\envs\\gnn\\lib\\site-packages\\numpy\\core\\_methods.py:129: RuntimeWarning: invalid value encountered in divide\n",
      "  ret = ret.dtype.type(ret / rcount)\n",
      "c:\\Users\\Anderson\\miniconda3\\envs\\gnn\\lib\\site-packages\\numpy\\core\\_methods.py:206: RuntimeWarning: Degrees of freedom <= 0 for slice\n",
      "  ret = _var(a, axis=axis, dtype=dtype, out=out, ddof=ddof,\n",
      "c:\\Users\\Anderson\\miniconda3\\envs\\gnn\\lib\\site-packages\\numpy\\core\\_methods.py:163: RuntimeWarning: invalid value encountered in divide\n",
      "  arrmean = um.true_divide(arrmean, div, out=arrmean,\n",
      "c:\\Users\\Anderson\\miniconda3\\envs\\gnn\\lib\\site-packages\\numpy\\core\\_methods.py:198: RuntimeWarning: invalid value encountered in divide\n",
      "  ret = ret.dtype.type(ret / rcount)\n"
     ]
    },
    {
     "data": {
      "application/vnd.jupyter.widget-view+json": {
       "model_id": "752fb8aad1f84b67ab2f1346c7ae2b08",
       "version_major": 2,
       "version_minor": 0
      },
      "text/plain": [
       "  0%|          | 0/5000 [00:00<?, ?it/s]"
      ]
     },
     "metadata": {},
     "output_type": "display_data"
    },
    {
     "name": "stdout",
     "output_type": "stream",
     "text": [
      "Pecanpy:4.247681379318237\n",
      "Edges: 2025\n",
      "Extend=True\n"
     ]
    },
    {
     "name": "stderr",
     "output_type": "stream",
     "text": [
      "c:\\Users\\Anderson\\miniconda3\\envs\\gnn\\lib\\site-packages\\pecanpy\\rw\\sparse_rw.py:30: RuntimeWarning: Mean of empty slice.\n",
      "  data[indptr[i] : indptr[i + 1]].mean()\n",
      "c:\\Users\\Anderson\\miniconda3\\envs\\gnn\\lib\\site-packages\\numpy\\core\\_methods.py:129: RuntimeWarning: invalid value encountered in divide\n",
      "  ret = ret.dtype.type(ret / rcount)\n",
      "c:\\Users\\Anderson\\miniconda3\\envs\\gnn\\lib\\site-packages\\numpy\\core\\_methods.py:206: RuntimeWarning: Degrees of freedom <= 0 for slice\n",
      "  ret = _var(a, axis=axis, dtype=dtype, out=out, ddof=ddof,\n",
      "c:\\Users\\Anderson\\miniconda3\\envs\\gnn\\lib\\site-packages\\numpy\\core\\_methods.py:163: RuntimeWarning: invalid value encountered in divide\n",
      "  arrmean = um.true_divide(arrmean, div, out=arrmean,\n",
      "c:\\Users\\Anderson\\miniconda3\\envs\\gnn\\lib\\site-packages\\numpy\\core\\_methods.py:198: RuntimeWarning: invalid value encountered in divide\n",
      "  ret = ret.dtype.type(ret / rcount)\n"
     ]
    },
    {
     "data": {
      "application/vnd.jupyter.widget-view+json": {
       "model_id": "7ad8ffbfeee24ec2a3134481f37b8375",
       "version_major": 2,
       "version_minor": 0
      },
      "text/plain": [
       "  0%|          | 0/5000 [00:00<?, ?it/s]"
      ]
     },
     "metadata": {},
     "output_type": "display_data"
    },
    {
     "name": "stdout",
     "output_type": "stream",
     "text": [
      "Pecanpy:4.389573335647583\n",
      "Edges: 2025\n",
      "Extend=True\n"
     ]
    },
    {
     "name": "stderr",
     "output_type": "stream",
     "text": [
      "c:\\Users\\Anderson\\miniconda3\\envs\\gnn\\lib\\site-packages\\pecanpy\\rw\\sparse_rw.py:30: RuntimeWarning: Mean of empty slice.\n",
      "  data[indptr[i] : indptr[i + 1]].mean()\n",
      "c:\\Users\\Anderson\\miniconda3\\envs\\gnn\\lib\\site-packages\\numpy\\core\\_methods.py:129: RuntimeWarning: invalid value encountered in divide\n",
      "  ret = ret.dtype.type(ret / rcount)\n",
      "c:\\Users\\Anderson\\miniconda3\\envs\\gnn\\lib\\site-packages\\numpy\\core\\_methods.py:206: RuntimeWarning: Degrees of freedom <= 0 for slice\n",
      "  ret = _var(a, axis=axis, dtype=dtype, out=out, ddof=ddof,\n",
      "c:\\Users\\Anderson\\miniconda3\\envs\\gnn\\lib\\site-packages\\numpy\\core\\_methods.py:163: RuntimeWarning: invalid value encountered in divide\n",
      "  arrmean = um.true_divide(arrmean, div, out=arrmean,\n",
      "c:\\Users\\Anderson\\miniconda3\\envs\\gnn\\lib\\site-packages\\numpy\\core\\_methods.py:198: RuntimeWarning: invalid value encountered in divide\n",
      "  ret = ret.dtype.type(ret / rcount)\n"
     ]
    },
    {
     "data": {
      "application/vnd.jupyter.widget-view+json": {
       "model_id": "a0cb2e78dce34397841457e0bcd1a697",
       "version_major": 2,
       "version_minor": 0
      },
      "text/plain": [
       "  0%|          | 0/5000 [00:00<?, ?it/s]"
      ]
     },
     "metadata": {},
     "output_type": "display_data"
    },
    {
     "name": "stdout",
     "output_type": "stream",
     "text": [
      "Pecanpy:4.333464860916138\n",
      "Edges: 2025\n",
      "Extend=True\n"
     ]
    },
    {
     "name": "stderr",
     "output_type": "stream",
     "text": [
      "c:\\Users\\Anderson\\miniconda3\\envs\\gnn\\lib\\site-packages\\pecanpy\\rw\\sparse_rw.py:30: RuntimeWarning: Mean of empty slice.\n",
      "  data[indptr[i] : indptr[i + 1]].mean()\n",
      "c:\\Users\\Anderson\\miniconda3\\envs\\gnn\\lib\\site-packages\\numpy\\core\\_methods.py:129: RuntimeWarning: invalid value encountered in divide\n",
      "  ret = ret.dtype.type(ret / rcount)\n",
      "c:\\Users\\Anderson\\miniconda3\\envs\\gnn\\lib\\site-packages\\numpy\\core\\_methods.py:206: RuntimeWarning: Degrees of freedom <= 0 for slice\n",
      "  ret = _var(a, axis=axis, dtype=dtype, out=out, ddof=ddof,\n",
      "c:\\Users\\Anderson\\miniconda3\\envs\\gnn\\lib\\site-packages\\numpy\\core\\_methods.py:163: RuntimeWarning: invalid value encountered in divide\n",
      "  arrmean = um.true_divide(arrmean, div, out=arrmean,\n",
      "c:\\Users\\Anderson\\miniconda3\\envs\\gnn\\lib\\site-packages\\numpy\\core\\_methods.py:198: RuntimeWarning: invalid value encountered in divide\n",
      "  ret = ret.dtype.type(ret / rcount)\n"
     ]
    },
    {
     "data": {
      "application/vnd.jupyter.widget-view+json": {
       "model_id": "9a959961291e4739aaf31fc5ca46e188",
       "version_major": 2,
       "version_minor": 0
      },
      "text/plain": [
       "  0%|          | 0/5000 [00:00<?, ?it/s]"
      ]
     },
     "metadata": {},
     "output_type": "display_data"
    },
    {
     "name": "stdout",
     "output_type": "stream",
     "text": [
      "Pecanpy:4.3343658447265625\n",
      "Edges: 2025\n",
      "Extend=True\n"
     ]
    },
    {
     "name": "stderr",
     "output_type": "stream",
     "text": [
      "c:\\Users\\Anderson\\miniconda3\\envs\\gnn\\lib\\site-packages\\pecanpy\\rw\\sparse_rw.py:30: RuntimeWarning: Mean of empty slice.\n",
      "  data[indptr[i] : indptr[i + 1]].mean()\n",
      "c:\\Users\\Anderson\\miniconda3\\envs\\gnn\\lib\\site-packages\\numpy\\core\\_methods.py:129: RuntimeWarning: invalid value encountered in divide\n",
      "  ret = ret.dtype.type(ret / rcount)\n",
      "c:\\Users\\Anderson\\miniconda3\\envs\\gnn\\lib\\site-packages\\numpy\\core\\_methods.py:206: RuntimeWarning: Degrees of freedom <= 0 for slice\n",
      "  ret = _var(a, axis=axis, dtype=dtype, out=out, ddof=ddof,\n",
      "c:\\Users\\Anderson\\miniconda3\\envs\\gnn\\lib\\site-packages\\numpy\\core\\_methods.py:163: RuntimeWarning: invalid value encountered in divide\n",
      "  arrmean = um.true_divide(arrmean, div, out=arrmean,\n",
      "c:\\Users\\Anderson\\miniconda3\\envs\\gnn\\lib\\site-packages\\numpy\\core\\_methods.py:198: RuntimeWarning: invalid value encountered in divide\n",
      "  ret = ret.dtype.type(ret / rcount)\n"
     ]
    },
    {
     "data": {
      "application/vnd.jupyter.widget-view+json": {
       "model_id": "5feb19dc914c4ffab06d81cff10ee3d3",
       "version_major": 2,
       "version_minor": 0
      },
      "text/plain": [
       "  0%|          | 0/5000 [00:00<?, ?it/s]"
      ]
     },
     "metadata": {},
     "output_type": "display_data"
    },
    {
     "name": "stdout",
     "output_type": "stream",
     "text": [
      "Pecanpy:4.285336971282959\n",
      "Edges: 2025\n",
      "Extend=True\n"
     ]
    },
    {
     "name": "stderr",
     "output_type": "stream",
     "text": [
      "c:\\Users\\Anderson\\miniconda3\\envs\\gnn\\lib\\site-packages\\pecanpy\\rw\\sparse_rw.py:30: RuntimeWarning: Mean of empty slice.\n",
      "  data[indptr[i] : indptr[i + 1]].mean()\n",
      "c:\\Users\\Anderson\\miniconda3\\envs\\gnn\\lib\\site-packages\\numpy\\core\\_methods.py:129: RuntimeWarning: invalid value encountered in divide\n",
      "  ret = ret.dtype.type(ret / rcount)\n",
      "c:\\Users\\Anderson\\miniconda3\\envs\\gnn\\lib\\site-packages\\numpy\\core\\_methods.py:206: RuntimeWarning: Degrees of freedom <= 0 for slice\n",
      "  ret = _var(a, axis=axis, dtype=dtype, out=out, ddof=ddof,\n",
      "c:\\Users\\Anderson\\miniconda3\\envs\\gnn\\lib\\site-packages\\numpy\\core\\_methods.py:163: RuntimeWarning: invalid value encountered in divide\n",
      "  arrmean = um.true_divide(arrmean, div, out=arrmean,\n",
      "c:\\Users\\Anderson\\miniconda3\\envs\\gnn\\lib\\site-packages\\numpy\\core\\_methods.py:198: RuntimeWarning: invalid value encountered in divide\n",
      "  ret = ret.dtype.type(ret / rcount)\n"
     ]
    },
    {
     "data": {
      "application/vnd.jupyter.widget-view+json": {
       "model_id": "825778880e3546bba1afc8282d199a41",
       "version_major": 2,
       "version_minor": 0
      },
      "text/plain": [
       "  0%|          | 0/5000 [00:00<?, ?it/s]"
      ]
     },
     "metadata": {},
     "output_type": "display_data"
    },
    {
     "name": "stdout",
     "output_type": "stream",
     "text": [
      "Pecanpy:4.501783609390259\n",
      "Edges: 2025\n",
      "Extend=True\n"
     ]
    },
    {
     "name": "stderr",
     "output_type": "stream",
     "text": [
      "c:\\Users\\Anderson\\miniconda3\\envs\\gnn\\lib\\site-packages\\pecanpy\\rw\\sparse_rw.py:30: RuntimeWarning: Mean of empty slice.\n",
      "  data[indptr[i] : indptr[i + 1]].mean()\n",
      "c:\\Users\\Anderson\\miniconda3\\envs\\gnn\\lib\\site-packages\\numpy\\core\\_methods.py:129: RuntimeWarning: invalid value encountered in divide\n",
      "  ret = ret.dtype.type(ret / rcount)\n",
      "c:\\Users\\Anderson\\miniconda3\\envs\\gnn\\lib\\site-packages\\numpy\\core\\_methods.py:206: RuntimeWarning: Degrees of freedom <= 0 for slice\n",
      "  ret = _var(a, axis=axis, dtype=dtype, out=out, ddof=ddof,\n",
      "c:\\Users\\Anderson\\miniconda3\\envs\\gnn\\lib\\site-packages\\numpy\\core\\_methods.py:163: RuntimeWarning: invalid value encountered in divide\n",
      "  arrmean = um.true_divide(arrmean, div, out=arrmean,\n",
      "c:\\Users\\Anderson\\miniconda3\\envs\\gnn\\lib\\site-packages\\numpy\\core\\_methods.py:198: RuntimeWarning: invalid value encountered in divide\n",
      "  ret = ret.dtype.type(ret / rcount)\n"
     ]
    },
    {
     "data": {
      "application/vnd.jupyter.widget-view+json": {
       "model_id": "8367d7a44c734da1854eb0e4f064a7e7",
       "version_major": 2,
       "version_minor": 0
      },
      "text/plain": [
       "  0%|          | 0/5000 [00:00<?, ?it/s]"
      ]
     },
     "metadata": {},
     "output_type": "display_data"
    },
    {
     "name": "stdout",
     "output_type": "stream",
     "text": [
      "Pecanpy:4.279645204544067\n",
      "Edges: 2025\n",
      "Extend=True\n"
     ]
    },
    {
     "name": "stderr",
     "output_type": "stream",
     "text": [
      "c:\\Users\\Anderson\\miniconda3\\envs\\gnn\\lib\\site-packages\\pecanpy\\rw\\sparse_rw.py:30: RuntimeWarning: Mean of empty slice.\n",
      "  data[indptr[i] : indptr[i + 1]].mean()\n",
      "c:\\Users\\Anderson\\miniconda3\\envs\\gnn\\lib\\site-packages\\numpy\\core\\_methods.py:129: RuntimeWarning: invalid value encountered in divide\n",
      "  ret = ret.dtype.type(ret / rcount)\n",
      "c:\\Users\\Anderson\\miniconda3\\envs\\gnn\\lib\\site-packages\\numpy\\core\\_methods.py:206: RuntimeWarning: Degrees of freedom <= 0 for slice\n",
      "  ret = _var(a, axis=axis, dtype=dtype, out=out, ddof=ddof,\n",
      "c:\\Users\\Anderson\\miniconda3\\envs\\gnn\\lib\\site-packages\\numpy\\core\\_methods.py:163: RuntimeWarning: invalid value encountered in divide\n",
      "  arrmean = um.true_divide(arrmean, div, out=arrmean,\n",
      "c:\\Users\\Anderson\\miniconda3\\envs\\gnn\\lib\\site-packages\\numpy\\core\\_methods.py:198: RuntimeWarning: invalid value encountered in divide\n",
      "  ret = ret.dtype.type(ret / rcount)\n"
     ]
    },
    {
     "data": {
      "application/vnd.jupyter.widget-view+json": {
       "model_id": "4bd8e50241974893bcc5b0a7e8bf8a9d",
       "version_major": 2,
       "version_minor": 0
      },
      "text/plain": [
       "  0%|          | 0/5000 [00:00<?, ?it/s]"
      ]
     },
     "metadata": {},
     "output_type": "display_data"
    },
    {
     "name": "stdout",
     "output_type": "stream",
     "text": [
      "Pecanpy:4.69520902633667\n",
      "Edges: 2025\n",
      "Extend=True\n"
     ]
    },
    {
     "name": "stderr",
     "output_type": "stream",
     "text": [
      "c:\\Users\\Anderson\\miniconda3\\envs\\gnn\\lib\\site-packages\\pecanpy\\rw\\sparse_rw.py:30: RuntimeWarning: Mean of empty slice.\n",
      "  data[indptr[i] : indptr[i + 1]].mean()\n",
      "c:\\Users\\Anderson\\miniconda3\\envs\\gnn\\lib\\site-packages\\numpy\\core\\_methods.py:129: RuntimeWarning: invalid value encountered in divide\n",
      "  ret = ret.dtype.type(ret / rcount)\n",
      "c:\\Users\\Anderson\\miniconda3\\envs\\gnn\\lib\\site-packages\\numpy\\core\\_methods.py:206: RuntimeWarning: Degrees of freedom <= 0 for slice\n",
      "  ret = _var(a, axis=axis, dtype=dtype, out=out, ddof=ddof,\n",
      "c:\\Users\\Anderson\\miniconda3\\envs\\gnn\\lib\\site-packages\\numpy\\core\\_methods.py:163: RuntimeWarning: invalid value encountered in divide\n",
      "  arrmean = um.true_divide(arrmean, div, out=arrmean,\n",
      "c:\\Users\\Anderson\\miniconda3\\envs\\gnn\\lib\\site-packages\\numpy\\core\\_methods.py:198: RuntimeWarning: invalid value encountered in divide\n",
      "  ret = ret.dtype.type(ret / rcount)\n"
     ]
    },
    {
     "data": {
      "application/vnd.jupyter.widget-view+json": {
       "model_id": "9b7e40d443e24e4497a6bf824f01341b",
       "version_major": 2,
       "version_minor": 0
      },
      "text/plain": [
       "  0%|          | 0/5000 [00:00<?, ?it/s]"
      ]
     },
     "metadata": {},
     "output_type": "display_data"
    },
    {
     "name": "stdout",
     "output_type": "stream",
     "text": [
      "Pecanpy:4.368154287338257\n",
      "Edges: 2025\n",
      "Extend=True\n"
     ]
    },
    {
     "name": "stderr",
     "output_type": "stream",
     "text": [
      "c:\\Users\\Anderson\\miniconda3\\envs\\gnn\\lib\\site-packages\\pecanpy\\rw\\sparse_rw.py:30: RuntimeWarning: Mean of empty slice.\n",
      "  data[indptr[i] : indptr[i + 1]].mean()\n",
      "c:\\Users\\Anderson\\miniconda3\\envs\\gnn\\lib\\site-packages\\numpy\\core\\_methods.py:129: RuntimeWarning: invalid value encountered in divide\n",
      "  ret = ret.dtype.type(ret / rcount)\n",
      "c:\\Users\\Anderson\\miniconda3\\envs\\gnn\\lib\\site-packages\\numpy\\core\\_methods.py:206: RuntimeWarning: Degrees of freedom <= 0 for slice\n",
      "  ret = _var(a, axis=axis, dtype=dtype, out=out, ddof=ddof,\n",
      "c:\\Users\\Anderson\\miniconda3\\envs\\gnn\\lib\\site-packages\\numpy\\core\\_methods.py:163: RuntimeWarning: invalid value encountered in divide\n",
      "  arrmean = um.true_divide(arrmean, div, out=arrmean,\n",
      "c:\\Users\\Anderson\\miniconda3\\envs\\gnn\\lib\\site-packages\\numpy\\core\\_methods.py:198: RuntimeWarning: invalid value encountered in divide\n",
      "  ret = ret.dtype.type(ret / rcount)\n"
     ]
    },
    {
     "data": {
      "application/vnd.jupyter.widget-view+json": {
       "model_id": "5d810501aa494f12b0cb0e8b7d6caf74",
       "version_major": 2,
       "version_minor": 0
      },
      "text/plain": [
       "  0%|          | 0/5000 [00:00<?, ?it/s]"
      ]
     },
     "metadata": {},
     "output_type": "display_data"
    },
    {
     "name": "stdout",
     "output_type": "stream",
     "text": [
      "Pecanpy:4.211299180984497\n",
      "Edges: 2025\n",
      "Extend=True\n"
     ]
    },
    {
     "name": "stderr",
     "output_type": "stream",
     "text": [
      "c:\\Users\\Anderson\\miniconda3\\envs\\gnn\\lib\\site-packages\\pecanpy\\rw\\sparse_rw.py:30: RuntimeWarning: Mean of empty slice.\n",
      "  data[indptr[i] : indptr[i + 1]].mean()\n",
      "c:\\Users\\Anderson\\miniconda3\\envs\\gnn\\lib\\site-packages\\numpy\\core\\_methods.py:129: RuntimeWarning: invalid value encountered in divide\n",
      "  ret = ret.dtype.type(ret / rcount)\n",
      "c:\\Users\\Anderson\\miniconda3\\envs\\gnn\\lib\\site-packages\\numpy\\core\\_methods.py:206: RuntimeWarning: Degrees of freedom <= 0 for slice\n",
      "  ret = _var(a, axis=axis, dtype=dtype, out=out, ddof=ddof,\n",
      "c:\\Users\\Anderson\\miniconda3\\envs\\gnn\\lib\\site-packages\\numpy\\core\\_methods.py:163: RuntimeWarning: invalid value encountered in divide\n",
      "  arrmean = um.true_divide(arrmean, div, out=arrmean,\n",
      "c:\\Users\\Anderson\\miniconda3\\envs\\gnn\\lib\\site-packages\\numpy\\core\\_methods.py:198: RuntimeWarning: invalid value encountered in divide\n",
      "  ret = ret.dtype.type(ret / rcount)\n"
     ]
    },
    {
     "data": {
      "application/vnd.jupyter.widget-view+json": {
       "model_id": "b24327c278d648c5819ebda409223352",
       "version_major": 2,
       "version_minor": 0
      },
      "text/plain": [
       "  0%|          | 0/5000 [00:00<?, ?it/s]"
      ]
     },
     "metadata": {},
     "output_type": "display_data"
    },
    {
     "name": "stdout",
     "output_type": "stream",
     "text": [
      "Pecanpy:4.5783679485321045\n",
      "Edges: 2025\n",
      "Extend=True\n"
     ]
    },
    {
     "name": "stderr",
     "output_type": "stream",
     "text": [
      "c:\\Users\\Anderson\\miniconda3\\envs\\gnn\\lib\\site-packages\\pecanpy\\rw\\sparse_rw.py:30: RuntimeWarning: Mean of empty slice.\n",
      "  data[indptr[i] : indptr[i + 1]].mean()\n",
      "c:\\Users\\Anderson\\miniconda3\\envs\\gnn\\lib\\site-packages\\numpy\\core\\_methods.py:129: RuntimeWarning: invalid value encountered in divide\n",
      "  ret = ret.dtype.type(ret / rcount)\n",
      "c:\\Users\\Anderson\\miniconda3\\envs\\gnn\\lib\\site-packages\\numpy\\core\\_methods.py:206: RuntimeWarning: Degrees of freedom <= 0 for slice\n",
      "  ret = _var(a, axis=axis, dtype=dtype, out=out, ddof=ddof,\n",
      "c:\\Users\\Anderson\\miniconda3\\envs\\gnn\\lib\\site-packages\\numpy\\core\\_methods.py:163: RuntimeWarning: invalid value encountered in divide\n",
      "  arrmean = um.true_divide(arrmean, div, out=arrmean,\n",
      "c:\\Users\\Anderson\\miniconda3\\envs\\gnn\\lib\\site-packages\\numpy\\core\\_methods.py:198: RuntimeWarning: invalid value encountered in divide\n",
      "  ret = ret.dtype.type(ret / rcount)\n"
     ]
    },
    {
     "data": {
      "application/vnd.jupyter.widget-view+json": {
       "model_id": "80e489618d34485fa3795f435b1d423d",
       "version_major": 2,
       "version_minor": 0
      },
      "text/plain": [
       "  0%|          | 0/5000 [00:00<?, ?it/s]"
      ]
     },
     "metadata": {},
     "output_type": "display_data"
    },
    {
     "name": "stdout",
     "output_type": "stream",
     "text": [
      "Pecanpy:4.3668177127838135\n",
      "Edges: 2025\n",
      "Extend=True\n"
     ]
    },
    {
     "name": "stderr",
     "output_type": "stream",
     "text": [
      "c:\\Users\\Anderson\\miniconda3\\envs\\gnn\\lib\\site-packages\\pecanpy\\rw\\sparse_rw.py:30: RuntimeWarning: Mean of empty slice.\n",
      "  data[indptr[i] : indptr[i + 1]].mean()\n",
      "c:\\Users\\Anderson\\miniconda3\\envs\\gnn\\lib\\site-packages\\numpy\\core\\_methods.py:129: RuntimeWarning: invalid value encountered in divide\n",
      "  ret = ret.dtype.type(ret / rcount)\n",
      "c:\\Users\\Anderson\\miniconda3\\envs\\gnn\\lib\\site-packages\\numpy\\core\\_methods.py:206: RuntimeWarning: Degrees of freedom <= 0 for slice\n",
      "  ret = _var(a, axis=axis, dtype=dtype, out=out, ddof=ddof,\n",
      "c:\\Users\\Anderson\\miniconda3\\envs\\gnn\\lib\\site-packages\\numpy\\core\\_methods.py:163: RuntimeWarning: invalid value encountered in divide\n",
      "  arrmean = um.true_divide(arrmean, div, out=arrmean,\n",
      "c:\\Users\\Anderson\\miniconda3\\envs\\gnn\\lib\\site-packages\\numpy\\core\\_methods.py:198: RuntimeWarning: invalid value encountered in divide\n",
      "  ret = ret.dtype.type(ret / rcount)\n"
     ]
    },
    {
     "data": {
      "application/vnd.jupyter.widget-view+json": {
       "model_id": "245fb704f1f14251af7089e8504e9e26",
       "version_major": 2,
       "version_minor": 0
      },
      "text/plain": [
       "  0%|          | 0/5000 [00:00<?, ?it/s]"
      ]
     },
     "metadata": {},
     "output_type": "display_data"
    },
    {
     "name": "stdout",
     "output_type": "stream",
     "text": [
      "Pecanpy:4.774602651596069\n",
      "Edges: 2025\n",
      "Extend=True\n"
     ]
    },
    {
     "name": "stderr",
     "output_type": "stream",
     "text": [
      "c:\\Users\\Anderson\\miniconda3\\envs\\gnn\\lib\\site-packages\\pecanpy\\rw\\sparse_rw.py:30: RuntimeWarning: Mean of empty slice.\n",
      "  data[indptr[i] : indptr[i + 1]].mean()\n",
      "c:\\Users\\Anderson\\miniconda3\\envs\\gnn\\lib\\site-packages\\numpy\\core\\_methods.py:129: RuntimeWarning: invalid value encountered in divide\n",
      "  ret = ret.dtype.type(ret / rcount)\n",
      "c:\\Users\\Anderson\\miniconda3\\envs\\gnn\\lib\\site-packages\\numpy\\core\\_methods.py:206: RuntimeWarning: Degrees of freedom <= 0 for slice\n",
      "  ret = _var(a, axis=axis, dtype=dtype, out=out, ddof=ddof,\n",
      "c:\\Users\\Anderson\\miniconda3\\envs\\gnn\\lib\\site-packages\\numpy\\core\\_methods.py:163: RuntimeWarning: invalid value encountered in divide\n",
      "  arrmean = um.true_divide(arrmean, div, out=arrmean,\n",
      "c:\\Users\\Anderson\\miniconda3\\envs\\gnn\\lib\\site-packages\\numpy\\core\\_methods.py:198: RuntimeWarning: invalid value encountered in divide\n",
      "  ret = ret.dtype.type(ret / rcount)\n"
     ]
    },
    {
     "data": {
      "application/vnd.jupyter.widget-view+json": {
       "model_id": "9a1b8549ee5d40268140f8a6054d3ca8",
       "version_major": 2,
       "version_minor": 0
      },
      "text/plain": [
       "  0%|          | 0/5000 [00:00<?, ?it/s]"
      ]
     },
     "metadata": {},
     "output_type": "display_data"
    },
    {
     "name": "stdout",
     "output_type": "stream",
     "text": [
      "Pecanpy:4.489752769470215\n",
      "Edges: 2025\n",
      "Extend=True\n"
     ]
    },
    {
     "name": "stderr",
     "output_type": "stream",
     "text": [
      "c:\\Users\\Anderson\\miniconda3\\envs\\gnn\\lib\\site-packages\\pecanpy\\rw\\sparse_rw.py:30: RuntimeWarning: Mean of empty slice.\n",
      "  data[indptr[i] : indptr[i + 1]].mean()\n",
      "c:\\Users\\Anderson\\miniconda3\\envs\\gnn\\lib\\site-packages\\numpy\\core\\_methods.py:129: RuntimeWarning: invalid value encountered in divide\n",
      "  ret = ret.dtype.type(ret / rcount)\n",
      "c:\\Users\\Anderson\\miniconda3\\envs\\gnn\\lib\\site-packages\\numpy\\core\\_methods.py:206: RuntimeWarning: Degrees of freedom <= 0 for slice\n",
      "  ret = _var(a, axis=axis, dtype=dtype, out=out, ddof=ddof,\n",
      "c:\\Users\\Anderson\\miniconda3\\envs\\gnn\\lib\\site-packages\\numpy\\core\\_methods.py:163: RuntimeWarning: invalid value encountered in divide\n",
      "  arrmean = um.true_divide(arrmean, div, out=arrmean,\n",
      "c:\\Users\\Anderson\\miniconda3\\envs\\gnn\\lib\\site-packages\\numpy\\core\\_methods.py:198: RuntimeWarning: invalid value encountered in divide\n",
      "  ret = ret.dtype.type(ret / rcount)\n"
     ]
    },
    {
     "data": {
      "application/vnd.jupyter.widget-view+json": {
       "model_id": "7a9a99e4d2a3432b8a92fbe8accc84e3",
       "version_major": 2,
       "version_minor": 0
      },
      "text/plain": [
       "  0%|          | 0/5000 [00:00<?, ?it/s]"
      ]
     },
     "metadata": {},
     "output_type": "display_data"
    },
    {
     "name": "stdout",
     "output_type": "stream",
     "text": [
      "Pecanpy:4.6588380336761475\n",
      "Edges: 2025\n",
      "Extend=True\n"
     ]
    },
    {
     "name": "stderr",
     "output_type": "stream",
     "text": [
      "c:\\Users\\Anderson\\miniconda3\\envs\\gnn\\lib\\site-packages\\pecanpy\\rw\\sparse_rw.py:30: RuntimeWarning: Mean of empty slice.\n",
      "  data[indptr[i] : indptr[i + 1]].mean()\n",
      "c:\\Users\\Anderson\\miniconda3\\envs\\gnn\\lib\\site-packages\\numpy\\core\\_methods.py:129: RuntimeWarning: invalid value encountered in divide\n",
      "  ret = ret.dtype.type(ret / rcount)\n",
      "c:\\Users\\Anderson\\miniconda3\\envs\\gnn\\lib\\site-packages\\numpy\\core\\_methods.py:206: RuntimeWarning: Degrees of freedom <= 0 for slice\n",
      "  ret = _var(a, axis=axis, dtype=dtype, out=out, ddof=ddof,\n",
      "c:\\Users\\Anderson\\miniconda3\\envs\\gnn\\lib\\site-packages\\numpy\\core\\_methods.py:163: RuntimeWarning: invalid value encountered in divide\n",
      "  arrmean = um.true_divide(arrmean, div, out=arrmean,\n",
      "c:\\Users\\Anderson\\miniconda3\\envs\\gnn\\lib\\site-packages\\numpy\\core\\_methods.py:198: RuntimeWarning: invalid value encountered in divide\n",
      "  ret = ret.dtype.type(ret / rcount)\n"
     ]
    },
    {
     "data": {
      "application/vnd.jupyter.widget-view+json": {
       "model_id": "740348c950d24eaabd82d3422d4d014f",
       "version_major": 2,
       "version_minor": 0
      },
      "text/plain": [
       "  0%|          | 0/5000 [00:00<?, ?it/s]"
      ]
     },
     "metadata": {},
     "output_type": "display_data"
    },
    {
     "name": "stdout",
     "output_type": "stream",
     "text": [
      "Pecanpy:4.376455783843994\n",
      "Edges: 2025\n",
      "Extend=True\n"
     ]
    },
    {
     "name": "stderr",
     "output_type": "stream",
     "text": [
      "c:\\Users\\Anderson\\miniconda3\\envs\\gnn\\lib\\site-packages\\pecanpy\\rw\\sparse_rw.py:30: RuntimeWarning: Mean of empty slice.\n",
      "  data[indptr[i] : indptr[i + 1]].mean()\n",
      "c:\\Users\\Anderson\\miniconda3\\envs\\gnn\\lib\\site-packages\\numpy\\core\\_methods.py:129: RuntimeWarning: invalid value encountered in divide\n",
      "  ret = ret.dtype.type(ret / rcount)\n",
      "c:\\Users\\Anderson\\miniconda3\\envs\\gnn\\lib\\site-packages\\numpy\\core\\_methods.py:206: RuntimeWarning: Degrees of freedom <= 0 for slice\n",
      "  ret = _var(a, axis=axis, dtype=dtype, out=out, ddof=ddof,\n",
      "c:\\Users\\Anderson\\miniconda3\\envs\\gnn\\lib\\site-packages\\numpy\\core\\_methods.py:163: RuntimeWarning: invalid value encountered in divide\n",
      "  arrmean = um.true_divide(arrmean, div, out=arrmean,\n",
      "c:\\Users\\Anderson\\miniconda3\\envs\\gnn\\lib\\site-packages\\numpy\\core\\_methods.py:198: RuntimeWarning: invalid value encountered in divide\n",
      "  ret = ret.dtype.type(ret / rcount)\n"
     ]
    },
    {
     "data": {
      "application/vnd.jupyter.widget-view+json": {
       "model_id": "3ac557d659a74718bf7e2d6a3b45bda1",
       "version_major": 2,
       "version_minor": 0
      },
      "text/plain": [
       "  0%|          | 0/5000 [00:00<?, ?it/s]"
      ]
     },
     "metadata": {},
     "output_type": "display_data"
    },
    {
     "name": "stdout",
     "output_type": "stream",
     "text": [
      "Pecanpy:4.715725421905518\n",
      "Edges: 2025\n",
      "Extend=True\n"
     ]
    },
    {
     "name": "stderr",
     "output_type": "stream",
     "text": [
      "c:\\Users\\Anderson\\miniconda3\\envs\\gnn\\lib\\site-packages\\pecanpy\\rw\\sparse_rw.py:30: RuntimeWarning: Mean of empty slice.\n",
      "  data[indptr[i] : indptr[i + 1]].mean()\n",
      "c:\\Users\\Anderson\\miniconda3\\envs\\gnn\\lib\\site-packages\\numpy\\core\\_methods.py:129: RuntimeWarning: invalid value encountered in divide\n",
      "  ret = ret.dtype.type(ret / rcount)\n",
      "c:\\Users\\Anderson\\miniconda3\\envs\\gnn\\lib\\site-packages\\numpy\\core\\_methods.py:206: RuntimeWarning: Degrees of freedom <= 0 for slice\n",
      "  ret = _var(a, axis=axis, dtype=dtype, out=out, ddof=ddof,\n",
      "c:\\Users\\Anderson\\miniconda3\\envs\\gnn\\lib\\site-packages\\numpy\\core\\_methods.py:163: RuntimeWarning: invalid value encountered in divide\n",
      "  arrmean = um.true_divide(arrmean, div, out=arrmean,\n",
      "c:\\Users\\Anderson\\miniconda3\\envs\\gnn\\lib\\site-packages\\numpy\\core\\_methods.py:198: RuntimeWarning: invalid value encountered in divide\n",
      "  ret = ret.dtype.type(ret / rcount)\n"
     ]
    },
    {
     "data": {
      "application/vnd.jupyter.widget-view+json": {
       "model_id": "27382fd1497943bcbe866ef70ca95484",
       "version_major": 2,
       "version_minor": 0
      },
      "text/plain": [
       "  0%|          | 0/5000 [00:00<?, ?it/s]"
      ]
     },
     "metadata": {},
     "output_type": "display_data"
    },
    {
     "name": "stdout",
     "output_type": "stream",
     "text": [
      "Pecanpy:4.362895250320435\n",
      "Edges: 2025\n",
      "Extend=True\n"
     ]
    },
    {
     "name": "stderr",
     "output_type": "stream",
     "text": [
      "c:\\Users\\Anderson\\miniconda3\\envs\\gnn\\lib\\site-packages\\pecanpy\\rw\\sparse_rw.py:30: RuntimeWarning: Mean of empty slice.\n",
      "  data[indptr[i] : indptr[i + 1]].mean()\n",
      "c:\\Users\\Anderson\\miniconda3\\envs\\gnn\\lib\\site-packages\\numpy\\core\\_methods.py:129: RuntimeWarning: invalid value encountered in divide\n",
      "  ret = ret.dtype.type(ret / rcount)\n",
      "c:\\Users\\Anderson\\miniconda3\\envs\\gnn\\lib\\site-packages\\numpy\\core\\_methods.py:206: RuntimeWarning: Degrees of freedom <= 0 for slice\n",
      "  ret = _var(a, axis=axis, dtype=dtype, out=out, ddof=ddof,\n",
      "c:\\Users\\Anderson\\miniconda3\\envs\\gnn\\lib\\site-packages\\numpy\\core\\_methods.py:163: RuntimeWarning: invalid value encountered in divide\n",
      "  arrmean = um.true_divide(arrmean, div, out=arrmean,\n",
      "c:\\Users\\Anderson\\miniconda3\\envs\\gnn\\lib\\site-packages\\numpy\\core\\_methods.py:198: RuntimeWarning: invalid value encountered in divide\n",
      "  ret = ret.dtype.type(ret / rcount)\n"
     ]
    },
    {
     "data": {
      "application/vnd.jupyter.widget-view+json": {
       "model_id": "382f2db076684cc5a18cf824afccc00b",
       "version_major": 2,
       "version_minor": 0
      },
      "text/plain": [
       "  0%|          | 0/5000 [00:00<?, ?it/s]"
      ]
     },
     "metadata": {},
     "output_type": "display_data"
    },
    {
     "name": "stdout",
     "output_type": "stream",
     "text": [
      "Pecanpy:4.36503529548645\n",
      "Edges: 2025\n",
      "Extend=True\n"
     ]
    },
    {
     "name": "stderr",
     "output_type": "stream",
     "text": [
      "c:\\Users\\Anderson\\miniconda3\\envs\\gnn\\lib\\site-packages\\pecanpy\\rw\\sparse_rw.py:30: RuntimeWarning: Mean of empty slice.\n",
      "  data[indptr[i] : indptr[i + 1]].mean()\n",
      "c:\\Users\\Anderson\\miniconda3\\envs\\gnn\\lib\\site-packages\\numpy\\core\\_methods.py:129: RuntimeWarning: invalid value encountered in divide\n",
      "  ret = ret.dtype.type(ret / rcount)\n",
      "c:\\Users\\Anderson\\miniconda3\\envs\\gnn\\lib\\site-packages\\numpy\\core\\_methods.py:206: RuntimeWarning: Degrees of freedom <= 0 for slice\n",
      "  ret = _var(a, axis=axis, dtype=dtype, out=out, ddof=ddof,\n",
      "c:\\Users\\Anderson\\miniconda3\\envs\\gnn\\lib\\site-packages\\numpy\\core\\_methods.py:163: RuntimeWarning: invalid value encountered in divide\n",
      "  arrmean = um.true_divide(arrmean, div, out=arrmean,\n",
      "c:\\Users\\Anderson\\miniconda3\\envs\\gnn\\lib\\site-packages\\numpy\\core\\_methods.py:198: RuntimeWarning: invalid value encountered in divide\n",
      "  ret = ret.dtype.type(ret / rcount)\n"
     ]
    },
    {
     "data": {
      "application/vnd.jupyter.widget-view+json": {
       "model_id": "4f0c5ae8c9114c7c99f8d93849130c2f",
       "version_major": 2,
       "version_minor": 0
      },
      "text/plain": [
       "  0%|          | 0/5000 [00:00<?, ?it/s]"
      ]
     },
     "metadata": {},
     "output_type": "display_data"
    },
    {
     "name": "stdout",
     "output_type": "stream",
     "text": [
      "Pecanpy:4.392137050628662\n",
      "Edges: 2025\n",
      "Extend=True\n"
     ]
    },
    {
     "name": "stderr",
     "output_type": "stream",
     "text": [
      "c:\\Users\\Anderson\\miniconda3\\envs\\gnn\\lib\\site-packages\\pecanpy\\rw\\sparse_rw.py:30: RuntimeWarning: Mean of empty slice.\n",
      "  data[indptr[i] : indptr[i + 1]].mean()\n",
      "c:\\Users\\Anderson\\miniconda3\\envs\\gnn\\lib\\site-packages\\numpy\\core\\_methods.py:129: RuntimeWarning: invalid value encountered in divide\n",
      "  ret = ret.dtype.type(ret / rcount)\n",
      "c:\\Users\\Anderson\\miniconda3\\envs\\gnn\\lib\\site-packages\\numpy\\core\\_methods.py:206: RuntimeWarning: Degrees of freedom <= 0 for slice\n",
      "  ret = _var(a, axis=axis, dtype=dtype, out=out, ddof=ddof,\n",
      "c:\\Users\\Anderson\\miniconda3\\envs\\gnn\\lib\\site-packages\\numpy\\core\\_methods.py:163: RuntimeWarning: invalid value encountered in divide\n",
      "  arrmean = um.true_divide(arrmean, div, out=arrmean,\n",
      "c:\\Users\\Anderson\\miniconda3\\envs\\gnn\\lib\\site-packages\\numpy\\core\\_methods.py:198: RuntimeWarning: invalid value encountered in divide\n",
      "  ret = ret.dtype.type(ret / rcount)\n"
     ]
    },
    {
     "data": {
      "application/vnd.jupyter.widget-view+json": {
       "model_id": "77873ba9833444a592be1d95da964d6a",
       "version_major": 2,
       "version_minor": 0
      },
      "text/plain": [
       "  0%|          | 0/5000 [00:00<?, ?it/s]"
      ]
     },
     "metadata": {},
     "output_type": "display_data"
    },
    {
     "name": "stdout",
     "output_type": "stream",
     "text": [
      "Pecanpy:4.302860975265503\n",
      "Edges: 2025\n",
      "Extend=True\n"
     ]
    },
    {
     "name": "stderr",
     "output_type": "stream",
     "text": [
      "c:\\Users\\Anderson\\miniconda3\\envs\\gnn\\lib\\site-packages\\pecanpy\\rw\\sparse_rw.py:30: RuntimeWarning: Mean of empty slice.\n",
      "  data[indptr[i] : indptr[i + 1]].mean()\n",
      "c:\\Users\\Anderson\\miniconda3\\envs\\gnn\\lib\\site-packages\\numpy\\core\\_methods.py:129: RuntimeWarning: invalid value encountered in divide\n",
      "  ret = ret.dtype.type(ret / rcount)\n",
      "c:\\Users\\Anderson\\miniconda3\\envs\\gnn\\lib\\site-packages\\numpy\\core\\_methods.py:206: RuntimeWarning: Degrees of freedom <= 0 for slice\n",
      "  ret = _var(a, axis=axis, dtype=dtype, out=out, ddof=ddof,\n",
      "c:\\Users\\Anderson\\miniconda3\\envs\\gnn\\lib\\site-packages\\numpy\\core\\_methods.py:163: RuntimeWarning: invalid value encountered in divide\n",
      "  arrmean = um.true_divide(arrmean, div, out=arrmean,\n",
      "c:\\Users\\Anderson\\miniconda3\\envs\\gnn\\lib\\site-packages\\numpy\\core\\_methods.py:198: RuntimeWarning: invalid value encountered in divide\n",
      "  ret = ret.dtype.type(ret / rcount)\n"
     ]
    },
    {
     "data": {
      "application/vnd.jupyter.widget-view+json": {
       "model_id": "496e0a256c46440e9e17ecd08f5f6901",
       "version_major": 2,
       "version_minor": 0
      },
      "text/plain": [
       "  0%|          | 0/5000 [00:00<?, ?it/s]"
      ]
     },
     "metadata": {},
     "output_type": "display_data"
    },
    {
     "name": "stdout",
     "output_type": "stream",
     "text": [
      "Pecanpy:4.753147125244141\n",
      "Edges: 2025\n",
      "Extend=True\n"
     ]
    },
    {
     "name": "stderr",
     "output_type": "stream",
     "text": [
      "c:\\Users\\Anderson\\miniconda3\\envs\\gnn\\lib\\site-packages\\pecanpy\\rw\\sparse_rw.py:30: RuntimeWarning: Mean of empty slice.\n",
      "  data[indptr[i] : indptr[i + 1]].mean()\n",
      "c:\\Users\\Anderson\\miniconda3\\envs\\gnn\\lib\\site-packages\\numpy\\core\\_methods.py:129: RuntimeWarning: invalid value encountered in divide\n",
      "  ret = ret.dtype.type(ret / rcount)\n",
      "c:\\Users\\Anderson\\miniconda3\\envs\\gnn\\lib\\site-packages\\numpy\\core\\_methods.py:206: RuntimeWarning: Degrees of freedom <= 0 for slice\n",
      "  ret = _var(a, axis=axis, dtype=dtype, out=out, ddof=ddof,\n",
      "c:\\Users\\Anderson\\miniconda3\\envs\\gnn\\lib\\site-packages\\numpy\\core\\_methods.py:163: RuntimeWarning: invalid value encountered in divide\n",
      "  arrmean = um.true_divide(arrmean, div, out=arrmean,\n",
      "c:\\Users\\Anderson\\miniconda3\\envs\\gnn\\lib\\site-packages\\numpy\\core\\_methods.py:198: RuntimeWarning: invalid value encountered in divide\n",
      "  ret = ret.dtype.type(ret / rcount)\n"
     ]
    },
    {
     "data": {
      "application/vnd.jupyter.widget-view+json": {
       "model_id": "00c65aa58c574a7cbc6f6df8f38f7e3d",
       "version_major": 2,
       "version_minor": 0
      },
      "text/plain": [
       "  0%|          | 0/5000 [00:00<?, ?it/s]"
      ]
     },
     "metadata": {},
     "output_type": "display_data"
    },
    {
     "name": "stdout",
     "output_type": "stream",
     "text": [
      "Pecanpy:4.431695938110352\n",
      "Edges: 2025\n",
      "Extend=True\n"
     ]
    },
    {
     "name": "stderr",
     "output_type": "stream",
     "text": [
      "c:\\Users\\Anderson\\miniconda3\\envs\\gnn\\lib\\site-packages\\pecanpy\\rw\\sparse_rw.py:30: RuntimeWarning: Mean of empty slice.\n",
      "  data[indptr[i] : indptr[i + 1]].mean()\n",
      "c:\\Users\\Anderson\\miniconda3\\envs\\gnn\\lib\\site-packages\\numpy\\core\\_methods.py:129: RuntimeWarning: invalid value encountered in divide\n",
      "  ret = ret.dtype.type(ret / rcount)\n",
      "c:\\Users\\Anderson\\miniconda3\\envs\\gnn\\lib\\site-packages\\numpy\\core\\_methods.py:206: RuntimeWarning: Degrees of freedom <= 0 for slice\n",
      "  ret = _var(a, axis=axis, dtype=dtype, out=out, ddof=ddof,\n",
      "c:\\Users\\Anderson\\miniconda3\\envs\\gnn\\lib\\site-packages\\numpy\\core\\_methods.py:163: RuntimeWarning: invalid value encountered in divide\n",
      "  arrmean = um.true_divide(arrmean, div, out=arrmean,\n",
      "c:\\Users\\Anderson\\miniconda3\\envs\\gnn\\lib\\site-packages\\numpy\\core\\_methods.py:198: RuntimeWarning: invalid value encountered in divide\n",
      "  ret = ret.dtype.type(ret / rcount)\n"
     ]
    },
    {
     "data": {
      "application/vnd.jupyter.widget-view+json": {
       "model_id": "8c44d9e37ff846ae99946bf52027dea9",
       "version_major": 2,
       "version_minor": 0
      },
      "text/plain": [
       "  0%|          | 0/5000 [00:00<?, ?it/s]"
      ]
     },
     "metadata": {},
     "output_type": "display_data"
    },
    {
     "name": "stdout",
     "output_type": "stream",
     "text": [
      "Pecanpy:4.466591835021973\n",
      "Edges: 2025\n",
      "Extend=True\n"
     ]
    },
    {
     "name": "stderr",
     "output_type": "stream",
     "text": [
      "c:\\Users\\Anderson\\miniconda3\\envs\\gnn\\lib\\site-packages\\pecanpy\\rw\\sparse_rw.py:30: RuntimeWarning: Mean of empty slice.\n",
      "  data[indptr[i] : indptr[i + 1]].mean()\n",
      "c:\\Users\\Anderson\\miniconda3\\envs\\gnn\\lib\\site-packages\\numpy\\core\\_methods.py:129: RuntimeWarning: invalid value encountered in divide\n",
      "  ret = ret.dtype.type(ret / rcount)\n",
      "c:\\Users\\Anderson\\miniconda3\\envs\\gnn\\lib\\site-packages\\numpy\\core\\_methods.py:206: RuntimeWarning: Degrees of freedom <= 0 for slice\n",
      "  ret = _var(a, axis=axis, dtype=dtype, out=out, ddof=ddof,\n",
      "c:\\Users\\Anderson\\miniconda3\\envs\\gnn\\lib\\site-packages\\numpy\\core\\_methods.py:163: RuntimeWarning: invalid value encountered in divide\n",
      "  arrmean = um.true_divide(arrmean, div, out=arrmean,\n",
      "c:\\Users\\Anderson\\miniconda3\\envs\\gnn\\lib\\site-packages\\numpy\\core\\_methods.py:198: RuntimeWarning: invalid value encountered in divide\n",
      "  ret = ret.dtype.type(ret / rcount)\n"
     ]
    },
    {
     "data": {
      "application/vnd.jupyter.widget-view+json": {
       "model_id": "e54a5d802c694a3491a02a064b90fa81",
       "version_major": 2,
       "version_minor": 0
      },
      "text/plain": [
       "  0%|          | 0/5000 [00:00<?, ?it/s]"
      ]
     },
     "metadata": {},
     "output_type": "display_data"
    },
    {
     "name": "stdout",
     "output_type": "stream",
     "text": [
      "Pecanpy:4.423909902572632\n",
      "Edges: 2025\n",
      "Extend=True\n"
     ]
    },
    {
     "name": "stderr",
     "output_type": "stream",
     "text": [
      "c:\\Users\\Anderson\\miniconda3\\envs\\gnn\\lib\\site-packages\\pecanpy\\rw\\sparse_rw.py:30: RuntimeWarning: Mean of empty slice.\n",
      "  data[indptr[i] : indptr[i + 1]].mean()\n",
      "c:\\Users\\Anderson\\miniconda3\\envs\\gnn\\lib\\site-packages\\numpy\\core\\_methods.py:129: RuntimeWarning: invalid value encountered in divide\n",
      "  ret = ret.dtype.type(ret / rcount)\n",
      "c:\\Users\\Anderson\\miniconda3\\envs\\gnn\\lib\\site-packages\\numpy\\core\\_methods.py:206: RuntimeWarning: Degrees of freedom <= 0 for slice\n",
      "  ret = _var(a, axis=axis, dtype=dtype, out=out, ddof=ddof,\n",
      "c:\\Users\\Anderson\\miniconda3\\envs\\gnn\\lib\\site-packages\\numpy\\core\\_methods.py:163: RuntimeWarning: invalid value encountered in divide\n",
      "  arrmean = um.true_divide(arrmean, div, out=arrmean,\n",
      "c:\\Users\\Anderson\\miniconda3\\envs\\gnn\\lib\\site-packages\\numpy\\core\\_methods.py:198: RuntimeWarning: invalid value encountered in divide\n",
      "  ret = ret.dtype.type(ret / rcount)\n"
     ]
    },
    {
     "data": {
      "application/vnd.jupyter.widget-view+json": {
       "model_id": "ad06129c23864c5d886a8a4589b611e7",
       "version_major": 2,
       "version_minor": 0
      },
      "text/plain": [
       "  0%|          | 0/5000 [00:00<?, ?it/s]"
      ]
     },
     "metadata": {},
     "output_type": "display_data"
    },
    {
     "name": "stdout",
     "output_type": "stream",
     "text": [
      "Pecanpy:4.422417879104614\n",
      "Edges: 2025\n",
      "Extend=True\n"
     ]
    },
    {
     "name": "stderr",
     "output_type": "stream",
     "text": [
      "c:\\Users\\Anderson\\miniconda3\\envs\\gnn\\lib\\site-packages\\pecanpy\\rw\\sparse_rw.py:30: RuntimeWarning: Mean of empty slice.\n",
      "  data[indptr[i] : indptr[i + 1]].mean()\n",
      "c:\\Users\\Anderson\\miniconda3\\envs\\gnn\\lib\\site-packages\\numpy\\core\\_methods.py:129: RuntimeWarning: invalid value encountered in divide\n",
      "  ret = ret.dtype.type(ret / rcount)\n",
      "c:\\Users\\Anderson\\miniconda3\\envs\\gnn\\lib\\site-packages\\numpy\\core\\_methods.py:206: RuntimeWarning: Degrees of freedom <= 0 for slice\n",
      "  ret = _var(a, axis=axis, dtype=dtype, out=out, ddof=ddof,\n",
      "c:\\Users\\Anderson\\miniconda3\\envs\\gnn\\lib\\site-packages\\numpy\\core\\_methods.py:163: RuntimeWarning: invalid value encountered in divide\n",
      "  arrmean = um.true_divide(arrmean, div, out=arrmean,\n",
      "c:\\Users\\Anderson\\miniconda3\\envs\\gnn\\lib\\site-packages\\numpy\\core\\_methods.py:198: RuntimeWarning: invalid value encountered in divide\n",
      "  ret = ret.dtype.type(ret / rcount)\n"
     ]
    },
    {
     "data": {
      "application/vnd.jupyter.widget-view+json": {
       "model_id": "916947d31c934a3da408f5fc9e6e031c",
       "version_major": 2,
       "version_minor": 0
      },
      "text/plain": [
       "  0%|          | 0/5000 [00:00<?, ?it/s]"
      ]
     },
     "metadata": {},
     "output_type": "display_data"
    },
    {
     "name": "stdout",
     "output_type": "stream",
     "text": [
      "Pecanpy:4.7924933433532715\n",
      "Edges: 2025\n",
      "Extend=True\n"
     ]
    },
    {
     "name": "stderr",
     "output_type": "stream",
     "text": [
      "c:\\Users\\Anderson\\miniconda3\\envs\\gnn\\lib\\site-packages\\pecanpy\\rw\\sparse_rw.py:30: RuntimeWarning: Mean of empty slice.\n",
      "  data[indptr[i] : indptr[i + 1]].mean()\n",
      "c:\\Users\\Anderson\\miniconda3\\envs\\gnn\\lib\\site-packages\\numpy\\core\\_methods.py:129: RuntimeWarning: invalid value encountered in divide\n",
      "  ret = ret.dtype.type(ret / rcount)\n",
      "c:\\Users\\Anderson\\miniconda3\\envs\\gnn\\lib\\site-packages\\numpy\\core\\_methods.py:206: RuntimeWarning: Degrees of freedom <= 0 for slice\n",
      "  ret = _var(a, axis=axis, dtype=dtype, out=out, ddof=ddof,\n",
      "c:\\Users\\Anderson\\miniconda3\\envs\\gnn\\lib\\site-packages\\numpy\\core\\_methods.py:163: RuntimeWarning: invalid value encountered in divide\n",
      "  arrmean = um.true_divide(arrmean, div, out=arrmean,\n",
      "c:\\Users\\Anderson\\miniconda3\\envs\\gnn\\lib\\site-packages\\numpy\\core\\_methods.py:198: RuntimeWarning: invalid value encountered in divide\n",
      "  ret = ret.dtype.type(ret / rcount)\n"
     ]
    },
    {
     "data": {
      "application/vnd.jupyter.widget-view+json": {
       "model_id": "2fec8fc7265c4babbaa89cd33d9b412a",
       "version_major": 2,
       "version_minor": 0
      },
      "text/plain": [
       "  0%|          | 0/5000 [00:00<?, ?it/s]"
      ]
     },
     "metadata": {},
     "output_type": "display_data"
    },
    {
     "name": "stdout",
     "output_type": "stream",
     "text": [
      "Pecanpy:4.422513961791992\n",
      "Edges: 2025\n",
      "Extend=True\n"
     ]
    },
    {
     "name": "stderr",
     "output_type": "stream",
     "text": [
      "c:\\Users\\Anderson\\miniconda3\\envs\\gnn\\lib\\site-packages\\pecanpy\\rw\\sparse_rw.py:30: RuntimeWarning: Mean of empty slice.\n",
      "  data[indptr[i] : indptr[i + 1]].mean()\n",
      "c:\\Users\\Anderson\\miniconda3\\envs\\gnn\\lib\\site-packages\\numpy\\core\\_methods.py:129: RuntimeWarning: invalid value encountered in divide\n",
      "  ret = ret.dtype.type(ret / rcount)\n",
      "c:\\Users\\Anderson\\miniconda3\\envs\\gnn\\lib\\site-packages\\numpy\\core\\_methods.py:206: RuntimeWarning: Degrees of freedom <= 0 for slice\n",
      "  ret = _var(a, axis=axis, dtype=dtype, out=out, ddof=ddof,\n",
      "c:\\Users\\Anderson\\miniconda3\\envs\\gnn\\lib\\site-packages\\numpy\\core\\_methods.py:163: RuntimeWarning: invalid value encountered in divide\n",
      "  arrmean = um.true_divide(arrmean, div, out=arrmean,\n",
      "c:\\Users\\Anderson\\miniconda3\\envs\\gnn\\lib\\site-packages\\numpy\\core\\_methods.py:198: RuntimeWarning: invalid value encountered in divide\n",
      "  ret = ret.dtype.type(ret / rcount)\n"
     ]
    },
    {
     "data": {
      "application/vnd.jupyter.widget-view+json": {
       "model_id": "dd7c950660c648b097df815102598fd2",
       "version_major": 2,
       "version_minor": 0
      },
      "text/plain": [
       "  0%|          | 0/5000 [00:00<?, ?it/s]"
      ]
     },
     "metadata": {},
     "output_type": "display_data"
    },
    {
     "name": "stdout",
     "output_type": "stream",
     "text": [
      "Pecanpy:4.657977819442749\n",
      "Edges: 2025\n",
      "Extend=True\n"
     ]
    },
    {
     "name": "stderr",
     "output_type": "stream",
     "text": [
      "c:\\Users\\Anderson\\miniconda3\\envs\\gnn\\lib\\site-packages\\pecanpy\\rw\\sparse_rw.py:30: RuntimeWarning: Mean of empty slice.\n",
      "  data[indptr[i] : indptr[i + 1]].mean()\n",
      "c:\\Users\\Anderson\\miniconda3\\envs\\gnn\\lib\\site-packages\\numpy\\core\\_methods.py:129: RuntimeWarning: invalid value encountered in divide\n",
      "  ret = ret.dtype.type(ret / rcount)\n",
      "c:\\Users\\Anderson\\miniconda3\\envs\\gnn\\lib\\site-packages\\numpy\\core\\_methods.py:206: RuntimeWarning: Degrees of freedom <= 0 for slice\n",
      "  ret = _var(a, axis=axis, dtype=dtype, out=out, ddof=ddof,\n",
      "c:\\Users\\Anderson\\miniconda3\\envs\\gnn\\lib\\site-packages\\numpy\\core\\_methods.py:163: RuntimeWarning: invalid value encountered in divide\n",
      "  arrmean = um.true_divide(arrmean, div, out=arrmean,\n",
      "c:\\Users\\Anderson\\miniconda3\\envs\\gnn\\lib\\site-packages\\numpy\\core\\_methods.py:198: RuntimeWarning: invalid value encountered in divide\n",
      "  ret = ret.dtype.type(ret / rcount)\n"
     ]
    },
    {
     "data": {
      "application/vnd.jupyter.widget-view+json": {
       "model_id": "e2c136e9fff34f3299365a5e9f81a180",
       "version_major": 2,
       "version_minor": 0
      },
      "text/plain": [
       "  0%|          | 0/5000 [00:00<?, ?it/s]"
      ]
     },
     "metadata": {},
     "output_type": "display_data"
    },
    {
     "name": "stdout",
     "output_type": "stream",
     "text": [
      "Pecanpy:4.4547083377838135\n",
      "Edges: 2025\n",
      "Extend=True\n"
     ]
    },
    {
     "name": "stderr",
     "output_type": "stream",
     "text": [
      "c:\\Users\\Anderson\\miniconda3\\envs\\gnn\\lib\\site-packages\\pecanpy\\rw\\sparse_rw.py:30: RuntimeWarning: Mean of empty slice.\n",
      "  data[indptr[i] : indptr[i + 1]].mean()\n",
      "c:\\Users\\Anderson\\miniconda3\\envs\\gnn\\lib\\site-packages\\numpy\\core\\_methods.py:129: RuntimeWarning: invalid value encountered in divide\n",
      "  ret = ret.dtype.type(ret / rcount)\n",
      "c:\\Users\\Anderson\\miniconda3\\envs\\gnn\\lib\\site-packages\\numpy\\core\\_methods.py:206: RuntimeWarning: Degrees of freedom <= 0 for slice\n",
      "  ret = _var(a, axis=axis, dtype=dtype, out=out, ddof=ddof,\n",
      "c:\\Users\\Anderson\\miniconda3\\envs\\gnn\\lib\\site-packages\\numpy\\core\\_methods.py:163: RuntimeWarning: invalid value encountered in divide\n",
      "  arrmean = um.true_divide(arrmean, div, out=arrmean,\n",
      "c:\\Users\\Anderson\\miniconda3\\envs\\gnn\\lib\\site-packages\\numpy\\core\\_methods.py:198: RuntimeWarning: invalid value encountered in divide\n",
      "  ret = ret.dtype.type(ret / rcount)\n"
     ]
    },
    {
     "data": {
      "application/vnd.jupyter.widget-view+json": {
       "model_id": "fbdd4a51fe47427094576d1e91d6542b",
       "version_major": 2,
       "version_minor": 0
      },
      "text/plain": [
       "  0%|          | 0/5000 [00:00<?, ?it/s]"
      ]
     },
     "metadata": {},
     "output_type": "display_data"
    },
    {
     "name": "stdout",
     "output_type": "stream",
     "text": [
      "Pecanpy:4.593731641769409\n",
      "Edges: 2025\n",
      "Extend=True\n"
     ]
    },
    {
     "name": "stderr",
     "output_type": "stream",
     "text": [
      "c:\\Users\\Anderson\\miniconda3\\envs\\gnn\\lib\\site-packages\\pecanpy\\rw\\sparse_rw.py:30: RuntimeWarning: Mean of empty slice.\n",
      "  data[indptr[i] : indptr[i + 1]].mean()\n",
      "c:\\Users\\Anderson\\miniconda3\\envs\\gnn\\lib\\site-packages\\numpy\\core\\_methods.py:129: RuntimeWarning: invalid value encountered in divide\n",
      "  ret = ret.dtype.type(ret / rcount)\n",
      "c:\\Users\\Anderson\\miniconda3\\envs\\gnn\\lib\\site-packages\\numpy\\core\\_methods.py:206: RuntimeWarning: Degrees of freedom <= 0 for slice\n",
      "  ret = _var(a, axis=axis, dtype=dtype, out=out, ddof=ddof,\n",
      "c:\\Users\\Anderson\\miniconda3\\envs\\gnn\\lib\\site-packages\\numpy\\core\\_methods.py:163: RuntimeWarning: invalid value encountered in divide\n",
      "  arrmean = um.true_divide(arrmean, div, out=arrmean,\n",
      "c:\\Users\\Anderson\\miniconda3\\envs\\gnn\\lib\\site-packages\\numpy\\core\\_methods.py:198: RuntimeWarning: invalid value encountered in divide\n",
      "  ret = ret.dtype.type(ret / rcount)\n"
     ]
    },
    {
     "data": {
      "application/vnd.jupyter.widget-view+json": {
       "model_id": "c1e18c70d5bb4c1393b7cefe40a18138",
       "version_major": 2,
       "version_minor": 0
      },
      "text/plain": [
       "  0%|          | 0/5000 [00:00<?, ?it/s]"
      ]
     },
     "metadata": {},
     "output_type": "display_data"
    },
    {
     "name": "stdout",
     "output_type": "stream",
     "text": [
      "Pecanpy:4.4623799324035645\n",
      "Edges: 2025\n",
      "Extend=True\n"
     ]
    },
    {
     "name": "stderr",
     "output_type": "stream",
     "text": [
      "c:\\Users\\Anderson\\miniconda3\\envs\\gnn\\lib\\site-packages\\pecanpy\\rw\\sparse_rw.py:30: RuntimeWarning: Mean of empty slice.\n",
      "  data[indptr[i] : indptr[i + 1]].mean()\n",
      "c:\\Users\\Anderson\\miniconda3\\envs\\gnn\\lib\\site-packages\\numpy\\core\\_methods.py:129: RuntimeWarning: invalid value encountered in divide\n",
      "  ret = ret.dtype.type(ret / rcount)\n",
      "c:\\Users\\Anderson\\miniconda3\\envs\\gnn\\lib\\site-packages\\numpy\\core\\_methods.py:206: RuntimeWarning: Degrees of freedom <= 0 for slice\n",
      "  ret = _var(a, axis=axis, dtype=dtype, out=out, ddof=ddof,\n",
      "c:\\Users\\Anderson\\miniconda3\\envs\\gnn\\lib\\site-packages\\numpy\\core\\_methods.py:163: RuntimeWarning: invalid value encountered in divide\n",
      "  arrmean = um.true_divide(arrmean, div, out=arrmean,\n",
      "c:\\Users\\Anderson\\miniconda3\\envs\\gnn\\lib\\site-packages\\numpy\\core\\_methods.py:198: RuntimeWarning: invalid value encountered in divide\n",
      "  ret = ret.dtype.type(ret / rcount)\n"
     ]
    },
    {
     "data": {
      "application/vnd.jupyter.widget-view+json": {
       "model_id": "7efc51d0dddb48d4b39681273e6cf1be",
       "version_major": 2,
       "version_minor": 0
      },
      "text/plain": [
       "  0%|          | 0/5000 [00:00<?, ?it/s]"
      ]
     },
     "metadata": {},
     "output_type": "display_data"
    },
    {
     "name": "stdout",
     "output_type": "stream",
     "text": [
      "Pecanpy:4.795497417449951\n",
      "Edges: 2025\n",
      "Extend=True\n"
     ]
    },
    {
     "name": "stderr",
     "output_type": "stream",
     "text": [
      "c:\\Users\\Anderson\\miniconda3\\envs\\gnn\\lib\\site-packages\\pecanpy\\rw\\sparse_rw.py:30: RuntimeWarning: Mean of empty slice.\n",
      "  data[indptr[i] : indptr[i + 1]].mean()\n",
      "c:\\Users\\Anderson\\miniconda3\\envs\\gnn\\lib\\site-packages\\numpy\\core\\_methods.py:129: RuntimeWarning: invalid value encountered in divide\n",
      "  ret = ret.dtype.type(ret / rcount)\n",
      "c:\\Users\\Anderson\\miniconda3\\envs\\gnn\\lib\\site-packages\\numpy\\core\\_methods.py:206: RuntimeWarning: Degrees of freedom <= 0 for slice\n",
      "  ret = _var(a, axis=axis, dtype=dtype, out=out, ddof=ddof,\n",
      "c:\\Users\\Anderson\\miniconda3\\envs\\gnn\\lib\\site-packages\\numpy\\core\\_methods.py:163: RuntimeWarning: invalid value encountered in divide\n",
      "  arrmean = um.true_divide(arrmean, div, out=arrmean,\n",
      "c:\\Users\\Anderson\\miniconda3\\envs\\gnn\\lib\\site-packages\\numpy\\core\\_methods.py:198: RuntimeWarning: invalid value encountered in divide\n",
      "  ret = ret.dtype.type(ret / rcount)\n"
     ]
    },
    {
     "data": {
      "application/vnd.jupyter.widget-view+json": {
       "model_id": "c3f86866147b4e3fae61d37eb3fa854a",
       "version_major": 2,
       "version_minor": 0
      },
      "text/plain": [
       "  0%|          | 0/5000 [00:00<?, ?it/s]"
      ]
     },
     "metadata": {},
     "output_type": "display_data"
    },
    {
     "name": "stdout",
     "output_type": "stream",
     "text": [
      "Pecanpy:4.5226147174835205\n",
      "Edges: 2025\n",
      "Extend=True\n"
     ]
    },
    {
     "name": "stderr",
     "output_type": "stream",
     "text": [
      "c:\\Users\\Anderson\\miniconda3\\envs\\gnn\\lib\\site-packages\\pecanpy\\rw\\sparse_rw.py:30: RuntimeWarning: Mean of empty slice.\n",
      "  data[indptr[i] : indptr[i + 1]].mean()\n",
      "c:\\Users\\Anderson\\miniconda3\\envs\\gnn\\lib\\site-packages\\numpy\\core\\_methods.py:129: RuntimeWarning: invalid value encountered in divide\n",
      "  ret = ret.dtype.type(ret / rcount)\n",
      "c:\\Users\\Anderson\\miniconda3\\envs\\gnn\\lib\\site-packages\\numpy\\core\\_methods.py:206: RuntimeWarning: Degrees of freedom <= 0 for slice\n",
      "  ret = _var(a, axis=axis, dtype=dtype, out=out, ddof=ddof,\n",
      "c:\\Users\\Anderson\\miniconda3\\envs\\gnn\\lib\\site-packages\\numpy\\core\\_methods.py:163: RuntimeWarning: invalid value encountered in divide\n",
      "  arrmean = um.true_divide(arrmean, div, out=arrmean,\n",
      "c:\\Users\\Anderson\\miniconda3\\envs\\gnn\\lib\\site-packages\\numpy\\core\\_methods.py:198: RuntimeWarning: invalid value encountered in divide\n",
      "  ret = ret.dtype.type(ret / rcount)\n"
     ]
    },
    {
     "data": {
      "application/vnd.jupyter.widget-view+json": {
       "model_id": "733cc3f4d34643a599a5028f5adf3f09",
       "version_major": 2,
       "version_minor": 0
      },
      "text/plain": [
       "  0%|          | 0/5000 [00:00<?, ?it/s]"
      ]
     },
     "metadata": {},
     "output_type": "display_data"
    },
    {
     "name": "stdout",
     "output_type": "stream",
     "text": [
      "Pecanpy:4.362132549285889\n",
      "Edges: 2025\n",
      "Extend=True\n"
     ]
    },
    {
     "name": "stderr",
     "output_type": "stream",
     "text": [
      "c:\\Users\\Anderson\\miniconda3\\envs\\gnn\\lib\\site-packages\\pecanpy\\rw\\sparse_rw.py:30: RuntimeWarning: Mean of empty slice.\n",
      "  data[indptr[i] : indptr[i + 1]].mean()\n",
      "c:\\Users\\Anderson\\miniconda3\\envs\\gnn\\lib\\site-packages\\numpy\\core\\_methods.py:129: RuntimeWarning: invalid value encountered in divide\n",
      "  ret = ret.dtype.type(ret / rcount)\n",
      "c:\\Users\\Anderson\\miniconda3\\envs\\gnn\\lib\\site-packages\\numpy\\core\\_methods.py:206: RuntimeWarning: Degrees of freedom <= 0 for slice\n",
      "  ret = _var(a, axis=axis, dtype=dtype, out=out, ddof=ddof,\n",
      "c:\\Users\\Anderson\\miniconda3\\envs\\gnn\\lib\\site-packages\\numpy\\core\\_methods.py:163: RuntimeWarning: invalid value encountered in divide\n",
      "  arrmean = um.true_divide(arrmean, div, out=arrmean,\n",
      "c:\\Users\\Anderson\\miniconda3\\envs\\gnn\\lib\\site-packages\\numpy\\core\\_methods.py:198: RuntimeWarning: invalid value encountered in divide\n",
      "  ret = ret.dtype.type(ret / rcount)\n"
     ]
    },
    {
     "data": {
      "application/vnd.jupyter.widget-view+json": {
       "model_id": "dac965846c2348faa9de44027f63daa4",
       "version_major": 2,
       "version_minor": 0
      },
      "text/plain": [
       "  0%|          | 0/5000 [00:00<?, ?it/s]"
      ]
     },
     "metadata": {},
     "output_type": "display_data"
    },
    {
     "name": "stdout",
     "output_type": "stream",
     "text": [
      "Pecanpy:4.234754800796509\n",
      "Edges: 2025\n",
      "Extend=True\n"
     ]
    },
    {
     "name": "stderr",
     "output_type": "stream",
     "text": [
      "c:\\Users\\Anderson\\miniconda3\\envs\\gnn\\lib\\site-packages\\pecanpy\\rw\\sparse_rw.py:30: RuntimeWarning: Mean of empty slice.\n",
      "  data[indptr[i] : indptr[i + 1]].mean()\n",
      "c:\\Users\\Anderson\\miniconda3\\envs\\gnn\\lib\\site-packages\\numpy\\core\\_methods.py:129: RuntimeWarning: invalid value encountered in divide\n",
      "  ret = ret.dtype.type(ret / rcount)\n",
      "c:\\Users\\Anderson\\miniconda3\\envs\\gnn\\lib\\site-packages\\numpy\\core\\_methods.py:206: RuntimeWarning: Degrees of freedom <= 0 for slice\n",
      "  ret = _var(a, axis=axis, dtype=dtype, out=out, ddof=ddof,\n",
      "c:\\Users\\Anderson\\miniconda3\\envs\\gnn\\lib\\site-packages\\numpy\\core\\_methods.py:163: RuntimeWarning: invalid value encountered in divide\n",
      "  arrmean = um.true_divide(arrmean, div, out=arrmean,\n",
      "c:\\Users\\Anderson\\miniconda3\\envs\\gnn\\lib\\site-packages\\numpy\\core\\_methods.py:198: RuntimeWarning: invalid value encountered in divide\n",
      "  ret = ret.dtype.type(ret / rcount)\n"
     ]
    },
    {
     "data": {
      "application/vnd.jupyter.widget-view+json": {
       "model_id": "15bd8738ab9d405b81029ce0ff3a909a",
       "version_major": 2,
       "version_minor": 0
      },
      "text/plain": [
       "  0%|          | 0/5000 [00:00<?, ?it/s]"
      ]
     },
     "metadata": {},
     "output_type": "display_data"
    },
    {
     "name": "stdout",
     "output_type": "stream",
     "text": [
      "Pecanpy:4.301018238067627\n",
      "Edges: 2025\n",
      "Extend=True\n"
     ]
    },
    {
     "name": "stderr",
     "output_type": "stream",
     "text": [
      "c:\\Users\\Anderson\\miniconda3\\envs\\gnn\\lib\\site-packages\\pecanpy\\rw\\sparse_rw.py:30: RuntimeWarning: Mean of empty slice.\n",
      "  data[indptr[i] : indptr[i + 1]].mean()\n",
      "c:\\Users\\Anderson\\miniconda3\\envs\\gnn\\lib\\site-packages\\numpy\\core\\_methods.py:129: RuntimeWarning: invalid value encountered in divide\n",
      "  ret = ret.dtype.type(ret / rcount)\n",
      "c:\\Users\\Anderson\\miniconda3\\envs\\gnn\\lib\\site-packages\\numpy\\core\\_methods.py:206: RuntimeWarning: Degrees of freedom <= 0 for slice\n",
      "  ret = _var(a, axis=axis, dtype=dtype, out=out, ddof=ddof,\n",
      "c:\\Users\\Anderson\\miniconda3\\envs\\gnn\\lib\\site-packages\\numpy\\core\\_methods.py:163: RuntimeWarning: invalid value encountered in divide\n",
      "  arrmean = um.true_divide(arrmean, div, out=arrmean,\n",
      "c:\\Users\\Anderson\\miniconda3\\envs\\gnn\\lib\\site-packages\\numpy\\core\\_methods.py:198: RuntimeWarning: invalid value encountered in divide\n",
      "  ret = ret.dtype.type(ret / rcount)\n"
     ]
    },
    {
     "data": {
      "application/vnd.jupyter.widget-view+json": {
       "model_id": "cc29929bd44c45e9ae944a03e8b416c3",
       "version_major": 2,
       "version_minor": 0
      },
      "text/plain": [
       "  0%|          | 0/5000 [00:00<?, ?it/s]"
      ]
     },
     "metadata": {},
     "output_type": "display_data"
    },
    {
     "name": "stdout",
     "output_type": "stream",
     "text": [
      "Pecanpy:4.234790563583374\n",
      "Edges: 2025\n",
      "Extend=True\n"
     ]
    },
    {
     "name": "stderr",
     "output_type": "stream",
     "text": [
      "c:\\Users\\Anderson\\miniconda3\\envs\\gnn\\lib\\site-packages\\pecanpy\\rw\\sparse_rw.py:30: RuntimeWarning: Mean of empty slice.\n",
      "  data[indptr[i] : indptr[i + 1]].mean()\n",
      "c:\\Users\\Anderson\\miniconda3\\envs\\gnn\\lib\\site-packages\\numpy\\core\\_methods.py:129: RuntimeWarning: invalid value encountered in divide\n",
      "  ret = ret.dtype.type(ret / rcount)\n",
      "c:\\Users\\Anderson\\miniconda3\\envs\\gnn\\lib\\site-packages\\numpy\\core\\_methods.py:206: RuntimeWarning: Degrees of freedom <= 0 for slice\n",
      "  ret = _var(a, axis=axis, dtype=dtype, out=out, ddof=ddof,\n",
      "c:\\Users\\Anderson\\miniconda3\\envs\\gnn\\lib\\site-packages\\numpy\\core\\_methods.py:163: RuntimeWarning: invalid value encountered in divide\n",
      "  arrmean = um.true_divide(arrmean, div, out=arrmean,\n",
      "c:\\Users\\Anderson\\miniconda3\\envs\\gnn\\lib\\site-packages\\numpy\\core\\_methods.py:198: RuntimeWarning: invalid value encountered in divide\n",
      "  ret = ret.dtype.type(ret / rcount)\n"
     ]
    },
    {
     "data": {
      "application/vnd.jupyter.widget-view+json": {
       "model_id": "779462336b324f1da48231a7a7af028a",
       "version_major": 2,
       "version_minor": 0
      },
      "text/plain": [
       "  0%|          | 0/5000 [00:00<?, ?it/s]"
      ]
     },
     "metadata": {},
     "output_type": "display_data"
    },
    {
     "name": "stdout",
     "output_type": "stream",
     "text": [
      "Pecanpy:5.1992151737213135\n",
      "Edges: 2025\n",
      "Extend=True\n"
     ]
    },
    {
     "name": "stderr",
     "output_type": "stream",
     "text": [
      "c:\\Users\\Anderson\\miniconda3\\envs\\gnn\\lib\\site-packages\\pecanpy\\rw\\sparse_rw.py:30: RuntimeWarning: Mean of empty slice.\n",
      "  data[indptr[i] : indptr[i + 1]].mean()\n",
      "c:\\Users\\Anderson\\miniconda3\\envs\\gnn\\lib\\site-packages\\numpy\\core\\_methods.py:129: RuntimeWarning: invalid value encountered in divide\n",
      "  ret = ret.dtype.type(ret / rcount)\n",
      "c:\\Users\\Anderson\\miniconda3\\envs\\gnn\\lib\\site-packages\\numpy\\core\\_methods.py:206: RuntimeWarning: Degrees of freedom <= 0 for slice\n",
      "  ret = _var(a, axis=axis, dtype=dtype, out=out, ddof=ddof,\n",
      "c:\\Users\\Anderson\\miniconda3\\envs\\gnn\\lib\\site-packages\\numpy\\core\\_methods.py:163: RuntimeWarning: invalid value encountered in divide\n",
      "  arrmean = um.true_divide(arrmean, div, out=arrmean,\n",
      "c:\\Users\\Anderson\\miniconda3\\envs\\gnn\\lib\\site-packages\\numpy\\core\\_methods.py:198: RuntimeWarning: invalid value encountered in divide\n",
      "  ret = ret.dtype.type(ret / rcount)\n"
     ]
    },
    {
     "data": {
      "application/vnd.jupyter.widget-view+json": {
       "model_id": "10ae83deb0c14c89af6854d928736e3a",
       "version_major": 2,
       "version_minor": 0
      },
      "text/plain": [
       "  0%|          | 0/5000 [00:00<?, ?it/s]"
      ]
     },
     "metadata": {},
     "output_type": "display_data"
    },
    {
     "name": "stdout",
     "output_type": "stream",
     "text": [
      "Pecanpy:4.6290388107299805\n",
      "Edges: 2025\n",
      "Extend=True\n"
     ]
    },
    {
     "name": "stderr",
     "output_type": "stream",
     "text": [
      "c:\\Users\\Anderson\\miniconda3\\envs\\gnn\\lib\\site-packages\\pecanpy\\rw\\sparse_rw.py:30: RuntimeWarning: Mean of empty slice.\n",
      "  data[indptr[i] : indptr[i + 1]].mean()\n",
      "c:\\Users\\Anderson\\miniconda3\\envs\\gnn\\lib\\site-packages\\numpy\\core\\_methods.py:129: RuntimeWarning: invalid value encountered in divide\n",
      "  ret = ret.dtype.type(ret / rcount)\n",
      "c:\\Users\\Anderson\\miniconda3\\envs\\gnn\\lib\\site-packages\\numpy\\core\\_methods.py:206: RuntimeWarning: Degrees of freedom <= 0 for slice\n",
      "  ret = _var(a, axis=axis, dtype=dtype, out=out, ddof=ddof,\n",
      "c:\\Users\\Anderson\\miniconda3\\envs\\gnn\\lib\\site-packages\\numpy\\core\\_methods.py:163: RuntimeWarning: invalid value encountered in divide\n",
      "  arrmean = um.true_divide(arrmean, div, out=arrmean,\n",
      "c:\\Users\\Anderson\\miniconda3\\envs\\gnn\\lib\\site-packages\\numpy\\core\\_methods.py:198: RuntimeWarning: invalid value encountered in divide\n",
      "  ret = ret.dtype.type(ret / rcount)\n"
     ]
    },
    {
     "data": {
      "application/vnd.jupyter.widget-view+json": {
       "model_id": "8e639331f4b346b58efe3597d019549c",
       "version_major": 2,
       "version_minor": 0
      },
      "text/plain": [
       "  0%|          | 0/5000 [00:00<?, ?it/s]"
      ]
     },
     "metadata": {},
     "output_type": "display_data"
    },
    {
     "name": "stdout",
     "output_type": "stream",
     "text": [
      "Pecanpy:4.269471645355225\n",
      "Edges: 2025\n",
      "Extend=True\n"
     ]
    },
    {
     "name": "stderr",
     "output_type": "stream",
     "text": [
      "c:\\Users\\Anderson\\miniconda3\\envs\\gnn\\lib\\site-packages\\pecanpy\\rw\\sparse_rw.py:30: RuntimeWarning: Mean of empty slice.\n",
      "  data[indptr[i] : indptr[i + 1]].mean()\n",
      "c:\\Users\\Anderson\\miniconda3\\envs\\gnn\\lib\\site-packages\\numpy\\core\\_methods.py:129: RuntimeWarning: invalid value encountered in divide\n",
      "  ret = ret.dtype.type(ret / rcount)\n",
      "c:\\Users\\Anderson\\miniconda3\\envs\\gnn\\lib\\site-packages\\numpy\\core\\_methods.py:206: RuntimeWarning: Degrees of freedom <= 0 for slice\n",
      "  ret = _var(a, axis=axis, dtype=dtype, out=out, ddof=ddof,\n",
      "c:\\Users\\Anderson\\miniconda3\\envs\\gnn\\lib\\site-packages\\numpy\\core\\_methods.py:163: RuntimeWarning: invalid value encountered in divide\n",
      "  arrmean = um.true_divide(arrmean, div, out=arrmean,\n",
      "c:\\Users\\Anderson\\miniconda3\\envs\\gnn\\lib\\site-packages\\numpy\\core\\_methods.py:198: RuntimeWarning: invalid value encountered in divide\n",
      "  ret = ret.dtype.type(ret / rcount)\n"
     ]
    },
    {
     "data": {
      "application/vnd.jupyter.widget-view+json": {
       "model_id": "55eb36aa700f4522a1d83459799ca71c",
       "version_major": 2,
       "version_minor": 0
      },
      "text/plain": [
       "  0%|          | 0/5000 [00:00<?, ?it/s]"
      ]
     },
     "metadata": {},
     "output_type": "display_data"
    },
    {
     "name": "stdout",
     "output_type": "stream",
     "text": [
      "Pecanpy:4.2443554401397705\n",
      "Edges: 2025\n",
      "Extend=True\n"
     ]
    },
    {
     "name": "stderr",
     "output_type": "stream",
     "text": [
      "c:\\Users\\Anderson\\miniconda3\\envs\\gnn\\lib\\site-packages\\pecanpy\\rw\\sparse_rw.py:30: RuntimeWarning: Mean of empty slice.\n",
      "  data[indptr[i] : indptr[i + 1]].mean()\n",
      "c:\\Users\\Anderson\\miniconda3\\envs\\gnn\\lib\\site-packages\\numpy\\core\\_methods.py:129: RuntimeWarning: invalid value encountered in divide\n",
      "  ret = ret.dtype.type(ret / rcount)\n",
      "c:\\Users\\Anderson\\miniconda3\\envs\\gnn\\lib\\site-packages\\numpy\\core\\_methods.py:206: RuntimeWarning: Degrees of freedom <= 0 for slice\n",
      "  ret = _var(a, axis=axis, dtype=dtype, out=out, ddof=ddof,\n",
      "c:\\Users\\Anderson\\miniconda3\\envs\\gnn\\lib\\site-packages\\numpy\\core\\_methods.py:163: RuntimeWarning: invalid value encountered in divide\n",
      "  arrmean = um.true_divide(arrmean, div, out=arrmean,\n",
      "c:\\Users\\Anderson\\miniconda3\\envs\\gnn\\lib\\site-packages\\numpy\\core\\_methods.py:198: RuntimeWarning: invalid value encountered in divide\n",
      "  ret = ret.dtype.type(ret / rcount)\n"
     ]
    },
    {
     "data": {
      "application/vnd.jupyter.widget-view+json": {
       "model_id": "f566c6d35a0b4854a7d83cf34fabe9af",
       "version_major": 2,
       "version_minor": 0
      },
      "text/plain": [
       "  0%|          | 0/5000 [00:00<?, ?it/s]"
      ]
     },
     "metadata": {},
     "output_type": "display_data"
    },
    {
     "name": "stdout",
     "output_type": "stream",
     "text": [
      "Pecanpy:4.217622995376587\n",
      "Edges: 2025\n",
      "Extend=True\n"
     ]
    },
    {
     "name": "stderr",
     "output_type": "stream",
     "text": [
      "c:\\Users\\Anderson\\miniconda3\\envs\\gnn\\lib\\site-packages\\pecanpy\\rw\\sparse_rw.py:30: RuntimeWarning: Mean of empty slice.\n",
      "  data[indptr[i] : indptr[i + 1]].mean()\n",
      "c:\\Users\\Anderson\\miniconda3\\envs\\gnn\\lib\\site-packages\\numpy\\core\\_methods.py:129: RuntimeWarning: invalid value encountered in divide\n",
      "  ret = ret.dtype.type(ret / rcount)\n",
      "c:\\Users\\Anderson\\miniconda3\\envs\\gnn\\lib\\site-packages\\numpy\\core\\_methods.py:206: RuntimeWarning: Degrees of freedom <= 0 for slice\n",
      "  ret = _var(a, axis=axis, dtype=dtype, out=out, ddof=ddof,\n",
      "c:\\Users\\Anderson\\miniconda3\\envs\\gnn\\lib\\site-packages\\numpy\\core\\_methods.py:163: RuntimeWarning: invalid value encountered in divide\n",
      "  arrmean = um.true_divide(arrmean, div, out=arrmean,\n",
      "c:\\Users\\Anderson\\miniconda3\\envs\\gnn\\lib\\site-packages\\numpy\\core\\_methods.py:198: RuntimeWarning: invalid value encountered in divide\n",
      "  ret = ret.dtype.type(ret / rcount)\n"
     ]
    },
    {
     "data": {
      "application/vnd.jupyter.widget-view+json": {
       "model_id": "ac1fba36823841cf892b59f53764b9e0",
       "version_major": 2,
       "version_minor": 0
      },
      "text/plain": [
       "  0%|          | 0/5000 [00:00<?, ?it/s]"
      ]
     },
     "metadata": {},
     "output_type": "display_data"
    },
    {
     "name": "stdout",
     "output_type": "stream",
     "text": [
      "Pecanpy:4.224615573883057\n",
      "Edges: 2025\n",
      "Extend=True\n"
     ]
    },
    {
     "name": "stderr",
     "output_type": "stream",
     "text": [
      "c:\\Users\\Anderson\\miniconda3\\envs\\gnn\\lib\\site-packages\\pecanpy\\rw\\sparse_rw.py:30: RuntimeWarning: Mean of empty slice.\n",
      "  data[indptr[i] : indptr[i + 1]].mean()\n",
      "c:\\Users\\Anderson\\miniconda3\\envs\\gnn\\lib\\site-packages\\numpy\\core\\_methods.py:129: RuntimeWarning: invalid value encountered in divide\n",
      "  ret = ret.dtype.type(ret / rcount)\n",
      "c:\\Users\\Anderson\\miniconda3\\envs\\gnn\\lib\\site-packages\\numpy\\core\\_methods.py:206: RuntimeWarning: Degrees of freedom <= 0 for slice\n",
      "  ret = _var(a, axis=axis, dtype=dtype, out=out, ddof=ddof,\n",
      "c:\\Users\\Anderson\\miniconda3\\envs\\gnn\\lib\\site-packages\\numpy\\core\\_methods.py:163: RuntimeWarning: invalid value encountered in divide\n",
      "  arrmean = um.true_divide(arrmean, div, out=arrmean,\n",
      "c:\\Users\\Anderson\\miniconda3\\envs\\gnn\\lib\\site-packages\\numpy\\core\\_methods.py:198: RuntimeWarning: invalid value encountered in divide\n",
      "  ret = ret.dtype.type(ret / rcount)\n"
     ]
    },
    {
     "data": {
      "application/vnd.jupyter.widget-view+json": {
       "model_id": "b60ba3d318b7427c865f8f98f90dae2f",
       "version_major": 2,
       "version_minor": 0
      },
      "text/plain": [
       "  0%|          | 0/5000 [00:00<?, ?it/s]"
      ]
     },
     "metadata": {},
     "output_type": "display_data"
    },
    {
     "name": "stdout",
     "output_type": "stream",
     "text": [
      "Pecanpy:4.747008323669434\n",
      "Edges: 2025\n",
      "Extend=True\n"
     ]
    },
    {
     "name": "stderr",
     "output_type": "stream",
     "text": [
      "c:\\Users\\Anderson\\miniconda3\\envs\\gnn\\lib\\site-packages\\pecanpy\\rw\\sparse_rw.py:30: RuntimeWarning: Mean of empty slice.\n",
      "  data[indptr[i] : indptr[i + 1]].mean()\n",
      "c:\\Users\\Anderson\\miniconda3\\envs\\gnn\\lib\\site-packages\\numpy\\core\\_methods.py:129: RuntimeWarning: invalid value encountered in divide\n",
      "  ret = ret.dtype.type(ret / rcount)\n",
      "c:\\Users\\Anderson\\miniconda3\\envs\\gnn\\lib\\site-packages\\numpy\\core\\_methods.py:206: RuntimeWarning: Degrees of freedom <= 0 for slice\n",
      "  ret = _var(a, axis=axis, dtype=dtype, out=out, ddof=ddof,\n",
      "c:\\Users\\Anderson\\miniconda3\\envs\\gnn\\lib\\site-packages\\numpy\\core\\_methods.py:163: RuntimeWarning: invalid value encountered in divide\n",
      "  arrmean = um.true_divide(arrmean, div, out=arrmean,\n",
      "c:\\Users\\Anderson\\miniconda3\\envs\\gnn\\lib\\site-packages\\numpy\\core\\_methods.py:198: RuntimeWarning: invalid value encountered in divide\n",
      "  ret = ret.dtype.type(ret / rcount)\n"
     ]
    },
    {
     "data": {
      "application/vnd.jupyter.widget-view+json": {
       "model_id": "ee8d42740ad04aa380e7567012022af4",
       "version_major": 2,
       "version_minor": 0
      },
      "text/plain": [
       "  0%|          | 0/5000 [00:00<?, ?it/s]"
      ]
     },
     "metadata": {},
     "output_type": "display_data"
    },
    {
     "name": "stdout",
     "output_type": "stream",
     "text": [
      "Pecanpy:4.167032957077026\n",
      "Edges: 2025\n",
      "Extend=True\n"
     ]
    },
    {
     "name": "stderr",
     "output_type": "stream",
     "text": [
      "c:\\Users\\Anderson\\miniconda3\\envs\\gnn\\lib\\site-packages\\pecanpy\\rw\\sparse_rw.py:30: RuntimeWarning: Mean of empty slice.\n",
      "  data[indptr[i] : indptr[i + 1]].mean()\n",
      "c:\\Users\\Anderson\\miniconda3\\envs\\gnn\\lib\\site-packages\\numpy\\core\\_methods.py:129: RuntimeWarning: invalid value encountered in divide\n",
      "  ret = ret.dtype.type(ret / rcount)\n",
      "c:\\Users\\Anderson\\miniconda3\\envs\\gnn\\lib\\site-packages\\numpy\\core\\_methods.py:206: RuntimeWarning: Degrees of freedom <= 0 for slice\n",
      "  ret = _var(a, axis=axis, dtype=dtype, out=out, ddof=ddof,\n",
      "c:\\Users\\Anderson\\miniconda3\\envs\\gnn\\lib\\site-packages\\numpy\\core\\_methods.py:163: RuntimeWarning: invalid value encountered in divide\n",
      "  arrmean = um.true_divide(arrmean, div, out=arrmean,\n",
      "c:\\Users\\Anderson\\miniconda3\\envs\\gnn\\lib\\site-packages\\numpy\\core\\_methods.py:198: RuntimeWarning: invalid value encountered in divide\n",
      "  ret = ret.dtype.type(ret / rcount)\n"
     ]
    },
    {
     "data": {
      "application/vnd.jupyter.widget-view+json": {
       "model_id": "5e9d2a9968ab4f1d95868bbc405b8892",
       "version_major": 2,
       "version_minor": 0
      },
      "text/plain": [
       "  0%|          | 0/5000 [00:00<?, ?it/s]"
      ]
     },
     "metadata": {},
     "output_type": "display_data"
    },
    {
     "name": "stdout",
     "output_type": "stream",
     "text": [
      "Pecanpy:4.199702739715576\n"
     ]
    }
   ],
   "source": [
    "n_train_g = 100\n",
    "\n",
    "nnodes = 500\n",
    "\n",
    "prob_edge = 1.2/(100-1)\n",
    "\n",
    "list_train_graph_orig = []\n",
    "list_train_graph = list()\n",
    "\n",
    "list_test_graph_orig  = []\n",
    "list_test_graph= list()\n",
    "\n",
    "new_graph = gnp_random_connected_graph(nnodes, prob_edge)\n",
    "graphs = [GNNSample(new_graph) for _ in trange(n_train_g)]"
   ]
  },
  {
   "cell_type": "code",
   "execution_count": 16,
   "metadata": {},
   "outputs": [],
   "source": [
    "for sample in graphs:\n",
    "    sample.ratio = 1 - (sample.mod_centrality - sample.base_centrality) / sample.base_centrality\n",
    "\n",
    "ratio_min = min(graphs, key=lambda sample: sample.ratio).ratio\n",
    "\n",
    "for sample in graphs:\n",
    "    sample.ratio_normalized = (sample.ratio - ratio_min) / (1 - ratio_min)"
   ]
  },
  {
   "cell_type": "code",
   "execution_count": 5,
   "metadata": {},
   "outputs": [
    {
     "name": "stdout",
     "output_type": "stream",
     "text": [
      "Generating Graph: 0\n",
      "Max_Node: 500\n",
      "EFF:23.63743257522583\n",
      "Edges: 4070\n",
      "Extend=True\n"
     ]
    },
    {
     "data": {
      "application/vnd.jupyter.widget-view+json": {
       "model_id": "f77cd351d21843dea890dadfeab09f48",
       "version_major": 2,
       "version_minor": 0
      },
      "text/plain": [
       "  0%|          | 0/5000 [00:00<?, ?it/s]"
      ]
     },
     "metadata": {},
     "output_type": "display_data"
    },
    {
     "name": "stdout",
     "output_type": "stream",
     "text": [
      "Pecanpy:17.872640371322632\n",
      "Generating Graph: 0\n",
      "Max_Edge: 500\n"
     ]
    },
    {
     "name": "stderr",
     "output_type": "stream",
     "text": [
      "c:\\Users\\Anderson\\Desktop\\gnn-transport\\single\\xx_AllFunctions.py:306: UserWarning: torch.sparse.SparseTensor(indices, values, shape, *, device=) is deprecated.  Please use torch.sparse_coo_tensor(indices, values, shape, dtype=, device=). (Triggered internally at C:\\cb\\pytorch_1000000000000\\work\\torch\\csrc\\utils\\tensor_new.cpp:620.)\n",
      "  return torch.sparse.FloatTensor(indices, values, shape)\n"
     ]
    },
    {
     "name": "stdout",
     "output_type": "stream",
     "text": [
      "EFF:23.158284902572632\n",
      "Generating Graph: 1\n",
      "Max_Edge: 500\n",
      "EFF:24.310339212417603\n",
      "Generating Graph: 2\n",
      "Max_Edge: 500\n",
      "EFF:25.143789529800415\n",
      "Generating Graph: 3\n",
      "Max_Edge: 500\n",
      "EFF:24.45358896255493\n",
      "Generating Graph: 4\n",
      "Max_Edge: 500\n",
      "EFF:24.400417804718018\n",
      "Generating Graph: 5\n",
      "Max_Edge: 500\n",
      "EFF:24.633171558380127\n",
      "Generating Graph: 6\n",
      "Max_Edge: 500\n",
      "EFF:24.020379543304443\n",
      "Generating Graph: 7\n",
      "Max_Edge: 500\n",
      "EFF:24.260612726211548\n",
      "Generating Graph: 8\n",
      "Max_Edge: 500\n",
      "EFF:23.748554468154907\n",
      "Generating Graph: 9\n",
      "Max_Edge: 500\n",
      "EFF:24.029935598373413\n",
      "Generating Graph: 10\n",
      "Max_Edge: 500\n",
      "EFF:24.266023874282837\n",
      "Generating Graph: 11\n",
      "Max_Edge: 500\n",
      "EFF:23.340346574783325\n",
      "Generating Graph: 12\n",
      "Max_Edge: 500\n",
      "EFF:24.22432827949524\n",
      "Generating Graph: 13\n",
      "Max_Edge: 500\n",
      "EFF:24.360738277435303\n",
      "Generating Graph: 14\n",
      "Max_Edge: 500\n",
      "EFF:24.108261585235596\n",
      "Generating Graph: 15\n",
      "Max_Edge: 500\n",
      "EFF:24.219799041748047\n",
      "Generating Graph: 16\n",
      "Max_Edge: 500\n",
      "EFF:24.16679620742798\n",
      "Generating Graph: 17\n",
      "Max_Edge: 500\n",
      "EFF:24.31426429748535\n",
      "Generating Graph: 18\n",
      "Max_Edge: 500\n",
      "EFF:24.728806257247925\n",
      "Generating Graph: 19\n",
      "Max_Edge: 500\n",
      "EFF:24.9648175239563\n",
      "Generating Graph: 20\n",
      "Max_Edge: 500\n",
      "EFF:24.194472312927246\n",
      "Generating Graph: 21\n",
      "Max_Edge: 500\n",
      "EFF:24.00013828277588\n",
      "Generating Graph: 22\n",
      "Max_Edge: 500\n",
      "EFF:24.05625605583191\n",
      "Generating Graph: 23\n",
      "Max_Edge: 500\n",
      "EFF:24.21918225288391\n",
      "Generating Graph: 24\n",
      "Max_Edge: 500\n",
      "EFF:24.3262779712677\n",
      "Generating Graph: 25\n",
      "Max_Edge: 500\n",
      "EFF:24.111178636550903\n",
      "Generating Graph: 26\n",
      "Max_Edge: 500\n",
      "EFF:24.189613103866577\n",
      "Generating Graph: 27\n",
      "Max_Edge: 500\n",
      "EFF:24.109914779663086\n",
      "Generating Graph: 28\n",
      "Max_Edge: 500\n",
      "EFF:24.02601146697998\n",
      "Generating Graph: 29\n",
      "Max_Edge: 500\n",
      "EFF:25.060452222824097\n",
      "Generating Graph: 30\n",
      "Max_Edge: 500\n",
      "EFF:24.733553171157837\n",
      "Generating Graph: 31\n",
      "Max_Edge: 500\n",
      "EFF:24.566522121429443\n",
      "Generating Graph: 32\n",
      "Max_Edge: 500\n",
      "EFF:24.9873263835907\n",
      "Generating Graph: 33\n",
      "Max_Edge: 500\n",
      "EFF:24.51686978340149\n",
      "Generating Graph: 34\n",
      "Max_Edge: 500\n",
      "EFF:24.30416178703308\n",
      "Generating Graph: 35\n",
      "Max_Edge: 500\n",
      "EFF:25.833938598632812\n",
      "Generating Graph: 36\n",
      "Max_Edge: 500\n",
      "EFF:24.17617893218994\n",
      "Generating Graph: 37\n",
      "Max_Edge: 500\n",
      "EFF:24.25932812690735\n",
      "Generating Graph: 38\n",
      "Max_Edge: 500\n",
      "EFF:24.109949350357056\n",
      "Generating Graph: 39\n",
      "Max_Edge: 500\n",
      "EFF:24.145591020584106\n",
      "Generating Graph: 40\n",
      "Max_Edge: 500\n",
      "EFF:24.316784858703613\n",
      "Generating Graph: 41\n",
      "Max_Edge: 500\n",
      "EFF:24.66383194923401\n",
      "Generating Graph: 42\n",
      "Max_Edge: 500\n",
      "EFF:24.88991117477417\n",
      "Generating Graph: 43\n",
      "Max_Edge: 500\n",
      "EFF:24.588356018066406\n",
      "Generating Graph: 44\n",
      "Max_Edge: 500\n",
      "EFF:24.131875038146973\n",
      "Generating Graph: 45\n",
      "Max_Edge: 500\n",
      "EFF:24.072718381881714\n",
      "Generating Graph: 46\n",
      "Max_Edge: 500\n",
      "EFF:24.128114223480225\n",
      "Generating Graph: 47\n",
      "Max_Edge: 500\n",
      "EFF:24.082936763763428\n",
      "Generating Graph: 48\n",
      "Max_Edge: 500\n",
      "EFF:23.936535596847534\n",
      "Generating Graph: 49\n",
      "Max_Edge: 500\n",
      "EFF:24.11454463005066\n",
      "Generating Graph: 50\n",
      "Max_Edge: 500\n",
      "EFF:24.546175241470337\n",
      "Generating Graph: 51\n",
      "Max_Edge: 500\n",
      "EFF:24.130900144577026\n",
      "Generating Graph: 52\n",
      "Max_Edge: 500\n",
      "EFF:23.992430210113525\n",
      "Generating Graph: 53\n",
      "Max_Edge: 500\n",
      "EFF:24.290199518203735\n",
      "Generating Graph: 54\n",
      "Max_Edge: 500\n",
      "EFF:24.32565474510193\n",
      "Generating Graph: 55\n",
      "Max_Edge: 500\n",
      "EFF:24.731210947036743\n",
      "Generating Graph: 56\n",
      "Max_Edge: 500\n",
      "EFF:25.587321281433105\n",
      "Generating Graph: 57\n",
      "Max_Edge: 500\n",
      "EFF:24.4736750125885\n",
      "Generating Graph: 58\n",
      "Max_Edge: 500\n",
      "EFF:24.403956651687622\n",
      "Generating Graph: 59\n",
      "Max_Edge: 500\n",
      "EFF:24.636049270629883\n",
      "Generating Graph: 60\n",
      "Max_Edge: 500\n",
      "EFF:25.244304180145264\n",
      "Generating Graph: 61\n",
      "Max_Edge: 500\n",
      "EFF:23.42438840866089\n",
      "Generating Graph: 62\n",
      "Max_Edge: 500\n",
      "EFF:24.30301856994629\n",
      "Generating Graph: 63\n",
      "Max_Edge: 500\n",
      "EFF:24.92055344581604\n",
      "Generating Graph: 64\n",
      "Max_Edge: 500\n",
      "EFF:25.858143091201782\n",
      "Generating Graph: 65\n",
      "Max_Edge: 500\n",
      "EFF:25.599265813827515\n",
      "Generating Graph: 66\n",
      "Max_Edge: 500\n",
      "EFF:25.02269434928894\n",
      "Generating Graph: 67\n",
      "Max_Edge: 500\n",
      "EFF:24.68302297592163\n",
      "Generating Graph: 68\n",
      "Max_Edge: 500\n",
      "EFF:24.46702241897583\n",
      "Generating Graph: 69\n",
      "Max_Edge: 500\n",
      "EFF:24.953957557678223\n",
      "Generating Graph: 70\n",
      "Max_Edge: 500\n",
      "EFF:24.115241289138794\n",
      "Generating Graph: 71\n",
      "Max_Edge: 500\n",
      "EFF:24.332595348358154\n",
      "Generating Graph: 72\n",
      "Max_Edge: 500\n",
      "EFF:24.103629112243652\n",
      "Generating Graph: 73\n",
      "Max_Edge: 500\n",
      "EFF:24.195950269699097\n",
      "Generating Graph: 74\n",
      "Max_Edge: 500\n",
      "EFF:24.129961013793945\n",
      "Generating Graph: 75\n",
      "Max_Edge: 500\n",
      "EFF:24.287183046340942\n",
      "Generating Graph: 76\n",
      "Max_Edge: 500\n",
      "EFF:24.100460529327393\n",
      "Generating Graph: 77\n",
      "Max_Edge: 500\n",
      "EFF:24.076321363449097\n",
      "Generating Graph: 78\n",
      "Max_Edge: 500\n",
      "EFF:24.19649076461792\n",
      "Generating Graph: 79\n",
      "Max_Edge: 500\n",
      "EFF:24.861077070236206\n",
      "Generating Graph: 80\n",
      "Max_Edge: 500\n",
      "EFF:24.56633424758911\n",
      "Generating Graph: 81\n",
      "Max_Edge: 500\n",
      "EFF:23.905220985412598\n",
      "Generating Graph: 82\n",
      "Max_Edge: 500\n",
      "EFF:24.604553937911987\n",
      "Generating Graph: 83\n",
      "Max_Edge: 500\n",
      "EFF:24.172011375427246\n",
      "Generating Graph: 84\n",
      "Max_Edge: 500\n",
      "EFF:23.952821969985962\n",
      "Generating Graph: 85\n",
      "Max_Edge: 500\n",
      "EFF:24.03279137611389\n",
      "Generating Graph: 86\n",
      "Max_Edge: 500\n",
      "EFF:24.432504415512085\n",
      "Generating Graph: 87\n",
      "Max_Edge: 500\n",
      "EFF:24.88074779510498\n",
      "Generating Graph: 88\n",
      "Max_Edge: 500\n",
      "EFF:24.906014680862427\n",
      "Generating Graph: 89\n",
      "Max_Edge: 500\n",
      "EFF:24.15596318244934\n",
      "Generating Graph: 90\n",
      "Max_Edge: 500\n",
      "EFF:24.468847274780273\n",
      "Generating Graph: 91\n",
      "Max_Edge: 500\n",
      "EFF:24.097231149673462\n",
      "Generating Graph: 92\n",
      "Max_Edge: 500\n",
      "EFF:24.233867406845093\n",
      "Generating Graph: 93\n",
      "Max_Edge: 500\n",
      "EFF:24.175259590148926\n",
      "Generating Graph: 94\n",
      "Max_Edge: 500\n",
      "EFF:23.939595222473145\n",
      "Generating Graph: 95\n",
      "Max_Edge: 500\n",
      "EFF:24.15549373626709\n",
      "Generating Graph: 96\n",
      "Max_Edge: 500\n",
      "EFF:24.03024458885193\n",
      "Generating Graph: 97\n",
      "Max_Edge: 500\n",
      "EFF:24.325048208236694\n",
      "Generating Graph: 98\n",
      "Max_Edge: 500\n",
      "EFF:24.094173431396484\n",
      "Generating Graph: 99\n",
      "Max_Edge: 500\n",
      "EFF:24.109612703323364\n"
     ]
    }
   ],
   "source": [
    "max_model_no = len(new_graph.nodes)*1\n",
    "\n",
    "\n",
    "\n",
    "pfilename=\"orig1.edg\"\n",
    "\n",
    "\n",
    "list_edge_index_train_orig,list_edge_weight_train_orig, eff_mat_train_orig, list_fm_train_orig = get_adjacency_feature_centrality(list_train_graph_orig, max_model_no,pfilename=pfilename)#,total_sum_orig)\n",
    "list_edge_index_test_orig,list_edge_weight_test_orig, eff_mat_test_orig, list_fm_test_orig = get_adjacency_feature_centrality(list_test_graph_orig, max_model_no,pfilename=pfilename)#,total_sum_orig)\n",
    "  \n",
    "list_edge_index_train,list_edge_weight_train, eff_mat_train= get_adjacency_centrality(list_train_graph, max_model_no)#,total_sum_orig)\n",
    "list_edge_index_test,list_edge_weight_test, eff_mat_test = get_adjacency_centrality(list_test_graph, max_model_no)#,total_sum_orig)\n",
    "\n",
    "\n",
    "eff_mat_final_train=1-(eff_mat_train-eff_mat_train_orig)/eff_mat_train_orig\n",
    "eff_mat_final_test=1-(eff_mat_test-eff_mat_test_orig)/eff_mat_test_orig\n",
    "\n",
    "\n",
    "\n",
    "eff_mat_final_complete=np.concatenate([eff_mat_final_train,eff_mat_final_test],axis=1)\n",
    "\n",
    "\n",
    "\n",
    "eff_mat_final_complete_scaled = (eff_mat_final_complete - np.min(eff_mat_final_complete)) / (1 - np.min(eff_mat_final_complete))\n",
    "\n",
    "\n",
    "\n",
    "\n",
    "eff_mat_final_train_scaled=eff_mat_final_complete_scaled[0,0:2000].reshape(1,-1)\n",
    "eff_mat_final_test_scaled=eff_mat_final_complete_scaled[0,2000:].reshape(1,-1)"
   ]
  },
  {
   "cell_type": "code",
   "execution_count": 18,
   "metadata": {},
   "outputs": [],
   "source": [
    "with open(r'./graph_data_train_class.pickle', 'wb') as handle:\n",
    "    pickle.dump(graphs, handle, protocol=pickle.HIGHEST_PROTOCOL)"
   ]
  },
  {
   "cell_type": "code",
   "execution_count": null,
   "metadata": {},
   "outputs": [],
   "source": []
  }
 ],
 "metadata": {
  "kernelspec": {
   "display_name": "gnn",
   "language": "python",
   "name": "python3"
  },
  "language_info": {
   "codemirror_mode": {
    "name": "ipython",
    "version": 3
   },
   "file_extension": ".py",
   "mimetype": "text/x-python",
   "name": "python",
   "nbconvert_exporter": "python",
   "pygments_lexer": "ipython3",
   "version": "3.9.18"
  }
 },
 "nbformat": 4,
 "nbformat_minor": 2
}

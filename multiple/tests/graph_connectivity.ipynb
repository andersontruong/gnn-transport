{
 "cells": [
  {
   "cell_type": "code",
   "execution_count": 1,
   "metadata": {},
   "outputs": [],
   "source": [
    "import numpy as np\n",
    "from graphcuda import generate_random_adjacency_matrix\n",
    "import networkx as nx\n",
    "import cupy"
   ]
  },
  {
   "cell_type": "code",
   "execution_count": 30,
   "metadata": {},
   "outputs": [],
   "source": [
    "n_nodes = 1000\n",
    "prob_edge = 1.2/(100-1)\n",
    "\n",
    "A = generate_random_adjacency_matrix(n_nodes, prob_edge)\n",
    "\n",
    "# A = np.array([[0, 1, 0], [1, 0, 0], [0, 0, 0]])"
   ]
  },
  {
   "cell_type": "code",
   "execution_count": 33,
   "metadata": {},
   "outputs": [
    {
     "name": "stdout",
     "output_type": "stream",
     "text": [
      "True\n"
     ]
    }
   ],
   "source": [
    "A_gpu = cupy.array(A)\n",
    "\n",
    "D = cupy.count_nonzero(A_gpu, axis=0)\n",
    "D = cupy.diag(D)\n",
    "\n",
    "L = D - cupy.where(A_gpu > 0.0, 1, 0)\n",
    "\n",
    "eig = cupy.linalg.eigh(L)\n",
    "_, fiedler, *_ = cupy.partition(eig[0], 1)\n",
    "print(fiedler > 0.0)\n"
   ]
  },
  {
   "cell_type": "code",
   "execution_count": 35,
   "metadata": {},
   "outputs": [
    {
     "data": {
      "text/plain": [
       "True"
      ]
     },
     "execution_count": 35,
     "metadata": {},
     "output_type": "execute_result"
    }
   ],
   "source": [
    "nx.is_connected(nx.from_numpy_array(A))"
   ]
  },
  {
   "cell_type": "code",
   "execution_count": null,
   "metadata": {},
   "outputs": [],
   "source": []
  }
 ],
 "metadata": {
  "kernelspec": {
   "display_name": "gnn",
   "language": "python",
   "name": "python3"
  },
  "language_info": {
   "codemirror_mode": {
    "name": "ipython",
    "version": 3
   },
   "file_extension": ".py",
   "mimetype": "text/x-python",
   "name": "python",
   "nbconvert_exporter": "python",
   "pygments_lexer": "ipython3",
   "version": "3.9.18"
  }
 },
 "nbformat": 4,
 "nbformat_minor": 2
}

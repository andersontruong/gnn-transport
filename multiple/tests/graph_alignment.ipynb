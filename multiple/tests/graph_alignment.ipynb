{
 "cells": [
  {
   "cell_type": "markdown",
   "metadata": {},
   "source": [
    "# Comparing 3 Graph Alignment Implementations"
   ]
  },
  {
   "cell_type": "code",
   "execution_count": 2,
   "metadata": {},
   "outputs": [
    {
     "name": "stderr",
     "output_type": "stream",
     "text": [
      "c:\\Users\\Anderson\\miniconda3\\envs\\gnn\\lib\\site-packages\\graspologic\\models\\edge_swaps.py:215: NumbaDeprecationWarning: \u001b[1mThe keyword argument 'nopython=False' was supplied. From Numba 0.59.0 the default is being changed to True and use of 'nopython=False' will raise a warning as the argument will have no effect. See https://numba.readthedocs.io/en/stable/reference/deprecation.html#deprecation-of-object-mode-fall-back-behaviour-when-using-jit for details.\u001b[0m\n",
      "  _edge_swap_numba = nb.jit(_edge_swap, nopython=False)\n"
     ]
    }
   ],
   "source": [
    "from graphcuda import generate_random_adjacency_matrix\n",
    "\n",
    "from faqap import minimize\n",
    "import wlalign\n",
    "from graspologic.match import graph_match\n",
    "import numpy as np\n",
    "from numba import cuda\n",
    "import math\n",
    "import time\n",
    "from tqdm import tqdm"
   ]
  },
  {
   "cell_type": "code",
   "execution_count": 3,
   "metadata": {},
   "outputs": [
    {
     "name": "stdout",
     "output_type": "stream",
     "text": [
      "Frobenius Norm between graphs A, B: 3615.32\n"
     ]
    }
   ],
   "source": [
    "n_nodes = 1000\n",
    "prob_edge = 1.2/(100-1)\n",
    "\n",
    "A = generate_random_adjacency_matrix(n_nodes, prob_edge)\n",
    "B = generate_random_adjacency_matrix(n_nodes, prob_edge)\n",
    "\n",
    "frob_norm = np.linalg.norm(A - B)\n",
    "print(f'Frobenius Norm between graphs A, B: {frob_norm:.02f}')"
   ]
  },
  {
   "cell_type": "code",
   "execution_count": 4,
   "metadata": {},
   "outputs": [],
   "source": [
    "n_runs = 10"
   ]
  },
  {
   "cell_type": "markdown",
   "metadata": {},
   "source": [
    "## FAQAP"
   ]
  },
  {
   "cell_type": "code",
   "execution_count": 338,
   "metadata": {},
   "outputs": [
    {
     "name": "stderr",
     "output_type": "stream",
     "text": [
      "                                                                                                    "
     ]
    },
    {
     "name": "stdout",
     "output_type": "stream",
     "text": [
      "Frobenius Norm from FAQAP: 3711.97\n",
      "\tin 2.9460s\n"
     ]
    },
    {
     "name": "stderr",
     "output_type": "stream",
     "text": [
      "\r"
     ]
    }
   ],
   "source": [
    "avg_time_faqap = 0\n",
    "avg_norm_faqaq = 0\n",
    "\n",
    "for _ in tqdm(range(n_runs), position=0, desc='N', leave=False, ncols=100):\n",
    "    start = time.perf_counter()\n",
    "    perm = minimize(A, B, descents_count=1).x\n",
    "    end = time.perf_counter()\n",
    "    avg_time_faqap += end - start\n",
    "\n",
    "    P = np.zeros_like(A)\n",
    "    P[perm, np.arange(len(A))] = 1\n",
    "\n",
    "    B_perm = P.T @ B @ P\n",
    "\n",
    "    frob_norm_faqap = np.linalg.norm(A - B_perm)\n",
    "    avg_norm_faqaq += frob_norm_faqap\n",
    "    \n",
    "avg_time_faqap /= n_runs\n",
    "avg_norm_faqaq /= n_runs\n",
    "\n",
    "print(f'Frobenius Norm from FAQAP: {avg_norm_faqaq:.02f}')\n",
    "print(f'\\tin {avg_time_faqap:.4f}s')"
   ]
  },
  {
   "cell_type": "markdown",
   "metadata": {},
   "source": [
    "## Graspologic"
   ]
  },
  {
   "cell_type": "code",
   "execution_count": 344,
   "metadata": {},
   "outputs": [
    {
     "name": "stderr",
     "output_type": "stream",
     "text": [
      "                                                                                                    "
     ]
    },
    {
     "name": "stdout",
     "output_type": "stream",
     "text": [
      "Frobenius Norm from Graspologic: 1988.62\n",
      "\tin 11.7364s\n"
     ]
    },
    {
     "name": "stderr",
     "output_type": "stream",
     "text": [
      "\r"
     ]
    }
   ],
   "source": [
    "avg_time_grasp = 0\n",
    "avg_norm_grasp = 0\n",
    "\n",
    "for _ in tqdm(range(n_runs), position=0, desc='N', leave=False, ncols=100):\n",
    "    start = time.perf_counter()\n",
    "    perm = graph_match(A, B, max_iter=30, rng=42)\n",
    "    end = time.perf_counter()\n",
    "    avg_time_grasp += end - start\n",
    "\n",
    "    P = np.zeros_like(A)\n",
    "    P[perm.indices_B, np.arange(len(A))] = 1\n",
    "\n",
    "    B_perm = P.T @ B @ P\n",
    "\n",
    "    frob_norm_grasp = np.linalg.norm(A - B_perm)\n",
    "    avg_norm_grasp += frob_norm_grasp\n",
    "\n",
    "avg_time_grasp /= n_runs\n",
    "avg_norm_grasp /= n_runs\n",
    "\n",
    "print(f'Frobenius Norm from Graspologic: {avg_norm_grasp:.02f}')\n",
    "print(f'\\tin {avg_time_grasp:.4f}s')"
   ]
  },
  {
   "cell_type": "markdown",
   "metadata": {},
   "source": [
    "## WL-Align"
   ]
  },
  {
   "cell_type": "code",
   "execution_count": 340,
   "metadata": {},
   "outputs": [
    {
     "name": "stderr",
     "output_type": "stream",
     "text": [
      "                                                                                                    "
     ]
    },
    {
     "name": "stdout",
     "output_type": "stream",
     "text": [
      "Frobenius Norm from WLALIGN: 3716.53\n",
      "\tin 24.2599s\n"
     ]
    },
    {
     "name": "stderr",
     "output_type": "stream",
     "text": [
      "\r"
     ]
    }
   ],
   "source": [
    "avg_time_wlalign = 0\n",
    "avg_norm_wlalign = 0\n",
    "\n",
    "for _ in tqdm(range(n_runs), position=0, desc='N', leave=False, ncols=100):\n",
    "    start = time.perf_counter()\n",
    "    alignment = wlalign.wl_align(A, B, k=2, l=2)\n",
    "    end = time.perf_counter()\n",
    "    avg_time_wlalign += end - start\n",
    "    P = np.zeros_like(A)\n",
    "    P[alignment.T[0], alignment.T[1]] = 1\n",
    "\n",
    "    B_perm = P.T @ B @ P\n",
    "\n",
    "    frob_norm_wlalign = np.linalg.norm(A - B_perm)\n",
    "    avg_norm_wlalign += frob_norm_wlalign\n",
    "\n",
    "avg_time_wlalign /= n_runs\n",
    "avg_norm_wlalign /= n_runs\n",
    "\n",
    "print(f'Frobenius Norm from WLALIGN: {avg_norm_wlalign:.02f}')\n",
    "print(f'\\tin {avg_time_wlalign:.4f}s')"
   ]
  },
  {
   "cell_type": "markdown",
   "metadata": {},
   "source": [
    "# Faster Graph Alignment"
   ]
  },
  {
   "cell_type": "code",
   "execution_count": 341,
   "metadata": {},
   "outputs": [],
   "source": [
    "from scipy.sparse import csr_array\n",
    "from scipy.optimize import linear_sum_assignment"
   ]
  },
  {
   "cell_type": "markdown",
   "metadata": {},
   "source": [
    "## Bare-bones Graspologic Implementation"
   ]
  },
  {
   "cell_type": "code",
   "execution_count": 347,
   "metadata": {},
   "outputs": [
    {
     "name": "stderr",
     "output_type": "stream",
     "text": [
      "                                                                                                    "
     ]
    },
    {
     "name": "stdout",
     "output_type": "stream",
     "text": [
      "3.864244399999734\n"
     ]
    },
    {
     "name": "stderr",
     "output_type": "stream",
     "text": [
      "\r"
     ]
    },
    {
     "data": {
      "text/plain": [
       "2246.5126760943713"
      ]
     },
     "execution_count": 347,
     "metadata": {},
     "output_type": "execute_result"
    }
   ],
   "source": [
    "# only A_nn, B_nn are non-zero\n",
    "# perm_A = np.arange(n_nodes)\n",
    "# perm_B = np.arange(n_nodes)\n",
    "# no need to perm\n",
    "def lsa(P: np.ndarray, rng: np.random.Generator, n_nodes) -> np.ndarray:\n",
    "    row_perm = rng.permutation(n_nodes)\n",
    "    undo_row_perm = np.argsort(row_perm)\n",
    "    P_perm = P[row_perm]\n",
    "    _, permutation = linear_sum_assignment(P_perm, maximize=True)\n",
    "    permutation = permutation[undo_row_perm]\n",
    "    return permutation\n",
    "\n",
    "rng = np.random.default_rng(42)\n",
    "tol = 0.03\n",
    "\n",
    "start = time.perf_counter()\n",
    "P = np.full((n_nodes, n_nodes), 1 / n_nodes)\n",
    "for n in tqdm(range(10), position=0, desc='N', leave=False, ncols=100):\n",
    "    gradient = A @ P @ B.T + A.T @ P @ B\n",
    "\n",
    "    # Linear sum assignment\n",
    "    permutation = lsa(gradient, rng, n_nodes)\n",
    "\n",
    "    # Compute step direction\n",
    "    Q = np.eye(n_nodes)[permutation]\n",
    "\n",
    "    # Compute alpha\n",
    "    R = P - Q\n",
    "    AR = A @ R\n",
    "    RB = R @ B\n",
    "    a = (AR * RB).sum()\n",
    "    b = ((A @ Q) * RB).sum() + (AR * (Q @ B)).sum()\n",
    "    \n",
    "    if -a > 0 and 0 <= -b / (2 * a) <= 1:\n",
    "        alpha = -b / (2 * a)\n",
    "    else:\n",
    "        alpha = float(np.argmin([0, -(b + a)]))\n",
    "\n",
    "    # Take step in direction\n",
    "    P_new = alpha * P + (1 - alpha) * Q\n",
    "\n",
    "    # Converged?\n",
    "    if np.linalg.norm(P - P_new) / np.sqrt(n_nodes) < tol:\n",
    "        P = P_new\n",
    "        break\n",
    "\n",
    "    P = P_new\n",
    "\n",
    "# Finalize\n",
    "permutation = lsa(P, rng, n_nodes)\n",
    "end = time.perf_counter()\n",
    "\n",
    "P = np.zeros_like(A)\n",
    "P[permutation, np.arange(len(A))] = 1\n",
    "\n",
    "B_perm = P.T @ B @ P\n",
    "\n",
    "frob_norm_faster = np.linalg.norm(A - B_perm)\n",
    "print(end - start)\n",
    "frob_norm_faster"
   ]
  },
  {
   "cell_type": "markdown",
   "metadata": {},
   "source": [
    "## GPU-Accelerated bare-bones"
   ]
  },
  {
   "cell_type": "code",
   "execution_count": 348,
   "metadata": {},
   "outputs": [
    {
     "name": "stderr",
     "output_type": "stream",
     "text": [
      "                                                                                                    "
     ]
    },
    {
     "name": "stdout",
     "output_type": "stream",
     "text": [
      "1.92087249999895\n"
     ]
    },
    {
     "name": "stderr",
     "output_type": "stream",
     "text": [
      "\r"
     ]
    },
    {
     "data": {
      "text/plain": [
       "array(2246.51024054)"
      ]
     },
     "execution_count": 348,
     "metadata": {},
     "output_type": "execute_result"
    }
   ],
   "source": [
    "import cupy\n",
    "\n",
    "def lsa(P: cupy.ndarray, rng: np.random.Generator, n_nodes) -> np.ndarray:\n",
    "    row_perm = rng.permutation(n_nodes)\n",
    "    undo_row_perm = cupy.argsort(row_perm)\n",
    "    P_perm = cupy.asnumpy(P[row_perm])\n",
    "    _, permutation = linear_sum_assignment(P_perm, maximize=True)\n",
    "    permutation = permutation[undo_row_perm]\n",
    "    return permutation\n",
    "\n",
    "rng = np.random.default_rng(42)\n",
    "tol = 0.03\n",
    "A_gpu = cupy.array(A)\n",
    "B_gpu = cupy.array(B)\n",
    "start = time.perf_counter()\n",
    "P = cupy.full((n_nodes, n_nodes), 1 / n_nodes)\n",
    "for n in tqdm(range(10), position=0, desc='N', leave=False, ncols=100):\n",
    "    gradient = A_gpu @ P @ B_gpu.T + A_gpu.T @ P @ B_gpu\n",
    "\n",
    "    # Linear sum assignment\n",
    "    permutation = lsa(gradient, rng, n_nodes)\n",
    "\n",
    "    # Compute step direction\n",
    "    Q = cupy.eye(n_nodes)[permutation]\n",
    "\n",
    "    # Compute alpha\n",
    "    R = P - Q\n",
    "    AR = A_gpu @ R\n",
    "    RB = R @ B_gpu\n",
    "    a = (AR * RB).sum()\n",
    "    b = ((A_gpu @ Q) * RB).sum() + (AR * (Q @ B_gpu)).sum()\n",
    "    \n",
    "    if -a > 0 and 0 <= -b / (2 * a) <= 1:\n",
    "        alpha = -b / (2 * a)\n",
    "    else:\n",
    "        alpha = float(np.argmin([0, -(cupy.asnumpy(b) + cupy.asnumpy(a))]))\n",
    "\n",
    "    # Take step in direction\n",
    "    P_new = alpha * P + (1 - alpha) * Q\n",
    "\n",
    "    # # Converged?\n",
    "    # if cupy.linalg.norm(P - P_new) / cupy.sqrt(n_nodes) < tol:\n",
    "    #     P = P_new\n",
    "    #     break\n",
    "\n",
    "    P = P_new\n",
    "\n",
    "# Finalize\n",
    "permutation = lsa(P, rng, n_nodes)\n",
    "end = time.perf_counter()\n",
    "\n",
    "P = cupy.zeros_like(A)\n",
    "P[permutation, cupy.arange(len(A))] = 1\n",
    "\n",
    "B_perm = P.T @ B_gpu @ P\n",
    "\n",
    "frob_norm_faster = cupy.linalg.norm(A_gpu - B_perm)\n",
    "print(end - start)\n",
    "frob_norm_faster"
   ]
  },
  {
   "cell_type": "code",
   "execution_count": null,
   "metadata": {},
   "outputs": [],
   "source": [
    "n_nodes = 1000\n",
    "prob_edge = 1.2/(100-1)\n",
    "\n",
    "A = generate_random_adjacency_matrix(n_nodes, prob_edge)\n",
    "B = generate_random_adjacency_matrix(n_nodes, prob_edge)\n",
    "\n",
    "frob_norm = np.linalg.norm(A - B)\n",
    "print(f'Frobenius Norm between graphs A, B: {frob_norm:.02f}')"
   ]
  },
  {
   "cell_type": "code",
   "execution_count": null,
   "metadata": {},
   "outputs": [],
   "source": [
    "\n",
    "avg_time_grasp += end - start\n",
    "\n",
    "P = np.zeros_like(A)\n",
    "P[perm.indices_B, np.arange(len(A))] = 1\n",
    "\n",
    "B_perm = P.T @ B @ P\n",
    "\n",
    "frob_norm_grasp = np.linalg.norm(A - B_perm)\n",
    "avg_norm_grasp += frob_norm_grasp"
   ]
  },
  {
   "cell_type": "code",
   "execution_count": 7,
   "metadata": {},
   "outputs": [
    {
     "name": "stderr",
     "output_type": "stream",
     "text": [
      "100%|██████████| 7/7 [04:47<00:00, 41.14s/it]\n"
     ]
    }
   ],
   "source": [
    "from graphcuda import faq_align\n",
    "\n",
    "nodes = [100, 500, 1000, 1500, 2000, 3000, 4000]\n",
    "\n",
    "faq_times = []\n",
    "for n_nodes in tqdm(nodes):\n",
    "    prob_edge = 1.2/(100-1)\n",
    "\n",
    "    A = generate_random_adjacency_matrix(n_nodes, prob_edge)\n",
    "    B = generate_random_adjacency_matrix(n_nodes, prob_edge)\n",
    "\n",
    "\n",
    "    start = time.perf_counter()\n",
    "    B_aligned = faq_align(A, B)\n",
    "    end = time.perf_counter()\n",
    "    faq_times.append(end - start)\n"
   ]
  },
  {
   "cell_type": "code",
   "execution_count": 8,
   "metadata": {},
   "outputs": [
    {
     "name": "stderr",
     "output_type": "stream",
     "text": [
      "100%|██████████| 7/7 [12:56<00:00, 110.96s/it]\n"
     ]
    }
   ],
   "source": [
    "nodes = [100, 500, 1000, 1500, 2000, 3000, 4000]\n",
    "\n",
    "grasp_times = []\n",
    "for n_nodes in tqdm(nodes):\n",
    "    prob_edge = 1.2/(100-1)\n",
    "\n",
    "    A = generate_random_adjacency_matrix(n_nodes, prob_edge)\n",
    "    B = generate_random_adjacency_matrix(n_nodes, prob_edge)\n",
    "\n",
    "\n",
    "    start = time.perf_counter()\n",
    "    B_aligned = graph_match(A, B, max_iter=30, rng=42)\n",
    "    end = time.perf_counter()\n",
    "    grasp_times.append(end - start)"
   ]
  },
  {
   "cell_type": "code",
   "execution_count": 10,
   "metadata": {},
   "outputs": [
    {
     "data": {
      "text/plain": [
       "[<matplotlib.lines.Line2D at 0x1b96e197b50>]"
      ]
     },
     "execution_count": 10,
     "metadata": {},
     "output_type": "execute_result"
    },
    {
     "data": {
      "image/png": "[encoded data removed]",
      "text/plain": [
       "<Figure size 640x480 with 1 Axes>"
      ]
     },
     "metadata": {},
     "output_type": "display_data"
    }
   ],
   "source": [
    "import matplotlib.pyplot as plt\n",
    "plt.plot(faq_times, label='FAQ')\n",
    "plt.plot(grasp_times, label=\"GRASP\")"
   ]
  },
  {
   "cell_type": "code",
   "execution_count": 11,
   "metadata": {},
   "outputs": [
    {
     "data": {
      "text/plain": [
       "array([0.32736128, 3.96362599, 3.51731615, 3.18552294, 2.96596472,\n",
       "       2.79925283, 2.57920132])"
      ]
     },
     "execution_count": 11,
     "metadata": {},
     "output_type": "execute_result"
    }
   ],
   "source": [
    "np.array(grasp_times) / np.array(faq_times)"
   ]
  },
  {
   "cell_type": "code",
   "execution_count": null,
   "metadata": {},
   "outputs": [],
   "source": [
    "grasp_t = 0\n",
    "faq_t = 0\n",
    "\n",
    "prob_edge = 1.2/(100-1)\n",
    "n_nodes = 5000\n",
    "\n",
    "A = generate_random_adjacency_matrix(n_nodes, prob_edge)\n",
    "B = generate_random_adjacency_matrix(n_nodes, prob_edge)\n",
    "\n",
    "start = time.perf_counter()\n",
    "B_aligned = graph_match(A, B, max_iter=30, rng=42)\n",
    "end = time.perf_counter()\n",
    "\n",
    "start = time.perf_counter()\n",
    "B_aligned = faq_align(A, B)\n",
    "end = time.perf_counter()"
   ]
  }
 ],
 "metadata": {
  "kernelspec": {
   "display_name": "gnn",
   "language": "python",
   "name": "python3"
  },
  "language_info": {
   "codemirror_mode": {
    "name": "ipython",
    "version": 3
   },
   "file_extension": ".py",
   "mimetype": "text/x-python",
   "name": "python",
   "nbconvert_exporter": "python",
   "pygments_lexer": "ipython3",
   "version": "3.9.18"
  }
 },
 "nbformat": 4,
 "nbformat_minor": 2
}

{
 "cells": [
  {
   "cell_type": "code",
   "execution_count": 13,
   "metadata": {},
   "outputs": [],
   "source": [
    "from numba import cuda\n",
    "from graphcuda import generate_random_adjacency_matrix, faq_align, faq_align_perm\n",
    "import time, math"
   ]
  },
  {
   "cell_type": "code",
   "execution_count": 14,
   "metadata": {},
   "outputs": [],
   "source": [
    "@cuda.jit\n",
    "def permute_graph(indices, input_graph, output_graph):\n",
    "    x, y = cuda.grid(2)\n",
    "    size = indices.shape[0]\n",
    "\n",
    "    if x >= size or y >= size:\n",
    "        return\n",
    "    \n",
    "    # Swap row\n",
    "    output_graph[indices[y], indices[x]] = input_graph[y, x]"
   ]
  },
  {
   "cell_type": "code",
   "execution_count": 20,
   "metadata": {},
   "outputs": [],
   "source": [
    "n_nodes = 2000\n",
    "prob_edge = 1.2/(100-1)\n",
    "\n",
    "A = generate_random_adjacency_matrix(n_nodes, prob_edge)\n",
    "B = generate_random_adjacency_matrix(n_nodes, prob_edge)"
   ]
  },
  {
   "cell_type": "code",
   "execution_count": 21,
   "metadata": {},
   "outputs": [
    {
     "data": {
      "text/plain": [
       "24.170089200000007"
      ]
     },
     "execution_count": 21,
     "metadata": {},
     "output_type": "execute_result"
    }
   ],
   "source": [
    "block_dim = 16\n",
    "grid_dim = math.ceil(A.shape[0] / block_dim)\n",
    "\n",
    "ori_g = cuda.to_device(B)\n",
    "new_g = cuda.device_array_like(ori_g)\n",
    "\n",
    "start = time.perf_counter()\n",
    "perm = faq_align_perm(A, B)\n",
    "permute_graph[(grid_dim, grid_dim), (block_dim, block_dim)](perm, ori_g, new_g)\n",
    "end = time.perf_counter()\n",
    "\n",
    "end - start"
   ]
  },
  {
   "cell_type": "code",
   "execution_count": 22,
   "metadata": {},
   "outputs": [
    {
     "data": {
      "text/plain": [
       "24.374855199999956"
      ]
     },
     "execution_count": 22,
     "metadata": {},
     "output_type": "execute_result"
    }
   ],
   "source": [
    "start = time.perf_counter()\n",
    "B_aligned = faq_align(A, B)\n",
    "end = time.perf_counter()\n",
    "end - start"
   ]
  }
 ],
 "metadata": {
  "kernelspec": {
   "display_name": "gnn",
   "language": "python",
   "name": "python3"
  },
  "language_info": {
   "codemirror_mode": {
    "name": "ipython",
    "version": 3
   },
   "file_extension": ".py",
   "mimetype": "text/x-python",
   "name": "python",
   "nbconvert_exporter": "python",
   "pygments_lexer": "ipython3",
   "version": "3.9.18"
  }
 },
 "nbformat": 4,
 "nbformat_minor": 2
}
